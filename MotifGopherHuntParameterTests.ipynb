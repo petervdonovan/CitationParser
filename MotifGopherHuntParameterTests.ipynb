{
 "metadata": {
  "language_info": {
   "codemirror_mode": {
    "name": "ipython",
    "version": 3
   },
   "file_extension": ".py",
   "mimetype": "text/x-python",
   "name": "python",
   "nbconvert_exporter": "python",
   "pygments_lexer": "ipython3",
   "version": "3.8.5-final"
  },
  "orig_nbformat": 2,
  "kernelspec": {
   "name": "python38564bitenvc31c73c96afe4f1890ea91f3c6f6cb75",
   "display_name": "Python 3.8.5 64-bit ('env')",
   "language": "python"
  }
 },
 "nbformat": 4,
 "nbformat_minor": 2,
 "cells": [
  {
   "source": [
    "# MotifGopherTests\n",
    "\n",
    "This notebook should be regarded as scratch work, to be used for debugging, testing, and documenting the development process. It is not intended to be polished."
   ],
   "cell_type": "markdown",
   "metadata": {}
  },
  {
   "cell_type": "code",
   "execution_count": 1,
   "metadata": {},
   "outputs": [],
   "source": [
    "import os\n",
    "import random\n",
    "import pickle\n",
    "import matplotlib.pyplot as plt\n",
    "import numpy as np\n",
    "\n",
    "from MotifGopher.MotifGopher import MotifGopher\n",
    "\n",
    "N = 5000000000\n",
    "\n",
    "with open(os.path.join('..', 'datasets', 'occ_45K_train.pickle'), 'rb') \\\n",
    "        as dbfile:\n",
    "    texts = list(pickle.load(dbfile).raw)\n",
    "    if N < len(texts):\n",
    "        texts = random.sample(texts, N)"
   ]
  },
  {
   "source": [
    "## Tinkering With Hunting Parameters"
   ],
   "cell_type": "markdown",
   "metadata": {}
  },
  {
   "source": [
    "### Tinkering with THRESH"
   ],
   "cell_type": "markdown",
   "metadata": {}
  },
  {
   "cell_type": "code",
   "execution_count": 2,
   "metadata": {},
   "outputs": [],
   "source": [
    "gopher0 = MotifGopher(\n",
    "    texts,\n",
    "    thresh=0.1,\n",
    "    confidence=0.99,\n",
    "    r=0.75,\n",
    "    saveto='MotifGopher'\n",
    ")"
   ]
  },
  {
   "cell_type": "code",
   "execution_count": 3,
   "metadata": {
    "tags": [
     "outputPrepend"
    ]
   },
   "outputs": [
    {
     "output_type": "stream",
     "name": "stdout",
     "text": [
      "lar to \"OI: 10.\"\n",
      "Hang in there. 30.00% finished after 1317.06 seconds. 7500 motifs checked and 633 motifs found.\n",
      "DEBUG: \"7, \" too similar to \"7,\"\n",
      "Hang in there. 30.40% finished after 1327.95 seconds. 7600 motifs checked and 635 motifs found.\n",
      "DEBUG: \"rma\" too similar to \"rm\"\n",
      "Hang in there. 30.80% finished after 1343.20 seconds. 7700 motifs checked and 637 motifs found.\n",
      "DEBUG: \"ty \" too similar to \"ty\"\n",
      "DEBUG: \"s, \" too similar to \"s,\"\n",
      "Hang in there. 31.20% finished after 1364.10 seconds. 7800 motifs checked and 642 motifs found.\n",
      "DEBUG: \"9, \" too similar to \"9,\"\n",
      "Hang in there. 31.60% finished after 1381.16 seconds. 7900 motifs checked and 648 motifs found.\n",
      "DEBUG: \"ment\" too similar to \"men\"\n",
      "DEBUG: \"on, \" too similar to \"on,\"\n",
      "Hang in there. 32.00% finished after 1398.80 seconds. 8000 motifs checked and 652 motifs found.\n",
      "DEBUG: \"r,\" too similar to \"r, \"\n",
      "DEBUG: \"M,\" too similar to \"M, \"\n",
      "Hang in there. 32.40% finished after 1410.06 seconds. 8100 motifs checked and 655 motifs found.\n",
      "DEBUG: \"e in\" too similar to \"e i\"\n",
      "DEBUG: \"d,\" too similar to \"d, \"\n",
      "Hang in there. 32.80% finished after 1426.90 seconds. 8200 motifs checked and 658 motifs found.\n",
      "DEBUG: \"q\" too similar to \"qu\"\n",
      "Hang in there. 33.20% finished after 1442.05 seconds. 8300 motifs checked and 662 motifs found.\n",
      "DEBUG: \"2,\" too similar to \"2, \"\n",
      "Hang in there. 33.60% finished after 1451.11 seconds. 8400 motifs checked and 663 motifs found.\n",
      "Hang in there. 34.00% finished after 1462.36 seconds. 8500 motifs checked and 665 motifs found.\n",
      "Hang in there. 34.40% finished after 1475.14 seconds. 8600 motifs checked and 667 motifs found.\n",
      "Hang in there. 34.80% finished after 1482.12 seconds. 8700 motifs checked and 668 motifs found.\n",
      "Hang in there. 35.20% finished after 1495.66 seconds. 8800 motifs checked and 672 motifs found.\n",
      "DEBUG: \"with\" too similar to \"wit\"\n",
      "DEBUG: \"olo\" too similar to \"olog\"\n",
      "Hang in there. 35.60% finished after 1505.03 seconds. 8900 motifs checked and 673 motifs found.\n",
      "DEBUG: \"H,\" too similar to \"H, \"\n",
      "DEBUG: \", A,\" too similar to \", A, \"\n",
      "DEBUG: \"l, \" too similar to \"l,\"\n",
      "DEBUG: \"ical \" too similar to \"ical\"\n",
      "Hang in there. 36.00% finished after 1519.86 seconds. 9000 motifs checked and 675 motifs found.\n",
      "DEBUG: \"C,\" too similar to \"C, \"\n",
      "Hang in there. 36.40% finished after 1523.31 seconds. 9100 motifs checked and 675 motifs found.\n",
      "DEBUG: \"0, \" too similar to \"0,\"\n",
      "Hang in there. 36.80% finished after 1534.91 seconds. 9200 motifs checked and 677 motifs found.\n",
      "Hang in there. 37.20% finished after 1547.52 seconds. 9300 motifs checked and 680 motifs found.\n",
      "Hang in there. 37.60% finished after 1561.75 seconds. 9400 motifs checked and 683 motifs found.\n",
      "Hang in there. 38.00% finished after 1569.06 seconds. 9500 motifs checked and 684 motifs found.\n",
      "Hang in there. 38.40% finished after 1576.45 seconds. 9600 motifs checked and 684 motifs found.\n",
      "Hang in there. 38.80% finished after 1586.22 seconds. 9700 motifs checked and 685 motifs found.\n",
      "Hang in there. 39.20% finished after 1601.08 seconds. 9800 motifs checked and 688 motifs found.\n",
      "DEBUG: \", PM\" too similar to \", PMID\"\n",
      "DEBUG: \"t,\" too similar to \"t, \"\n",
      "Hang in there. 39.60% finished after 1612.25 seconds. 9900 motifs checked and 690 motifs found.\n",
      "Hang in there. 40.00% finished after 1626.95 seconds. 10000 motifs checked and 694 motifs found.\n",
      "DEBUG: \", DOI: 1\" too similar to \", DO\"\n",
      "DEBUG: \". PMID:\" too similar to \". PMID\"\n",
      "Hang in there. 40.40% finished after 1633.13 seconds. 10100 motifs checked and 694 motifs found.\n",
      "DEBUG: \"DOI: 10\" too similar to \"DOI: 10.1\"\n",
      "Hang in there. 40.80% finished after 1644.10 seconds. 10200 motifs checked and 696 motifs found.\n",
      "Hang in there. 41.20% finished after 1666.15 seconds. 10300 motifs checked and 699 motifs found.\n",
      "DEBUG: \"o,\" too similar to \"o, \"\n",
      "Hang in there. 41.60% finished after 1678.71 seconds. 10400 motifs checked and 701 motifs found.\n",
      "Hang in there. 42.00% finished after 1692.26 seconds. 10500 motifs checked and 703 motifs found.\n",
      "DEBUG: \" for \" too similar to \" fo\"\n",
      "Hang in there. 42.40% finished after 1700.40 seconds. 10600 motifs checked and 704 motifs found.\n",
      "DEBUG: \": 10\" too similar to \": 10.\"\n",
      "DEBUG: \"er, \" too similar to \"er,\"\n",
      "Hang in there. 42.80% finished after 1711.61 seconds. 10700 motifs checked and 706 motifs found.\n",
      "Hang in there. 43.20% finished after 1718.16 seconds. 10800 motifs checked and 707 motifs found.\n",
      "DEBUG: \" PMID:\" too similar to \" PMID: \"\n",
      "Hang in there. 43.60% finished after 1736.37 seconds. 10900 motifs checked and 710 motifs found.\n",
      "Hang in there. 44.00% finished after 1755.21 seconds. 11000 motifs checked and 714 motifs found.\n",
      "Hang in there. 44.40% finished after 1767.34 seconds. 11100 motifs checked and 716 motifs found.\n",
      "Hang in there. 44.80% finished after 1773.69 seconds. 11200 motifs checked and 716 motifs found.\n",
      "DEBUG: \"cel\" too similar to \"cell\"\n",
      "Hang in there. 45.20% finished after 1788.05 seconds. 11300 motifs checked and 719 motifs found.\n",
      "DEBUG: \"P,\" too similar to \"P, \"\n",
      "DEBUG: \"(201\" too similar to \"(20\"\n",
      "Hang in there. 45.60% finished after 1801.24 seconds. 11400 motifs checked and 720 motifs found.\n",
      "DEBUG: \"DOI\" too similar to \"DOI: 10.1\"\n",
      "Hang in there. 46.00% finished after 1811.65 seconds. 11500 motifs checked and 722 motifs found.\n",
      "Hang in there. 46.40% finished after 1814.95 seconds. 11600 motifs checked and 722 motifs found.\n",
      "Hang in there. 46.80% finished after 1824.78 seconds. 11700 motifs checked and 724 motifs found.\n",
      "DEBUG: \"ance\" too similar to \"anc\"\n",
      "Hang in there. 47.20% finished after 1832.65 seconds. 11800 motifs checked and 724 motifs found.\n",
      "Hang in there. 47.60% finished after 1839.81 seconds. 11900 motifs checked and 725 motifs found.\n",
      "DEBUG: \"n t\" too similar to \"n th\"\n",
      "Hang in there. 48.00% finished after 1849.52 seconds. 12000 motifs checked and 726 motifs found.\n",
      "Hang in there. 48.40% finished after 1858.35 seconds. 12100 motifs checked and 727 motifs found.\n",
      "Hang in there. 48.80% finished after 1865.73 seconds. 12200 motifs checked and 729 motifs found.\n",
      "Hang in there. 49.20% finished after 1869.41 seconds. 12300 motifs checked and 730 motifs found.\n",
      "DEBUG: \" J,\" too similar to \" J, \"\n",
      "Hang in there. 49.60% finished after 1877.04 seconds. 12400 motifs checked and 730 motifs found.\n",
      "DEBUG: \"on of \" too similar to \"on of\"\n",
      "Hang in there. 50.00% finished after 1888.16 seconds. 12500 motifs checked and 733 motifs found.\n",
      "DEBUG: \"for\" too similar to \"fo\"\n",
      "Hang in there. 50.40% finished after 1892.07 seconds. 12600 motifs checked and 734 motifs found.\n",
      "DEBUG: \"n the \" too similar to \"n th\"\n",
      "Hang in there. 50.80% finished after 1899.79 seconds. 12700 motifs checked and 735 motifs found.\n",
      "Hang in there. 51.20% finished after 1907.22 seconds. 12800 motifs checked and 737 motifs found.\n",
      "Hang in there. 51.60% finished after 1915.46 seconds. 12900 motifs checked and 739 motifs found.\n",
      "Hang in there. 52.00% finished after 1931.20 seconds. 13000 motifs checked and 743 motifs found.\n",
      "DEBUG: \", DOI: \" too similar to \", DOI: 1\"\n",
      "Hang in there. 52.40% finished after 1939.72 seconds. 13100 motifs checked and 744 motifs found.\n",
      "Hang in there. 52.80% finished after 1951.20 seconds. 13200 motifs checked and 747 motifs found.\n",
      "DEBUG: \"K,\" too similar to \"K, \"\n",
      "DEBUG: \"tiv\" too similar to \"tive\"\n",
      "Hang in there. 53.20% finished after 1958.80 seconds. 13300 motifs checked and 748 motifs found.\n",
      "DEBUG: \"101\" too similar to \"1016\"\n",
      "Hang in there. 53.60% finished after 1976.71 seconds. 13400 motifs checked and 753 motifs found.\n",
      "Hang in there. 54.00% finished after 1980.46 seconds. 13500 motifs checked and 754 motifs found.\n",
      "Hang in there. 54.40% finished after 1992.13 seconds. 13600 motifs checked and 757 motifs found.\n",
      "Hang in there. 54.80% finished after 2002.49 seconds. 13700 motifs checked and 759 motifs found.\n",
      "Hang in there. 55.20% finished after 2009.53 seconds. 13800 motifs checked and 761 motifs found.\n",
      "Hang in there. 55.60% finished after 2022.54 seconds. 13900 motifs checked and 764 motifs found.\n",
      "Hang in there. 56.00% finished after 2026.68 seconds. 14000 motifs checked and 765 motifs found.\n",
      "Hang in there. 56.40% finished after 2031.65 seconds. 14100 motifs checked and 766 motifs found.\n",
      "Hang in there. 56.80% finished after 2033.07 seconds. 14200 motifs checked and 766 motifs found.\n",
      "DEBUG: \", DOI:\" too similar to \", DOI: 1\"\n",
      "Hang in there. 57.20% finished after 2038.52 seconds. 14300 motifs checked and 767 motifs found.\n",
      "Hang in there. 57.60% finished after 2047.26 seconds. 14400 motifs checked and 769 motifs found.\n",
      "DEBUG: \"f t\" too similar to \"f th\"\n",
      "Hang in there. 58.00% finished after 2061.42 seconds. 14500 motifs checked and 772 motifs found.\n",
      "DEBUG: \"s in\" too similar to \"s i\"\n",
      "DEBUG: \" 10.1\" too similar to \" 10.\"\n",
      "Hang in there. 58.40% finished after 2075.16 seconds. 14600 motifs checked and 774 motifs found.\n",
      "Hang in there. 58.80% finished after 2085.76 seconds. 14700 motifs checked and 776 motifs found.\n",
      "Hang in there. 59.20% finished after 2095.63 seconds. 14800 motifs checked and 778 motifs found.\n",
      "DEBUG: \" the \" too similar to \" the\"\n",
      "Hang in there. 59.60% finished after 2101.68 seconds. 14900 motifs checked and 779 motifs found.\n",
      "DEBUG: \"sion\" too similar to \"sio\"\n",
      "Hang in there. 60.00% finished after 2110.13 seconds. 15000 motifs checked and 780 motifs found.\n",
      "Hang in there. 60.40% finished after 2120.09 seconds. 15100 motifs checked and 782 motifs found.\n",
      "Hang in there. 60.80% finished after 2129.97 seconds. 15200 motifs checked and 784 motifs found.\n",
      "Hang in there. 61.20% finished after 2134.24 seconds. 15300 motifs checked and 785 motifs found.\n",
      "Hang in there. 61.60% finished after 2138.14 seconds. 15400 motifs checked and 786 motifs found.\n",
      "Hang in there. 62.00% finished after 2140.79 seconds. 15500 motifs checked and 786 motifs found.\n",
      "Hang in there. 62.40% finished after 2148.18 seconds. 15600 motifs checked and 788 motifs found.\n",
      "Hang in there. 62.80% finished after 2159.00 seconds. 15700 motifs checked and 790 motifs found.\n",
      "Hang in there. 63.20% finished after 2164.67 seconds. 15800 motifs checked and 791 motifs found.\n",
      "Hang in there. 63.60% finished after 2168.16 seconds. 15900 motifs checked and 791 motifs found.\n",
      "Hang in there. 64.00% finished after 2172.97 seconds. 16000 motifs checked and 792 motifs found.\n",
      "DEBUG: \"of the\" too similar to \"of the \"\n",
      "Hang in there. 64.40% finished after 2180.08 seconds. 16100 motifs checked and 793 motifs found.\n",
      "Hang in there. 64.80% finished after 2188.97 seconds. 16200 motifs checked and 795 motifs found.\n",
      "DEBUG: \" M,\" too similar to \" M, \"\n",
      "Hang in there. 65.20% finished after 2191.85 seconds. 16300 motifs checked and 795 motifs found.\n",
      "Hang in there. 65.60% finished after 2193.11 seconds. 16400 motifs checked and 795 motifs found.\n",
      "Hang in there. 66.00% finished after 2208.73 seconds. 16500 motifs checked and 798 motifs found.\n",
      "DEBUG: \" S,\" too similar to \" S, \"\n",
      "DEBUG: \"e of \" too similar to \"e of\"\n",
      "Hang in there. 66.40% finished after 2219.12 seconds. 16600 motifs checked and 799 motifs found.\n",
      "Hang in there. 66.80% finished after 2226.72 seconds. 16700 motifs checked and 801 motifs found.\n",
      "DEBUG: \"tion of \" too similar to \"tion o\"\n",
      "Hang in there. 67.20% finished after 2232.95 seconds. 16800 motifs checked and 801 motifs found.\n",
      "Hang in there. 67.60% finished after 2239.01 seconds. 16900 motifs checked and 802 motifs found.\n",
      "Hang in there. 68.00% finished after 2240.33 seconds. 17000 motifs checked and 802 motifs found.\n",
      "Hang in there. 68.40% finished after 2243.65 seconds. 17100 motifs checked and 802 motifs found.\n",
      "Hang in there. 68.80% finished after 2251.45 seconds. 17200 motifs checked and 803 motifs found.\n",
      "Hang in there. 69.20% finished after 2255.58 seconds. 17300 motifs checked and 803 motifs found.\n",
      "DEBUG: \"I: 10.\" too similar to \"I: 10\"\n",
      "DEBUG: \"ng, \" too similar to \"ng,\"\n",
      "Hang in there. 69.60% finished after 2271.56 seconds. 17400 motifs checked and 805 motifs found.\n",
      "DEBUG: \", M,\" too similar to \", M, \"\n",
      "Hang in there. 70.00% finished after 2280.41 seconds. 17500 motifs checked and 806 motifs found.\n",
      "Hang in there. 70.40% finished after 2286.56 seconds. 17600 motifs checked and 807 motifs found.\n",
      "DEBUG: \"). \" too similar to \").\"\n",
      "Hang in there. 70.80% finished after 2296.74 seconds. 17700 motifs checked and 809 motifs found.\n",
      "Hang in there. 71.20% finished after 2308.11 seconds. 17800 motifs checked and 811 motifs found.\n",
      "Hang in there. 71.60% finished after 2312.52 seconds. 17900 motifs checked and 811 motifs found.\n",
      "Hang in there. 72.00% finished after 2317.39 seconds. 18000 motifs checked and 812 motifs found.\n",
      "Hang in there. 72.40% finished after 2324.80 seconds. 18100 motifs checked and 813 motifs found.\n",
      "Hang in there. 72.80% finished after 2325.83 seconds. 18200 motifs checked and 813 motifs found.\n",
      "Hang in there. 73.20% finished after 2332.66 seconds. 18300 motifs checked and 814 motifs found.\n",
      "DEBUG: \"g,\" too similar to \"g, \"\n",
      "Hang in there. 73.60% finished after 2340.91 seconds. 18400 motifs checked and 815 motifs found.\n",
      "Hang in there. 74.00% finished after 2342.19 seconds. 18500 motifs checked and 815 motifs found.\n",
      "Hang in there. 74.40% finished after 2351.15 seconds. 18600 motifs checked and 816 motifs found.\n",
      "DEBUG: \"OI: 10.1\" too similar to \"OI: 10.\"\n",
      "Hang in there. 74.80% finished after 2357.13 seconds. 18700 motifs checked and 816 motifs found.\n",
      "DEBUG: \"DOI: \" too similar to \"DOI: 10.1\"\n",
      "Hang in there. 75.20% finished after 2364.81 seconds. 18800 motifs checked and 817 motifs found.\n",
      "Hang in there. 75.60% finished after 2375.02 seconds. 18900 motifs checked and 819 motifs found.\n",
      "DEBUG: \"e, \" too similar to \"e,\"\n",
      "DEBUG: \"of th\" too similar to \"of the \"\n",
      "Hang in there. 76.00% finished after 2385.47 seconds. 19000 motifs checked and 820 motifs found.\n",
      "DEBUG: \" J.\" too similar to \" J. \"\n",
      "Hang in there. 76.40% finished after 2392.00 seconds. 19100 motifs checked and 820 motifs found.\n",
      "Hang in there. 76.80% finished after 2402.68 seconds. 19200 motifs checked and 822 motifs found.\n",
      "Hang in there. 77.20% finished after 2412.11 seconds. 19300 motifs checked and 824 motifs found.\n",
      "DEBUG: \"R, \" too similar to \"R,\"\n",
      "Hang in there. 77.60% finished after 2423.43 seconds. 19400 motifs checked and 825 motifs found.\n",
      "DEBUG: \"of t\" too similar to \"of the \"\n",
      "Hang in there. 78.00% finished after 2432.89 seconds. 19500 motifs checked and 826 motifs found.\n",
      "Hang in there. 78.40% finished after 2435.82 seconds. 19600 motifs checked and 826 motifs found.\n",
      "Hang in there. 78.80% finished after 2438.68 seconds. 19700 motifs checked and 826 motifs found.\n",
      "DEBUG: \"n i\" too similar to \"n in\"\n",
      "Hang in there. 79.20% finished after 2441.91 seconds. 19800 motifs checked and 826 motifs found.\n",
      "DEBUG: \"ted \" too similar to \"ted\"\n",
      "DEBUG: \"cal \" too similar to \"cal\"\n",
      "Hang in there. 79.60% finished after 2449.79 seconds. 19900 motifs checked and 826 motifs found.\n",
      "Hang in there. 80.00% finished after 2456.35 seconds. 20000 motifs checked and 827 motifs found.\n",
      "Hang in there. 80.40% finished after 2460.28 seconds. 20100 motifs checked and 827 motifs found.\n",
      "Hang in there. 80.80% finished after 2471.78 seconds. 20200 motifs checked and 829 motifs found.\n",
      "DEBUG: \"ion of \" too similar to \"ion of\"\n",
      "DEBUG: \"/j.\" too similar to \"/j\"\n",
      "Hang in there. 81.20% finished after 2485.61 seconds. 20300 motifs checked and 831 motifs found.\n",
      "Hang in there. 81.60% finished after 2487.03 seconds. 20400 motifs checked and 831 motifs found.\n",
      "Hang in there. 82.00% finished after 2490.22 seconds. 20500 motifs checked and 831 motifs found.\n",
      "Hang in there. 82.40% finished after 2503.18 seconds. 20600 motifs checked and 833 motifs found.\n",
      "DEBUG: \"(2\" too similar to \"(201\"\n",
      "Hang in there. 82.80% finished after 2507.42 seconds. 20700 motifs checked and 833 motifs found.\n",
      "Hang in there. 83.20% finished after 2509.73 seconds. 20800 motifs checked and 833 motifs found.\n",
      "DEBUG: \"DOI: 1\" too similar to \"DOI: 10.1\"\n",
      "Hang in there. 83.60% finished after 2517.54 seconds. 20900 motifs checked and 834 motifs found.\n",
      "DEBUG: \"ffe\" too similar to \"ff\"\n",
      "Hang in there. 84.00% finished after 2522.20 seconds. 21000 motifs checked and 834 motifs found.\n",
      "Hang in there. 84.40% finished after 2523.31 seconds. 21100 motifs checked and 834 motifs found.\n",
      "DEBUG: \"016\" too similar to \"016/\"\n",
      "Hang in there. 84.80% finished after 2540.21 seconds. 21200 motifs checked and 836 motifs found.\n",
      "Hang in there. 85.20% finished after 2543.09 seconds. 21300 motifs checked and 836 motifs found.\n",
      "Hang in there. 85.60% finished after 2551.27 seconds. 21400 motifs checked and 838 motifs found.\n",
      "Hang in there. 86.00% finished after 2552.13 seconds. 21500 motifs checked and 838 motifs found.\n",
      "Hang in there. 86.40% finished after 2553.32 seconds. 21600 motifs checked and 838 motifs found.\n",
      "DEBUG: \"s. \" too similar to \"s.\"\n",
      "Hang in there. 86.80% finished after 2558.34 seconds. 21700 motifs checked and 838 motifs found.\n",
      "Hang in there. 87.20% finished after 2560.73 seconds. 21800 motifs checked and 838 motifs found.\n",
      "Hang in there. 87.60% finished after 2562.09 seconds. 21900 motifs checked and 838 motifs found.\n",
      "DEBUG: \"ion o\" too similar to \"ion of \"\n",
      "Hang in there. 88.00% finished after 2566.45 seconds. 22000 motifs checked and 838 motifs found.\n",
      "DEBUG: \"J.\" too similar to \"J. \"\n",
      "Hang in there. 88.40% finished after 2569.14 seconds. 22100 motifs checked and 838 motifs found.\n",
      "Hang in there. 88.80% finished after 2575.81 seconds. 22200 motifs checked and 839 motifs found.\n",
      "Hang in there. 89.20% finished after 2577.14 seconds. 22300 motifs checked and 839 motifs found.\n",
      "Hang in there. 89.60% finished after 2578.31 seconds. 22400 motifs checked and 839 motifs found.\n",
      "Hang in there. 90.00% finished after 2581.10 seconds. 22500 motifs checked and 839 motifs found.\n",
      "Hang in there. 90.40% finished after 2599.67 seconds. 22600 motifs checked and 842 motifs found.\n",
      "Hang in there. 90.80% finished after 2601.75 seconds. 22700 motifs checked and 842 motifs found.\n",
      "Hang in there. 91.20% finished after 2603.62 seconds. 22800 motifs checked and 842 motifs found.\n",
      "Hang in there. 91.60% finished after 2604.62 seconds. 22900 motifs checked and 842 motifs found.\n",
      "Hang in there. 92.00% finished after 2616.61 seconds. 23000 motifs checked and 844 motifs found.\n",
      "Hang in there. 92.40% finished after 2618.35 seconds. 23100 motifs checked and 844 motifs found.\n",
      "Hang in there. 92.80% finished after 2627.03 seconds. 23200 motifs checked and 845 motifs found.\n",
      "Hang in there. 93.20% finished after 2629.21 seconds. 23300 motifs checked and 845 motifs found.\n",
      "DEBUG: \"f the\" too similar to \"f th\"\n",
      "Hang in there. 93.60% finished after 2637.44 seconds. 23400 motifs checked and 846 motifs found.\n",
      "Hang in there. 94.00% finished after 2639.91 seconds. 23500 motifs checked and 846 motifs found.\n",
      "Hang in there. 94.40% finished after 2640.84 seconds. 23600 motifs checked and 846 motifs found.\n",
      "DEBUG: \", DOI: 10\" too similar to \", DOI: 1\"\n",
      "Hang in there. 94.80% finished after 2645.84 seconds. 23700 motifs checked and 846 motifs found.\n",
      "Hang in there. 95.20% finished after 2652.51 seconds. 23800 motifs checked and 847 motifs found.\n",
      "Hang in there. 95.60% finished after 2657.37 seconds. 23900 motifs checked and 848 motifs found.\n",
      "Hang in there. 96.00% finished after 2663.27 seconds. 24000 motifs checked and 849 motifs found.\n",
      "Hang in there. 96.40% finished after 2664.87 seconds. 24100 motifs checked and 849 motifs found.\n",
      "Hang in there. 96.80% finished after 2667.34 seconds. 24200 motifs checked and 849 motifs found.\n",
      "Hang in there. 97.20% finished after 2671.89 seconds. 24300 motifs checked and 850 motifs found.\n",
      "DEBUG: \" of t\" too similar to \" of the\"\n",
      "Hang in there. 97.60% finished after 2679.10 seconds. 24400 motifs checked and 851 motifs found.\n",
      "Hang in there. 98.00% finished after 2681.57 seconds. 24500 motifs checked and 851 motifs found.\n",
      "Hang in there. 98.40% finished after 2684.47 seconds. 24600 motifs checked and 851 motifs found.\n",
      "Hang in there. 98.80% finished after 2688.32 seconds. 24700 motifs checked and 851 motifs found.\n",
      "Hang in there. 99.20% finished after 2693.73 seconds. 24800 motifs checked and 852 motifs found.\n",
      "DEBUG: \"doi: \" too similar to \"doi:\"\n",
      "Hang in there. 99.60% finished after 2704.65 seconds. 24900 motifs checked and 853 motifs found.\n"
     ]
    },
    {
     "output_type": "display_data",
     "data": {
      "text/plain": "<Figure size 432x288 with 1 Axes>",
      "image/svg+xml": "<?xml version=\"1.0\" encoding=\"utf-8\" standalone=\"no\"?>\n<!DOCTYPE svg PUBLIC \"-//W3C//DTD SVG 1.1//EN\"\n  \"http://www.w3.org/Graphics/SVG/1.1/DTD/svg11.dtd\">\n<!-- Created with matplotlib (https://matplotlib.org/) -->\n<svg height=\"248.518125pt\" version=\"1.1\" viewBox=\"0 0 386.845312 248.518125\" width=\"386.845312pt\" xmlns=\"http://www.w3.org/2000/svg\" xmlns:xlink=\"http://www.w3.org/1999/xlink\">\n <metadata>\n  <rdf:RDF xmlns:cc=\"http://creativecommons.org/ns#\" xmlns:dc=\"http://purl.org/dc/elements/1.1/\" xmlns:rdf=\"http://www.w3.org/1999/02/22-rdf-syntax-ns#\">\n   <cc:Work>\n    <dc:type rdf:resource=\"http://purl.org/dc/dcmitype/StillImage\"/>\n    <dc:date>2021-03-18T23:41:51.127513</dc:date>\n    <dc:format>image/svg+xml</dc:format>\n    <dc:creator>\n     <cc:Agent>\n      <dc:title>Matplotlib v3.3.4, https://matplotlib.org/</dc:title>\n     </cc:Agent>\n    </dc:creator>\n   </cc:Work>\n  </rdf:RDF>\n </metadata>\n <defs>\n  <style type=\"text/css\">*{stroke-linecap:butt;stroke-linejoin:round;}</style>\n </defs>\n <g id=\"figure_1\">\n  <g id=\"patch_1\">\n   <path d=\"M 0 248.518125 \nL 386.845312 248.518125 \nL 386.845312 0 \nL 0 0 \nz\n\" style=\"fill:none;\"/>\n  </g>\n  <g id=\"axes_1\">\n   <g id=\"patch_2\">\n    <path d=\"M 44.845313 224.64 \nL 379.645313 224.64 \nL 379.645313 7.2 \nL 44.845313 7.2 \nz\n\" style=\"fill:#ffffff;\"/>\n   </g>\n   <g id=\"matplotlib.axis_1\">\n    <g id=\"xtick_1\">\n     <g id=\"line2d_1\">\n      <defs>\n       <path d=\"M 0 0 \nL 0 3.5 \n\" id=\"m1aa6f9893e\" style=\"stroke:#000000;stroke-width:0.8;\"/>\n      </defs>\n      <g>\n       <use style=\"stroke:#000000;stroke-width:0.8;\" x=\"90.499858\" xlink:href=\"#m1aa6f9893e\" y=\"224.64\"/>\n      </g>\n     </g>\n     <g id=\"text_1\">\n      <!-- −0.04 -->\n      <g transform=\"translate(75.177202 239.238437)scale(0.1 -0.1)\">\n       <defs>\n        <path d=\"M 10.59375 35.5 \nL 73.1875 35.5 \nL 73.1875 27.203125 \nL 10.59375 27.203125 \nz\n\" id=\"DejaVuSans-8722\"/>\n        <path d=\"M 31.78125 66.40625 \nQ 24.171875 66.40625 20.328125 58.90625 \nQ 16.5 51.421875 16.5 36.375 \nQ 16.5 21.390625 20.328125 13.890625 \nQ 24.171875 6.390625 31.78125 6.390625 \nQ 39.453125 6.390625 43.28125 13.890625 \nQ 47.125 21.390625 47.125 36.375 \nQ 47.125 51.421875 43.28125 58.90625 \nQ 39.453125 66.40625 31.78125 66.40625 \nz\nM 31.78125 74.21875 \nQ 44.046875 74.21875 50.515625 64.515625 \nQ 56.984375 54.828125 56.984375 36.375 \nQ 56.984375 17.96875 50.515625 8.265625 \nQ 44.046875 -1.421875 31.78125 -1.421875 \nQ 19.53125 -1.421875 13.0625 8.265625 \nQ 6.59375 17.96875 6.59375 36.375 \nQ 6.59375 54.828125 13.0625 64.515625 \nQ 19.53125 74.21875 31.78125 74.21875 \nz\n\" id=\"DejaVuSans-48\"/>\n        <path d=\"M 10.6875 12.40625 \nL 21 12.40625 \nL 21 0 \nL 10.6875 0 \nz\n\" id=\"DejaVuSans-46\"/>\n        <path d=\"M 37.796875 64.3125 \nL 12.890625 25.390625 \nL 37.796875 25.390625 \nz\nM 35.203125 72.90625 \nL 47.609375 72.90625 \nL 47.609375 25.390625 \nL 58.015625 25.390625 \nL 58.015625 17.1875 \nL 47.609375 17.1875 \nL 47.609375 0 \nL 37.796875 0 \nL 37.796875 17.1875 \nL 4.890625 17.1875 \nL 4.890625 26.703125 \nz\n\" id=\"DejaVuSans-52\"/>\n       </defs>\n       <use xlink:href=\"#DejaVuSans-8722\"/>\n       <use x=\"83.789062\" xlink:href=\"#DejaVuSans-48\"/>\n       <use x=\"147.412109\" xlink:href=\"#DejaVuSans-46\"/>\n       <use x=\"179.199219\" xlink:href=\"#DejaVuSans-48\"/>\n       <use x=\"242.822266\" xlink:href=\"#DejaVuSans-52\"/>\n      </g>\n     </g>\n    </g>\n    <g id=\"xtick_2\">\n     <g id=\"line2d_2\">\n      <g>\n       <use style=\"stroke:#000000;stroke-width:0.8;\" x=\"151.372585\" xlink:href=\"#m1aa6f9893e\" y=\"224.64\"/>\n      </g>\n     </g>\n     <g id=\"text_2\">\n      <!-- −0.02 -->\n      <g transform=\"translate(136.049929 239.238437)scale(0.1 -0.1)\">\n       <defs>\n        <path d=\"M 19.1875 8.296875 \nL 53.609375 8.296875 \nL 53.609375 0 \nL 7.328125 0 \nL 7.328125 8.296875 \nQ 12.9375 14.109375 22.625 23.890625 \nQ 32.328125 33.6875 34.8125 36.53125 \nQ 39.546875 41.84375 41.421875 45.53125 \nQ 43.3125 49.21875 43.3125 52.78125 \nQ 43.3125 58.59375 39.234375 62.25 \nQ 35.15625 65.921875 28.609375 65.921875 \nQ 23.96875 65.921875 18.8125 64.3125 \nQ 13.671875 62.703125 7.8125 59.421875 \nL 7.8125 69.390625 \nQ 13.765625 71.78125 18.9375 73 \nQ 24.125 74.21875 28.421875 74.21875 \nQ 39.75 74.21875 46.484375 68.546875 \nQ 53.21875 62.890625 53.21875 53.421875 \nQ 53.21875 48.921875 51.53125 44.890625 \nQ 49.859375 40.875 45.40625 35.40625 \nQ 44.1875 33.984375 37.640625 27.21875 \nQ 31.109375 20.453125 19.1875 8.296875 \nz\n\" id=\"DejaVuSans-50\"/>\n       </defs>\n       <use xlink:href=\"#DejaVuSans-8722\"/>\n       <use x=\"83.789062\" xlink:href=\"#DejaVuSans-48\"/>\n       <use x=\"147.412109\" xlink:href=\"#DejaVuSans-46\"/>\n       <use x=\"179.199219\" xlink:href=\"#DejaVuSans-48\"/>\n       <use x=\"242.822266\" xlink:href=\"#DejaVuSans-50\"/>\n      </g>\n     </g>\n    </g>\n    <g id=\"xtick_3\">\n     <g id=\"line2d_3\">\n      <g>\n       <use style=\"stroke:#000000;stroke-width:0.8;\" x=\"212.245313\" xlink:href=\"#m1aa6f9893e\" y=\"224.64\"/>\n      </g>\n     </g>\n     <g id=\"text_3\">\n      <!-- 0.00 -->\n      <g transform=\"translate(201.1125 239.238437)scale(0.1 -0.1)\">\n       <use xlink:href=\"#DejaVuSans-48\"/>\n       <use x=\"63.623047\" xlink:href=\"#DejaVuSans-46\"/>\n       <use x=\"95.410156\" xlink:href=\"#DejaVuSans-48\"/>\n       <use x=\"159.033203\" xlink:href=\"#DejaVuSans-48\"/>\n      </g>\n     </g>\n    </g>\n    <g id=\"xtick_4\">\n     <g id=\"line2d_4\">\n      <g>\n       <use style=\"stroke:#000000;stroke-width:0.8;\" x=\"273.11804\" xlink:href=\"#m1aa6f9893e\" y=\"224.64\"/>\n      </g>\n     </g>\n     <g id=\"text_4\">\n      <!-- 0.02 -->\n      <g transform=\"translate(261.985227 239.238437)scale(0.1 -0.1)\">\n       <use xlink:href=\"#DejaVuSans-48\"/>\n       <use x=\"63.623047\" xlink:href=\"#DejaVuSans-46\"/>\n       <use x=\"95.410156\" xlink:href=\"#DejaVuSans-48\"/>\n       <use x=\"159.033203\" xlink:href=\"#DejaVuSans-50\"/>\n      </g>\n     </g>\n    </g>\n    <g id=\"xtick_5\">\n     <g id=\"line2d_5\">\n      <g>\n       <use style=\"stroke:#000000;stroke-width:0.8;\" x=\"333.990767\" xlink:href=\"#m1aa6f9893e\" y=\"224.64\"/>\n      </g>\n     </g>\n     <g id=\"text_5\">\n      <!-- 0.04 -->\n      <g transform=\"translate(322.857955 239.238437)scale(0.1 -0.1)\">\n       <use xlink:href=\"#DejaVuSans-48\"/>\n       <use x=\"63.623047\" xlink:href=\"#DejaVuSans-46\"/>\n       <use x=\"95.410156\" xlink:href=\"#DejaVuSans-48\"/>\n       <use x=\"159.033203\" xlink:href=\"#DejaVuSans-52\"/>\n      </g>\n     </g>\n    </g>\n   </g>\n   <g id=\"matplotlib.axis_2\">\n    <g id=\"ytick_1\">\n     <g id=\"line2d_6\">\n      <defs>\n       <path d=\"M 0 0 \nL -3.5 0 \n\" id=\"m3dead24c97\" style=\"stroke:#000000;stroke-width:0.8;\"/>\n      </defs>\n      <g>\n       <use style=\"stroke:#000000;stroke-width:0.8;\" x=\"44.845313\" xlink:href=\"#m3dead24c97\" y=\"194.989091\"/>\n      </g>\n     </g>\n     <g id=\"text_6\">\n      <!-- −0.04 -->\n      <g transform=\"translate(7.2 198.78831)scale(0.1 -0.1)\">\n       <use xlink:href=\"#DejaVuSans-8722\"/>\n       <use x=\"83.789062\" xlink:href=\"#DejaVuSans-48\"/>\n       <use x=\"147.412109\" xlink:href=\"#DejaVuSans-46\"/>\n       <use x=\"179.199219\" xlink:href=\"#DejaVuSans-48\"/>\n       <use x=\"242.822266\" xlink:href=\"#DejaVuSans-52\"/>\n      </g>\n     </g>\n    </g>\n    <g id=\"ytick_2\">\n     <g id=\"line2d_7\">\n      <g>\n       <use style=\"stroke:#000000;stroke-width:0.8;\" x=\"44.845313\" xlink:href=\"#m3dead24c97\" y=\"155.454545\"/>\n      </g>\n     </g>\n     <g id=\"text_7\">\n      <!-- −0.02 -->\n      <g transform=\"translate(7.2 159.253764)scale(0.1 -0.1)\">\n       <use xlink:href=\"#DejaVuSans-8722\"/>\n       <use x=\"83.789062\" xlink:href=\"#DejaVuSans-48\"/>\n       <use x=\"147.412109\" xlink:href=\"#DejaVuSans-46\"/>\n       <use x=\"179.199219\" xlink:href=\"#DejaVuSans-48\"/>\n       <use x=\"242.822266\" xlink:href=\"#DejaVuSans-50\"/>\n      </g>\n     </g>\n    </g>\n    <g id=\"ytick_3\">\n     <g id=\"line2d_8\">\n      <g>\n       <use style=\"stroke:#000000;stroke-width:0.8;\" x=\"44.845313\" xlink:href=\"#m3dead24c97\" y=\"115.92\"/>\n      </g>\n     </g>\n     <g id=\"text_8\">\n      <!-- 0.00 -->\n      <g transform=\"translate(15.579688 119.719219)scale(0.1 -0.1)\">\n       <use xlink:href=\"#DejaVuSans-48\"/>\n       <use x=\"63.623047\" xlink:href=\"#DejaVuSans-46\"/>\n       <use x=\"95.410156\" xlink:href=\"#DejaVuSans-48\"/>\n       <use x=\"159.033203\" xlink:href=\"#DejaVuSans-48\"/>\n      </g>\n     </g>\n    </g>\n    <g id=\"ytick_4\">\n     <g id=\"line2d_9\">\n      <g>\n       <use style=\"stroke:#000000;stroke-width:0.8;\" x=\"44.845313\" xlink:href=\"#m3dead24c97\" y=\"76.385455\"/>\n      </g>\n     </g>\n     <g id=\"text_9\">\n      <!-- 0.02 -->\n      <g transform=\"translate(15.579688 80.184673)scale(0.1 -0.1)\">\n       <use xlink:href=\"#DejaVuSans-48\"/>\n       <use x=\"63.623047\" xlink:href=\"#DejaVuSans-46\"/>\n       <use x=\"95.410156\" xlink:href=\"#DejaVuSans-48\"/>\n       <use x=\"159.033203\" xlink:href=\"#DejaVuSans-50\"/>\n      </g>\n     </g>\n    </g>\n    <g id=\"ytick_5\">\n     <g id=\"line2d_10\">\n      <g>\n       <use style=\"stroke:#000000;stroke-width:0.8;\" x=\"44.845313\" xlink:href=\"#m3dead24c97\" y=\"36.850909\"/>\n      </g>\n     </g>\n     <g id=\"text_10\">\n      <!-- 0.04 -->\n      <g transform=\"translate(15.579688 40.650128)scale(0.1 -0.1)\">\n       <use xlink:href=\"#DejaVuSans-48\"/>\n       <use x=\"63.623047\" xlink:href=\"#DejaVuSans-46\"/>\n       <use x=\"95.410156\" xlink:href=\"#DejaVuSans-48\"/>\n       <use x=\"159.033203\" xlink:href=\"#DejaVuSans-52\"/>\n      </g>\n     </g>\n    </g>\n   </g>\n   <g id=\"line2d_11\">\n    <path clip-path=\"url(#p669ac1f00c)\" d=\"M 212.245313 115.92 \n\" style=\"fill:none;stroke:#1f77b4;stroke-linecap:square;stroke-width:1.5;\"/>\n   </g>\n   <g id=\"patch_3\">\n    <path d=\"M 44.845313 224.64 \nL 44.845313 7.2 \n\" style=\"fill:none;stroke:#000000;stroke-linecap:square;stroke-linejoin:miter;stroke-width:0.8;\"/>\n   </g>\n   <g id=\"patch_4\">\n    <path d=\"M 379.645313 224.64 \nL 379.645313 7.2 \n\" style=\"fill:none;stroke:#000000;stroke-linecap:square;stroke-linejoin:miter;stroke-width:0.8;\"/>\n   </g>\n   <g id=\"patch_5\">\n    <path d=\"M 44.845313 224.64 \nL 379.645313 224.64 \n\" style=\"fill:none;stroke:#000000;stroke-linecap:square;stroke-linejoin:miter;stroke-width:0.8;\"/>\n   </g>\n   <g id=\"patch_6\">\n    <path d=\"M 44.845313 7.2 \nL 379.645313 7.2 \n\" style=\"fill:none;stroke:#000000;stroke-linecap:square;stroke-linejoin:miter;stroke-width:0.8;\"/>\n   </g>\n  </g>\n </g>\n <defs>\n  <clipPath id=\"p669ac1f00c\">\n   <rect height=\"217.44\" width=\"334.8\" x=\"44.845313\" y=\"7.2\"/>\n  </clipPath>\n </defs>\n</svg>\n",
      "image/png": "[encoded data removed]"
     },
     "metadata": {
      "needs_background": "light"
     }
    }
   ],
   "source": [
    "gopher0.plot_hunt(100000)"
   ]
  },
  {
   "cell_type": "code",
   "execution_count": 8,
   "metadata": {},
   "outputs": [
    {
     "output_type": "execute_result",
     "data": {
      "text/plain": [
       "['te thyr',\n",
       " '20\\n',\n",
       " 'differentiation in t',\n",
       " 'za va',\n",
       " '1000301 PMI',\n",
       " '. N',\n",
       " '1016/j.y',\n",
       " 'forma',\n",
       " '1152/aj',\n",
       " 'nes. Cur',\n",
       " 'herap',\n",
       " 'Pr',\n",
       " '. Ins.',\n",
       " 'h h',\n",
       " 't, H',\n",
       " 'ange distale',\n",
       " 'laji',\n",
       " '294\\n',\n",
       " 'chnol',\n",
       " ': 4059394\\n']"
      ]
     },
     "metadata": {},
     "execution_count": 8
    }
   ],
   "source": [
    "random.choices(list(gopher0._rejected_motifs), k=20)"
   ]
  },
  {
   "cell_type": "code",
   "execution_count": 115,
   "metadata": {},
   "outputs": [
    {
     "output_type": "execute_result",
     "data": {
      "text/plain": [
       "['0, ', 'am', '45', 'o ', 'ial', 'ap', 'en ', ' doi:', '80', 'mm']"
      ]
     },
     "metadata": {},
     "execution_count": 115
    }
   ],
   "source": [
    "random.sample(list(gopher0.found_motifs), k=10)"
   ]
  },
  {
   "cell_type": "code",
   "execution_count": 116,
   "metadata": {},
   "outputs": [
    {
     "output_type": "execute_result",
     "data": {
      "text/plain": [
       "12777"
      ]
     },
     "metadata": {},
     "execution_count": 116
    }
   ],
   "source": [
    "len(gopher0._rejected_motifs)"
   ]
  },
  {
   "cell_type": "code",
   "execution_count": 117,
   "metadata": {},
   "outputs": [],
   "source": [
    "gopher0.save()"
   ]
  },
  {
   "cell_type": "code",
   "execution_count": 119,
   "metadata": {},
   "outputs": [],
   "source": [
    "gopher0.log(\"Saved at 17:07 PM, March 19.\")"
   ]
  },
  {
   "source": [
    "It is apparent that the number of found substrings does not level off quickly, even after approaching 2000. Feature selection with much more features than this (or more likely, about five times that many, as there is not a bijection between motifs and features) could get difficult.\n",
    "\n",
    "That said, I may well change my mind after I impose the orthogonality requirement. Many of the found substrings may turn out to provide very similar information to each other."
   ],
   "cell_type": "markdown",
   "metadata": {}
  },
  {
   "cell_type": "code",
   "execution_count": 29,
   "metadata": {},
   "outputs": [],
   "source": [
    "gopher1 = MotifGopher(\n",
    "    texts,\n",
    "    thresh=0.1,\n",
    "    confidence=0.99,\n",
    "    r=0.75\n",
    ")"
   ]
  },
  {
   "cell_type": "code",
   "execution_count": 30,
   "metadata": {},
   "outputs": [
    {
     "output_type": "stream",
     "name": "stdout",
     "text": [
      "Hang in there. 0.0% finished.\n",
      "Hang in there. 0.1% finished.\n",
      "Hang in there. 0.2% finished.\n",
      "Hang in there. 0.3% finished.\n",
      "Hang in there. 0.4% finished.\n",
      "Hang in there. 0.5% finished.\n",
      "Hang in there. 0.6% finished.\n",
      "Hang in there. 0.7% finished.\n",
      "Hang in there. 0.8% finished.\n",
      "Hang in there. 0.9% finished.\n"
     ]
    },
    {
     "output_type": "display_data",
     "data": {
      "text/plain": "<Figure size 432x288 with 1 Axes>",
      "image/svg+xml": "<?xml version=\"1.0\" encoding=\"utf-8\" standalone=\"no\"?>\n<!DOCTYPE svg PUBLIC \"-//W3C//DTD SVG 1.1//EN\"\n  \"http://www.w3.org/Graphics/SVG/1.1/DTD/svg11.dtd\">\n<!-- Created with matplotlib (https://matplotlib.org/) -->\n<svg height=\"248.518125pt\" version=\"1.1\" viewBox=\"0 0 376.585515 248.518125\" width=\"376.585515pt\" xmlns=\"http://www.w3.org/2000/svg\" xmlns:xlink=\"http://www.w3.org/1999/xlink\">\n <metadata>\n  <rdf:RDF xmlns:cc=\"http://creativecommons.org/ns#\" xmlns:dc=\"http://purl.org/dc/elements/1.1/\" xmlns:rdf=\"http://www.w3.org/1999/02/22-rdf-syntax-ns#\">\n   <cc:Work>\n    <dc:type rdf:resource=\"http://purl.org/dc/dcmitype/StillImage\"/>\n    <dc:date>2021-03-03T16:36:21.556955</dc:date>\n    <dc:format>image/svg+xml</dc:format>\n    <dc:creator>\n     <cc:Agent>\n      <dc:title>Matplotlib v3.3.4, https://matplotlib.org/</dc:title>\n     </cc:Agent>\n    </dc:creator>\n   </cc:Work>\n  </rdf:RDF>\n </metadata>\n <defs>\n  <style type=\"text/css\">*{stroke-linecap:butt;stroke-linejoin:round;}</style>\n </defs>\n <g id=\"figure_1\">\n  <g id=\"patch_1\">\n   <path d=\"M 0 248.518125 \nL 376.585515 248.518125 \nL 376.585515 0 \nL 0 0 \nz\n\" style=\"fill:none;\"/>\n  </g>\n  <g id=\"axes_1\">\n   <g id=\"patch_2\">\n    <path d=\"M 33.2875 224.64 \nL 368.0875 224.64 \nL 368.0875 7.2 \nL 33.2875 7.2 \nz\n\" style=\"fill:#ffffff;\"/>\n   </g>\n   <g id=\"matplotlib.axis_1\">\n    <g id=\"xtick_1\">\n     <g id=\"line2d_1\">\n      <defs>\n       <path d=\"M 0 0 \nL 0 3.5 \n\" id=\"m37db514395\" style=\"stroke:#000000;stroke-width:0.8;\"/>\n      </defs>\n      <g>\n       <use style=\"stroke:#000000;stroke-width:0.8;\" x=\"48.505682\" xlink:href=\"#m37db514395\" y=\"224.64\"/>\n      </g>\n     </g>\n     <g id=\"text_1\">\n      <!-- 0 -->\n      <g transform=\"translate(45.324432 239.238437)scale(0.1 -0.1)\">\n       <defs>\n        <path d=\"M 31.78125 66.40625 \nQ 24.171875 66.40625 20.328125 58.90625 \nQ 16.5 51.421875 16.5 36.375 \nQ 16.5 21.390625 20.328125 13.890625 \nQ 24.171875 6.390625 31.78125 6.390625 \nQ 39.453125 6.390625 43.28125 13.890625 \nQ 47.125 21.390625 47.125 36.375 \nQ 47.125 51.421875 43.28125 58.90625 \nQ 39.453125 66.40625 31.78125 66.40625 \nz\nM 31.78125 74.21875 \nQ 44.046875 74.21875 50.515625 64.515625 \nQ 56.984375 54.828125 56.984375 36.375 \nQ 56.984375 17.96875 50.515625 8.265625 \nQ 44.046875 -1.421875 31.78125 -1.421875 \nQ 19.53125 -1.421875 13.0625 8.265625 \nQ 6.59375 17.96875 6.59375 36.375 \nQ 6.59375 54.828125 13.0625 64.515625 \nQ 19.53125 74.21875 31.78125 74.21875 \nz\n\" id=\"DejaVuSans-48\"/>\n       </defs>\n       <use xlink:href=\"#DejaVuSans-48\"/>\n      </g>\n     </g>\n    </g>\n    <g id=\"xtick_2\">\n     <g id=\"line2d_2\">\n      <g>\n       <use style=\"stroke:#000000;stroke-width:0.8;\" x=\"109.500399\" xlink:href=\"#m37db514395\" y=\"224.64\"/>\n      </g>\n     </g>\n     <g id=\"text_2\">\n      <!-- 5000 -->\n      <g transform=\"translate(96.775399 239.238437)scale(0.1 -0.1)\">\n       <defs>\n        <path d=\"M 10.796875 72.90625 \nL 49.515625 72.90625 \nL 49.515625 64.59375 \nL 19.828125 64.59375 \nL 19.828125 46.734375 \nQ 21.96875 47.46875 24.109375 47.828125 \nQ 26.265625 48.1875 28.421875 48.1875 \nQ 40.625 48.1875 47.75 41.5 \nQ 54.890625 34.8125 54.890625 23.390625 \nQ 54.890625 11.625 47.5625 5.09375 \nQ 40.234375 -1.421875 26.90625 -1.421875 \nQ 22.3125 -1.421875 17.546875 -0.640625 \nQ 12.796875 0.140625 7.71875 1.703125 \nL 7.71875 11.625 \nQ 12.109375 9.234375 16.796875 8.0625 \nQ 21.484375 6.890625 26.703125 6.890625 \nQ 35.15625 6.890625 40.078125 11.328125 \nQ 45.015625 15.765625 45.015625 23.390625 \nQ 45.015625 31 40.078125 35.4375 \nQ 35.15625 39.890625 26.703125 39.890625 \nQ 22.75 39.890625 18.8125 39.015625 \nQ 14.890625 38.140625 10.796875 36.28125 \nz\n\" id=\"DejaVuSans-53\"/>\n       </defs>\n       <use xlink:href=\"#DejaVuSans-53\"/>\n       <use x=\"63.623047\" xlink:href=\"#DejaVuSans-48\"/>\n       <use x=\"127.246094\" xlink:href=\"#DejaVuSans-48\"/>\n       <use x=\"190.869141\" xlink:href=\"#DejaVuSans-48\"/>\n      </g>\n     </g>\n    </g>\n    <g id=\"xtick_3\">\n     <g id=\"line2d_3\">\n      <g>\n       <use style=\"stroke:#000000;stroke-width:0.8;\" x=\"170.495115\" xlink:href=\"#m37db514395\" y=\"224.64\"/>\n      </g>\n     </g>\n     <g id=\"text_3\">\n      <!-- 10000 -->\n      <g transform=\"translate(154.588865 239.238437)scale(0.1 -0.1)\">\n       <defs>\n        <path d=\"M 12.40625 8.296875 \nL 28.515625 8.296875 \nL 28.515625 63.921875 \nL 10.984375 60.40625 \nL 10.984375 69.390625 \nL 28.421875 72.90625 \nL 38.28125 72.90625 \nL 38.28125 8.296875 \nL 54.390625 8.296875 \nL 54.390625 0 \nL 12.40625 0 \nz\n\" id=\"DejaVuSans-49\"/>\n       </defs>\n       <use xlink:href=\"#DejaVuSans-49\"/>\n       <use x=\"63.623047\" xlink:href=\"#DejaVuSans-48\"/>\n       <use x=\"127.246094\" xlink:href=\"#DejaVuSans-48\"/>\n       <use x=\"190.869141\" xlink:href=\"#DejaVuSans-48\"/>\n       <use x=\"254.492188\" xlink:href=\"#DejaVuSans-48\"/>\n      </g>\n     </g>\n    </g>\n    <g id=\"xtick_4\">\n     <g id=\"line2d_4\">\n      <g>\n       <use style=\"stroke:#000000;stroke-width:0.8;\" x=\"231.489832\" xlink:href=\"#m37db514395\" y=\"224.64\"/>\n      </g>\n     </g>\n     <g id=\"text_4\">\n      <!-- 15000 -->\n      <g transform=\"translate(215.583582 239.238437)scale(0.1 -0.1)\">\n       <use xlink:href=\"#DejaVuSans-49\"/>\n       <use x=\"63.623047\" xlink:href=\"#DejaVuSans-53\"/>\n       <use x=\"127.246094\" xlink:href=\"#DejaVuSans-48\"/>\n       <use x=\"190.869141\" xlink:href=\"#DejaVuSans-48\"/>\n       <use x=\"254.492188\" xlink:href=\"#DejaVuSans-48\"/>\n      </g>\n     </g>\n    </g>\n    <g id=\"xtick_5\">\n     <g id=\"line2d_5\">\n      <g>\n       <use style=\"stroke:#000000;stroke-width:0.8;\" x=\"292.484549\" xlink:href=\"#m37db514395\" y=\"224.64\"/>\n      </g>\n     </g>\n     <g id=\"text_5\">\n      <!-- 20000 -->\n      <g transform=\"translate(276.578299 239.238437)scale(0.1 -0.1)\">\n       <defs>\n        <path d=\"M 19.1875 8.296875 \nL 53.609375 8.296875 \nL 53.609375 0 \nL 7.328125 0 \nL 7.328125 8.296875 \nQ 12.9375 14.109375 22.625 23.890625 \nQ 32.328125 33.6875 34.8125 36.53125 \nQ 39.546875 41.84375 41.421875 45.53125 \nQ 43.3125 49.21875 43.3125 52.78125 \nQ 43.3125 58.59375 39.234375 62.25 \nQ 35.15625 65.921875 28.609375 65.921875 \nQ 23.96875 65.921875 18.8125 64.3125 \nQ 13.671875 62.703125 7.8125 59.421875 \nL 7.8125 69.390625 \nQ 13.765625 71.78125 18.9375 73 \nQ 24.125 74.21875 28.421875 74.21875 \nQ 39.75 74.21875 46.484375 68.546875 \nQ 53.21875 62.890625 53.21875 53.421875 \nQ 53.21875 48.921875 51.53125 44.890625 \nQ 49.859375 40.875 45.40625 35.40625 \nQ 44.1875 33.984375 37.640625 27.21875 \nQ 31.109375 20.453125 19.1875 8.296875 \nz\n\" id=\"DejaVuSans-50\"/>\n       </defs>\n       <use xlink:href=\"#DejaVuSans-50\"/>\n       <use x=\"63.623047\" xlink:href=\"#DejaVuSans-48\"/>\n       <use x=\"127.246094\" xlink:href=\"#DejaVuSans-48\"/>\n       <use x=\"190.869141\" xlink:href=\"#DejaVuSans-48\"/>\n       <use x=\"254.492188\" xlink:href=\"#DejaVuSans-48\"/>\n      </g>\n     </g>\n    </g>\n    <g id=\"xtick_6\">\n     <g id=\"line2d_6\">\n      <g>\n       <use style=\"stroke:#000000;stroke-width:0.8;\" x=\"353.479265\" xlink:href=\"#m37db514395\" y=\"224.64\"/>\n      </g>\n     </g>\n     <g id=\"text_6\">\n      <!-- 25000 -->\n      <g transform=\"translate(337.573015 239.238437)scale(0.1 -0.1)\">\n       <use xlink:href=\"#DejaVuSans-50\"/>\n       <use x=\"63.623047\" xlink:href=\"#DejaVuSans-53\"/>\n       <use x=\"127.246094\" xlink:href=\"#DejaVuSans-48\"/>\n       <use x=\"190.869141\" xlink:href=\"#DejaVuSans-48\"/>\n       <use x=\"254.492188\" xlink:href=\"#DejaVuSans-48\"/>\n      </g>\n     </g>\n    </g>\n   </g>\n   <g id=\"matplotlib.axis_2\">\n    <g id=\"ytick_1\">\n     <g id=\"line2d_7\">\n      <defs>\n       <path d=\"M 0 0 \nL -3.5 0 \n\" id=\"mff7cb1d8ed\" style=\"stroke:#000000;stroke-width:0.8;\"/>\n      </defs>\n      <g>\n       <use style=\"stroke:#000000;stroke-width:0.8;\" x=\"33.2875\" xlink:href=\"#mff7cb1d8ed\" y=\"219.303053\"/>\n      </g>\n     </g>\n     <g id=\"text_7\">\n      <!-- 0 -->\n      <g transform=\"translate(19.925 223.102272)scale(0.1 -0.1)\">\n       <use xlink:href=\"#DejaVuSans-48\"/>\n      </g>\n     </g>\n    </g>\n    <g id=\"ytick_2\">\n     <g id=\"line2d_8\">\n      <g>\n       <use style=\"stroke:#000000;stroke-width:0.8;\" x=\"33.2875\" xlink:href=\"#mff7cb1d8ed\" y=\"176.001251\"/>\n      </g>\n     </g>\n     <g id=\"text_8\">\n      <!-- 200 -->\n      <g transform=\"translate(7.2 179.800469)scale(0.1 -0.1)\">\n       <use xlink:href=\"#DejaVuSans-50\"/>\n       <use x=\"63.623047\" xlink:href=\"#DejaVuSans-48\"/>\n       <use x=\"127.246094\" xlink:href=\"#DejaVuSans-48\"/>\n      </g>\n     </g>\n    </g>\n    <g id=\"ytick_3\">\n     <g id=\"line2d_9\">\n      <g>\n       <use style=\"stroke:#000000;stroke-width:0.8;\" x=\"33.2875\" xlink:href=\"#mff7cb1d8ed\" y=\"132.699448\"/>\n      </g>\n     </g>\n     <g id=\"text_9\">\n      <!-- 400 -->\n      <g transform=\"translate(7.2 136.498667)scale(0.1 -0.1)\">\n       <defs>\n        <path d=\"M 37.796875 64.3125 \nL 12.890625 25.390625 \nL 37.796875 25.390625 \nz\nM 35.203125 72.90625 \nL 47.609375 72.90625 \nL 47.609375 25.390625 \nL 58.015625 25.390625 \nL 58.015625 17.1875 \nL 47.609375 17.1875 \nL 47.609375 0 \nL 37.796875 0 \nL 37.796875 17.1875 \nL 4.890625 17.1875 \nL 4.890625 26.703125 \nz\n\" id=\"DejaVuSans-52\"/>\n       </defs>\n       <use xlink:href=\"#DejaVuSans-52\"/>\n       <use x=\"63.623047\" xlink:href=\"#DejaVuSans-48\"/>\n       <use x=\"127.246094\" xlink:href=\"#DejaVuSans-48\"/>\n      </g>\n     </g>\n    </g>\n    <g id=\"ytick_4\">\n     <g id=\"line2d_10\">\n      <g>\n       <use style=\"stroke:#000000;stroke-width:0.8;\" x=\"33.2875\" xlink:href=\"#mff7cb1d8ed\" y=\"89.397646\"/>\n      </g>\n     </g>\n     <g id=\"text_10\">\n      <!-- 600 -->\n      <g transform=\"translate(7.2 93.196865)scale(0.1 -0.1)\">\n       <defs>\n        <path d=\"M 33.015625 40.375 \nQ 26.375 40.375 22.484375 35.828125 \nQ 18.609375 31.296875 18.609375 23.390625 \nQ 18.609375 15.53125 22.484375 10.953125 \nQ 26.375 6.390625 33.015625 6.390625 \nQ 39.65625 6.390625 43.53125 10.953125 \nQ 47.40625 15.53125 47.40625 23.390625 \nQ 47.40625 31.296875 43.53125 35.828125 \nQ 39.65625 40.375 33.015625 40.375 \nz\nM 52.59375 71.296875 \nL 52.59375 62.3125 \nQ 48.875 64.0625 45.09375 64.984375 \nQ 41.3125 65.921875 37.59375 65.921875 \nQ 27.828125 65.921875 22.671875 59.328125 \nQ 17.53125 52.734375 16.796875 39.40625 \nQ 19.671875 43.65625 24.015625 45.921875 \nQ 28.375 48.1875 33.59375 48.1875 \nQ 44.578125 48.1875 50.953125 41.515625 \nQ 57.328125 34.859375 57.328125 23.390625 \nQ 57.328125 12.15625 50.6875 5.359375 \nQ 44.046875 -1.421875 33.015625 -1.421875 \nQ 20.359375 -1.421875 13.671875 8.265625 \nQ 6.984375 17.96875 6.984375 36.375 \nQ 6.984375 53.65625 15.1875 63.9375 \nQ 23.390625 74.21875 37.203125 74.21875 \nQ 40.921875 74.21875 44.703125 73.484375 \nQ 48.484375 72.75 52.59375 71.296875 \nz\n\" id=\"DejaVuSans-54\"/>\n       </defs>\n       <use xlink:href=\"#DejaVuSans-54\"/>\n       <use x=\"63.623047\" xlink:href=\"#DejaVuSans-48\"/>\n       <use x=\"127.246094\" xlink:href=\"#DejaVuSans-48\"/>\n      </g>\n     </g>\n    </g>\n    <g id=\"ytick_5\">\n     <g id=\"line2d_11\">\n      <g>\n       <use style=\"stroke:#000000;stroke-width:0.8;\" x=\"33.2875\" xlink:href=\"#mff7cb1d8ed\" y=\"46.095844\"/>\n      </g>\n     </g>\n     <g id=\"text_11\">\n      <!-- 800 -->\n      <g transform=\"translate(7.2 49.895063)scale(0.1 -0.1)\">\n       <defs>\n        <path d=\"M 31.78125 34.625 \nQ 24.75 34.625 20.71875 30.859375 \nQ 16.703125 27.09375 16.703125 20.515625 \nQ 16.703125 13.921875 20.71875 10.15625 \nQ 24.75 6.390625 31.78125 6.390625 \nQ 38.8125 6.390625 42.859375 10.171875 \nQ 46.921875 13.96875 46.921875 20.515625 \nQ 46.921875 27.09375 42.890625 30.859375 \nQ 38.875 34.625 31.78125 34.625 \nz\nM 21.921875 38.8125 \nQ 15.578125 40.375 12.03125 44.71875 \nQ 8.5 49.078125 8.5 55.328125 \nQ 8.5 64.0625 14.71875 69.140625 \nQ 20.953125 74.21875 31.78125 74.21875 \nQ 42.671875 74.21875 48.875 69.140625 \nQ 55.078125 64.0625 55.078125 55.328125 \nQ 55.078125 49.078125 51.53125 44.71875 \nQ 48 40.375 41.703125 38.8125 \nQ 48.828125 37.15625 52.796875 32.3125 \nQ 56.78125 27.484375 56.78125 20.515625 \nQ 56.78125 9.90625 50.3125 4.234375 \nQ 43.84375 -1.421875 31.78125 -1.421875 \nQ 19.734375 -1.421875 13.25 4.234375 \nQ 6.78125 9.90625 6.78125 20.515625 \nQ 6.78125 27.484375 10.78125 32.3125 \nQ 14.796875 37.15625 21.921875 38.8125 \nz\nM 18.3125 54.390625 \nQ 18.3125 48.734375 21.84375 45.5625 \nQ 25.390625 42.390625 31.78125 42.390625 \nQ 38.140625 42.390625 41.71875 45.5625 \nQ 45.3125 48.734375 45.3125 54.390625 \nQ 45.3125 60.0625 41.71875 63.234375 \nQ 38.140625 66.40625 31.78125 66.40625 \nQ 25.390625 66.40625 21.84375 63.234375 \nQ 18.3125 60.0625 18.3125 54.390625 \nz\n\" id=\"DejaVuSans-56\"/>\n       </defs>\n       <use xlink:href=\"#DejaVuSans-56\"/>\n       <use x=\"63.623047\" xlink:href=\"#DejaVuSans-48\"/>\n       <use x=\"127.246094\" xlink:href=\"#DejaVuSans-48\"/>\n      </g>\n     </g>\n    </g>\n   </g>\n   <g id=\"line2d_12\">\n    <path clip-path=\"url(#p2f1b7402dc)\" d=\"M 48.505682 214.756364 \nL 49.115629 210.642692 \nL 50.335523 203.714404 \nL 50.94547 201.549314 \nL 51.555418 197.219134 \nL 52.165365 194.188008 \nL 52.775312 192.022917 \nL 53.385259 190.507354 \nL 55.215101 182.929539 \nL 55.825048 182.063503 \nL 57.044942 177.516814 \nL 57.654889 176.001251 \nL 58.264836 173.836161 \nL 60.094678 169.072962 \nL 61.314572 165.608818 \nL 61.924519 164.959291 \nL 62.534467 163.876746 \nL 64.364308 159.330057 \nL 66.19415 157.381476 \nL 66.804097 155.649404 \nL 68.633938 151.535732 \nL 69.243885 150.020169 \nL 70.46378 146.339516 \nL 71.073727 144.607444 \nL 72.293621 142.225845 \nL 73.513516 139.411228 \nL 75.953304 135.297557 \nL 76.563252 133.348975 \nL 77.173199 132.482939 \nL 77.783146 131.400394 \nL 78.393093 131.400394 \nL 79.612987 128.152759 \nL 80.832882 125.77116 \nL 81.442829 124.905124 \nL 82.052776 123.822579 \nL 82.662723 123.173052 \nL 83.27267 122.740034 \nL 83.882618 121.007962 \nL 84.492565 120.141926 \nL 85.102512 118.842872 \nL 85.712459 118.193345 \nL 86.322406 117.976836 \nL 86.932353 116.461273 \nL 87.542301 116.244764 \nL 88.152248 114.512691 \nL 88.762195 113.863164 \nL 89.372142 112.347601 \nL 89.982089 111.265056 \nL 90.592036 110.832038 \nL 91.811931 108.017421 \nL 92.421878 107.151385 \nL 93.641772 105.852331 \nL 94.251719 104.986295 \nL 94.861667 103.687241 \nL 95.471614 103.037714 \nL 96.081561 102.604696 \nL 96.691508 101.73866 \nL 97.301455 101.089133 \nL 97.911402 100.223097 \nL 98.52135 98.924043 \nL 99.131297 98.491025 \nL 99.741244 98.274516 \nL 100.351191 97.624989 \nL 100.961138 96.758953 \nL 101.571085 96.109425 \nL 102.181033 95.02688 \nL 102.79098 95.02688 \nL 103.400927 94.593862 \nL 104.010874 94.593862 \nL 104.620821 93.727826 \nL 105.840716 91.779245 \nL 106.450663 91.779245 \nL 107.06061 91.346227 \nL 107.670557 91.129718 \nL 108.280504 89.830664 \nL 108.890451 88.964628 \nL 109.500399 87.882083 \nL 110.110346 87.449065 \nL 111.33024 87.449065 \nL 111.940187 87.016047 \nL 112.550134 85.716993 \nL 113.160082 85.716993 \nL 114.379976 85.283975 \nL 114.989923 84.850957 \nL 115.59987 84.634448 \nL 116.209817 84.20143 \nL 116.819765 83.551903 \nL 117.429712 82.685867 \nL 118.039659 82.03634 \nL 119.259553 82.03634 \nL 119.8695 81.819831 \nL 120.479448 81.819831 \nL 121.699342 81.386813 \nL 122.309289 81.386813 \nL 123.529183 80.520777 \nL 124.139131 79.654741 \nL 125.968972 78.355687 \nL 126.578919 78.355687 \nL 127.188866 77.922669 \nL 127.798814 77.056632 \nL 130.238602 74.458524 \nL 130.848549 74.242015 \nL 131.458497 73.15947 \nL 132.068444 73.15947 \nL 132.678391 72.942961 \nL 133.288338 72.509943 \nL 133.898285 71.860416 \nL 134.508232 71.427398 \nL 135.728127 70.99438 \nL 136.338074 69.695326 \nL 136.948021 69.478817 \nL 137.557968 69.045799 \nL 138.167915 68.82929 \nL 139.38781 67.963254 \nL 139.997757 67.746745 \nL 140.607704 67.313727 \nL 141.217651 66.6642 \nL 141.827598 65.365146 \nL 142.437546 64.932128 \nL 143.65744 64.49911 \nL 144.267387 64.066092 \nL 144.877334 64.066092 \nL 145.487281 63.416565 \nL 146.097229 63.416565 \nL 146.707176 62.983547 \nL 147.92707 62.983547 \nL 149.146964 62.550529 \nL 149.756912 62.550529 \nL 150.366859 61.901002 \nL 150.976806 61.467984 \nL 151.586753 60.601948 \nL 152.806647 59.302894 \nL 153.416595 58.869876 \nL 154.026542 58.653367 \nL 154.636489 58.653367 \nL 155.246436 58.436858 \nL 157.076278 58.436858 \nL 157.686225 58.003839 \nL 158.296172 57.78733 \nL 158.906119 57.354312 \nL 159.516066 56.488276 \nL 161.345908 56.488276 \nL 161.955855 55.838749 \nL 162.565802 55.838749 \nL 163.175749 55.62224 \nL 163.785696 55.189222 \nL 166.225485 55.189222 \nL 166.835432 54.756204 \nL 168.055327 53.45715 \nL 169.885168 52.807623 \nL 170.495115 52.807623 \nL 171.71501 52.374605 \nL 172.324957 52.374605 \nL 172.934904 51.941587 \nL 173.544851 51.725078 \nL 174.154798 51.725078 \nL 174.764745 51.075551 \nL 175.374693 51.075551 \nL 177.204534 50.426024 \nL 179.034376 50.426024 \nL 179.644323 49.559988 \nL 180.864217 48.693952 \nL 183.304006 47.827916 \nL 183.913953 47.827916 \nL 184.5239 47.611407 \nL 185.133847 47.178389 \nL 185.743794 46.528862 \nL 186.353742 46.095844 \nL 186.963689 46.095844 \nL 188.183583 45.662826 \nL 188.79353 45.662826 \nL 189.403477 45.229808 \nL 190.013425 45.229808 \nL 190.623372 44.79679 \nL 191.233319 44.580281 \nL 193.06316 44.580281 \nL 193.673108 44.147263 \nL 194.283055 44.147263 \nL 196.722843 43.281227 \nL 197.332791 42.6317 \nL 197.942738 42.415191 \nL 198.552685 42.415191 \nL 199.162632 42.198682 \nL 199.772579 41.765664 \nL 200.382526 41.765664 \nL 200.992474 41.332646 \nL 203.432262 41.332646 \nL 204.042209 41.116137 \nL 204.652157 40.683119 \nL 205.262104 40.683119 \nL 206.481998 40.250101 \nL 207.091945 40.250101 \nL 207.701892 40.033592 \nL 208.31184 40.033592 \nL 208.921787 39.384065 \nL 209.531734 39.384065 \nL 210.751628 38.951047 \nL 211.971523 38.951047 \nL 212.58147 38.734537 \nL 213.191417 38.08501 \nL 213.801364 37.868501 \nL 214.411311 37.435483 \nL 215.021258 37.218974 \nL 215.631206 37.218974 \nL 216.8511 36.785956 \nL 218.070994 36.785956 \nL 218.680941 36.136429 \nL 219.900836 36.136429 \nL 220.510783 35.91992 \nL 221.730677 35.053884 \nL 223.560519 35.053884 \nL 224.170466 34.837375 \nL 225.39036 34.837375 \nL 226.000307 34.620866 \nL 227.220202 34.620866 \nL 227.830149 34.187848 \nL 228.440096 33.971339 \nL 229.050043 33.538321 \nL 230.269938 33.105303 \nL 230.879885 33.105303 \nL 231.489832 32.672285 \nL 234.539568 32.672285 \nL 237.589304 31.58974 \nL 238.809198 31.58974 \nL 239.419145 31.373231 \nL 240.029092 30.940213 \nL 240.639039 30.940213 \nL 241.858934 30.507195 \nL 242.468881 30.507195 \nL 243.078828 30.074177 \nL 244.298722 30.074177 \nL 244.90867 29.857668 \nL 245.518617 29.857668 \nL 246.128564 29.641159 \nL 248.568353 29.641159 \nL 249.1783 28.991632 \nL 249.788247 28.991632 \nL 250.398194 28.558614 \nL 251.008141 28.342105 \nL 251.618088 27.909087 \nL 252.228036 27.909087 \nL 252.837983 27.476069 \nL 254.667824 27.476069 \nL 255.277771 27.25956 \nL 255.887719 27.25956 \nL 257.107613 26.826542 \nL 257.71756 26.826542 \nL 258.327507 26.610033 \nL 258.937454 26.610033 \nL 259.547402 26.393524 \nL 260.157349 25.960506 \nL 263.207085 25.960506 \nL 263.817032 25.743997 \nL 265.036926 25.743997 \nL 265.646873 25.527488 \nL 267.476715 25.527488 \nL 268.086662 25.310979 \nL 268.696609 24.877961 \nL 269.916503 24.444943 \nL 271.746345 24.444943 \nL 272.356292 24.228434 \nL 274.186134 24.228434 \nL 274.796081 24.011925 \nL 278.455764 24.011925 \nL 279.065711 23.795416 \nL 280.895552 23.795416 \nL 282.115447 23.362398 \nL 284.555235 23.362398 \nL 285.165183 23.145889 \nL 288.214918 23.145889 \nL 289.434813 22.712871 \nL 293.094496 22.712871 \nL 293.704443 22.496362 \nL 297.974073 22.496362 \nL 298.58402 22.279853 \nL 303.463598 22.279853 \nL 304.073545 21.413817 \nL 304.683492 21.197308 \nL 305.293439 21.197308 \nL 305.903386 20.980799 \nL 306.513333 20.547781 \nL 308.953122 20.547781 \nL 309.563069 20.331272 \nL 313.222752 20.331272 \nL 313.832699 19.898254 \nL 314.442647 19.681744 \nL 324.811748 19.681744 \nL 325.421696 19.248726 \nL 326.031643 19.248726 \nL 327.251537 18.815708 \nL 330.301273 18.815708 \nL 330.91122 18.599199 \nL 333.351009 18.599199 \nL 333.960956 18.38269 \nL 337.010692 18.38269 \nL 338.840533 17.733163 \nL 339.450481 17.733163 \nL 340.060428 17.516654 \nL 342.500216 17.516654 \nL 343.110164 17.300145 \nL 343.720111 17.300145 \nL 344.330058 17.083636 \nL 352.869318 17.083636 \nL 352.869318 17.083636 \n\" style=\"fill:none;stroke:#1f77b4;stroke-linecap:square;stroke-width:1.5;\"/>\n   </g>\n   <g id=\"patch_3\">\n    <path d=\"M 33.2875 224.64 \nL 33.2875 7.2 \n\" style=\"fill:none;stroke:#000000;stroke-linecap:square;stroke-linejoin:miter;stroke-width:0.8;\"/>\n   </g>\n   <g id=\"patch_4\">\n    <path d=\"M 368.0875 224.64 \nL 368.0875 7.2 \n\" style=\"fill:none;stroke:#000000;stroke-linecap:square;stroke-linejoin:miter;stroke-width:0.8;\"/>\n   </g>\n   <g id=\"patch_5\">\n    <path d=\"M 33.2875 224.64 \nL 368.0875 224.64 \n\" style=\"fill:none;stroke:#000000;stroke-linecap:square;stroke-linejoin:miter;stroke-width:0.8;\"/>\n   </g>\n   <g id=\"patch_6\">\n    <path d=\"M 33.2875 7.2 \nL 368.0875 7.2 \n\" style=\"fill:none;stroke:#000000;stroke-linecap:square;stroke-linejoin:miter;stroke-width:0.8;\"/>\n   </g>\n  </g>\n </g>\n <defs>\n  <clipPath id=\"p2f1b7402dc\">\n   <rect height=\"217.44\" width=\"334.8\" x=\"33.2875\" y=\"7.2\"/>\n  </clipPath>\n </defs>\n</svg>\n",
      "image/png": "[encoded data removed]"
     },
     "metadata": {
      "needs_background": "light"
     }
    }
   ],
   "source": [
    "plot_hunt(gopher1)"
   ]
  },
  {
   "source": [
    "I consider this to be much more manageable. If I greatly increase the number of hunts (maybe by an order of magnitude or so) and maybe increase the confidence level, I think I should get pretty good coverage of the common substrings."
   ],
   "cell_type": "markdown",
   "metadata": {}
  },
  {
   "source": [
    "### Tinkering with R\n",
    "\n",
    "Hopefully, behavior of the Gopher should not change appreciably depending on R; instead, the most common motifs should be discovered regardless of R, as long as R is in some \"reasonable\" intermediate range. Let's start by seeing the extent to which that is true."
   ],
   "cell_type": "markdown",
   "metadata": {}
  },
  {
   "cell_type": "code",
   "execution_count": 31,
   "metadata": {},
   "outputs": [
    {
     "output_type": "stream",
     "name": "stdout",
     "text": [
      "Hang in there. 0.0% finished.\n",
      "Hang in there. 0.1% finished.\n",
      "Hang in there. 0.2% finished.\n",
      "Hang in there. 0.3% finished.\n",
      "Hang in there. 0.4% finished.\n",
      "Hang in there. 0.5% finished.\n",
      "Hang in there. 0.6% finished.\n",
      "Hang in there. 0.7% finished.\n",
      "Hang in there. 0.8% finished.\n",
      "Hang in there. 0.9% finished.\n"
     ]
    },
    {
     "output_type": "display_data",
     "data": {
      "text/plain": "<Figure size 432x288 with 1 Axes>",
      "image/svg+xml": "<?xml version=\"1.0\" encoding=\"utf-8\" standalone=\"no\"?>\n<!DOCTYPE svg PUBLIC \"-//W3C//DTD SVG 1.1//EN\"\n  \"http://www.w3.org/Graphics/SVG/1.1/DTD/svg11.dtd\">\n<!-- Created with matplotlib (https://matplotlib.org/) -->\n<svg height=\"248.518125pt\" version=\"1.1\" viewBox=\"0 0 376.585515 248.518125\" width=\"376.585515pt\" xmlns=\"http://www.w3.org/2000/svg\" xmlns:xlink=\"http://www.w3.org/1999/xlink\">\n <metadata>\n  <rdf:RDF xmlns:cc=\"http://creativecommons.org/ns#\" xmlns:dc=\"http://purl.org/dc/elements/1.1/\" xmlns:rdf=\"http://www.w3.org/1999/02/22-rdf-syntax-ns#\">\n   <cc:Work>\n    <dc:type rdf:resource=\"http://purl.org/dc/dcmitype/StillImage\"/>\n    <dc:date>2021-03-03T16:43:13.901700</dc:date>\n    <dc:format>image/svg+xml</dc:format>\n    <dc:creator>\n     <cc:Agent>\n      <dc:title>Matplotlib v3.3.4, https://matplotlib.org/</dc:title>\n     </cc:Agent>\n    </dc:creator>\n   </cc:Work>\n  </rdf:RDF>\n </metadata>\n <defs>\n  <style type=\"text/css\">*{stroke-linecap:butt;stroke-linejoin:round;}</style>\n </defs>\n <g id=\"figure_1\">\n  <g id=\"patch_1\">\n   <path d=\"M 0 248.518125 \nL 376.585515 248.518125 \nL 376.585515 0 \nL 0 0 \nz\n\" style=\"fill:none;\"/>\n  </g>\n  <g id=\"axes_1\">\n   <g id=\"patch_2\">\n    <path d=\"M 33.2875 224.64 \nL 368.0875 224.64 \nL 368.0875 7.2 \nL 33.2875 7.2 \nz\n\" style=\"fill:#ffffff;\"/>\n   </g>\n   <g id=\"matplotlib.axis_1\">\n    <g id=\"xtick_1\">\n     <g id=\"line2d_1\">\n      <defs>\n       <path d=\"M 0 0 \nL 0 3.5 \n\" id=\"m77bb0548e1\" style=\"stroke:#000000;stroke-width:0.8;\"/>\n      </defs>\n      <g>\n       <use style=\"stroke:#000000;stroke-width:0.8;\" x=\"48.505682\" xlink:href=\"#m77bb0548e1\" y=\"224.64\"/>\n      </g>\n     </g>\n     <g id=\"text_1\">\n      <!-- 0 -->\n      <g transform=\"translate(45.324432 239.238437)scale(0.1 -0.1)\">\n       <defs>\n        <path d=\"M 31.78125 66.40625 \nQ 24.171875 66.40625 20.328125 58.90625 \nQ 16.5 51.421875 16.5 36.375 \nQ 16.5 21.390625 20.328125 13.890625 \nQ 24.171875 6.390625 31.78125 6.390625 \nQ 39.453125 6.390625 43.28125 13.890625 \nQ 47.125 21.390625 47.125 36.375 \nQ 47.125 51.421875 43.28125 58.90625 \nQ 39.453125 66.40625 31.78125 66.40625 \nz\nM 31.78125 74.21875 \nQ 44.046875 74.21875 50.515625 64.515625 \nQ 56.984375 54.828125 56.984375 36.375 \nQ 56.984375 17.96875 50.515625 8.265625 \nQ 44.046875 -1.421875 31.78125 -1.421875 \nQ 19.53125 -1.421875 13.0625 8.265625 \nQ 6.59375 17.96875 6.59375 36.375 \nQ 6.59375 54.828125 13.0625 64.515625 \nQ 19.53125 74.21875 31.78125 74.21875 \nz\n\" id=\"DejaVuSans-48\"/>\n       </defs>\n       <use xlink:href=\"#DejaVuSans-48\"/>\n      </g>\n     </g>\n    </g>\n    <g id=\"xtick_2\">\n     <g id=\"line2d_2\">\n      <g>\n       <use style=\"stroke:#000000;stroke-width:0.8;\" x=\"109.500399\" xlink:href=\"#m77bb0548e1\" y=\"224.64\"/>\n      </g>\n     </g>\n     <g id=\"text_2\">\n      <!-- 5000 -->\n      <g transform=\"translate(96.775399 239.238437)scale(0.1 -0.1)\">\n       <defs>\n        <path d=\"M 10.796875 72.90625 \nL 49.515625 72.90625 \nL 49.515625 64.59375 \nL 19.828125 64.59375 \nL 19.828125 46.734375 \nQ 21.96875 47.46875 24.109375 47.828125 \nQ 26.265625 48.1875 28.421875 48.1875 \nQ 40.625 48.1875 47.75 41.5 \nQ 54.890625 34.8125 54.890625 23.390625 \nQ 54.890625 11.625 47.5625 5.09375 \nQ 40.234375 -1.421875 26.90625 -1.421875 \nQ 22.3125 -1.421875 17.546875 -0.640625 \nQ 12.796875 0.140625 7.71875 1.703125 \nL 7.71875 11.625 \nQ 12.109375 9.234375 16.796875 8.0625 \nQ 21.484375 6.890625 26.703125 6.890625 \nQ 35.15625 6.890625 40.078125 11.328125 \nQ 45.015625 15.765625 45.015625 23.390625 \nQ 45.015625 31 40.078125 35.4375 \nQ 35.15625 39.890625 26.703125 39.890625 \nQ 22.75 39.890625 18.8125 39.015625 \nQ 14.890625 38.140625 10.796875 36.28125 \nz\n\" id=\"DejaVuSans-53\"/>\n       </defs>\n       <use xlink:href=\"#DejaVuSans-53\"/>\n       <use x=\"63.623047\" xlink:href=\"#DejaVuSans-48\"/>\n       <use x=\"127.246094\" xlink:href=\"#DejaVuSans-48\"/>\n       <use x=\"190.869141\" xlink:href=\"#DejaVuSans-48\"/>\n      </g>\n     </g>\n    </g>\n    <g id=\"xtick_3\">\n     <g id=\"line2d_3\">\n      <g>\n       <use style=\"stroke:#000000;stroke-width:0.8;\" x=\"170.495115\" xlink:href=\"#m77bb0548e1\" y=\"224.64\"/>\n      </g>\n     </g>\n     <g id=\"text_3\">\n      <!-- 10000 -->\n      <g transform=\"translate(154.588865 239.238437)scale(0.1 -0.1)\">\n       <defs>\n        <path d=\"M 12.40625 8.296875 \nL 28.515625 8.296875 \nL 28.515625 63.921875 \nL 10.984375 60.40625 \nL 10.984375 69.390625 \nL 28.421875 72.90625 \nL 38.28125 72.90625 \nL 38.28125 8.296875 \nL 54.390625 8.296875 \nL 54.390625 0 \nL 12.40625 0 \nz\n\" id=\"DejaVuSans-49\"/>\n       </defs>\n       <use xlink:href=\"#DejaVuSans-49\"/>\n       <use x=\"63.623047\" xlink:href=\"#DejaVuSans-48\"/>\n       <use x=\"127.246094\" xlink:href=\"#DejaVuSans-48\"/>\n       <use x=\"190.869141\" xlink:href=\"#DejaVuSans-48\"/>\n       <use x=\"254.492188\" xlink:href=\"#DejaVuSans-48\"/>\n      </g>\n     </g>\n    </g>\n    <g id=\"xtick_4\">\n     <g id=\"line2d_4\">\n      <g>\n       <use style=\"stroke:#000000;stroke-width:0.8;\" x=\"231.489832\" xlink:href=\"#m77bb0548e1\" y=\"224.64\"/>\n      </g>\n     </g>\n     <g id=\"text_4\">\n      <!-- 15000 -->\n      <g transform=\"translate(215.583582 239.238437)scale(0.1 -0.1)\">\n       <use xlink:href=\"#DejaVuSans-49\"/>\n       <use x=\"63.623047\" xlink:href=\"#DejaVuSans-53\"/>\n       <use x=\"127.246094\" xlink:href=\"#DejaVuSans-48\"/>\n       <use x=\"190.869141\" xlink:href=\"#DejaVuSans-48\"/>\n       <use x=\"254.492188\" xlink:href=\"#DejaVuSans-48\"/>\n      </g>\n     </g>\n    </g>\n    <g id=\"xtick_5\">\n     <g id=\"line2d_5\">\n      <g>\n       <use style=\"stroke:#000000;stroke-width:0.8;\" x=\"292.484549\" xlink:href=\"#m77bb0548e1\" y=\"224.64\"/>\n      </g>\n     </g>\n     <g id=\"text_5\">\n      <!-- 20000 -->\n      <g transform=\"translate(276.578299 239.238437)scale(0.1 -0.1)\">\n       <defs>\n        <path d=\"M 19.1875 8.296875 \nL 53.609375 8.296875 \nL 53.609375 0 \nL 7.328125 0 \nL 7.328125 8.296875 \nQ 12.9375 14.109375 22.625 23.890625 \nQ 32.328125 33.6875 34.8125 36.53125 \nQ 39.546875 41.84375 41.421875 45.53125 \nQ 43.3125 49.21875 43.3125 52.78125 \nQ 43.3125 58.59375 39.234375 62.25 \nQ 35.15625 65.921875 28.609375 65.921875 \nQ 23.96875 65.921875 18.8125 64.3125 \nQ 13.671875 62.703125 7.8125 59.421875 \nL 7.8125 69.390625 \nQ 13.765625 71.78125 18.9375 73 \nQ 24.125 74.21875 28.421875 74.21875 \nQ 39.75 74.21875 46.484375 68.546875 \nQ 53.21875 62.890625 53.21875 53.421875 \nQ 53.21875 48.921875 51.53125 44.890625 \nQ 49.859375 40.875 45.40625 35.40625 \nQ 44.1875 33.984375 37.640625 27.21875 \nQ 31.109375 20.453125 19.1875 8.296875 \nz\n\" id=\"DejaVuSans-50\"/>\n       </defs>\n       <use xlink:href=\"#DejaVuSans-50\"/>\n       <use x=\"63.623047\" xlink:href=\"#DejaVuSans-48\"/>\n       <use x=\"127.246094\" xlink:href=\"#DejaVuSans-48\"/>\n       <use x=\"190.869141\" xlink:href=\"#DejaVuSans-48\"/>\n       <use x=\"254.492188\" xlink:href=\"#DejaVuSans-48\"/>\n      </g>\n     </g>\n    </g>\n    <g id=\"xtick_6\">\n     <g id=\"line2d_6\">\n      <g>\n       <use style=\"stroke:#000000;stroke-width:0.8;\" x=\"353.479265\" xlink:href=\"#m77bb0548e1\" y=\"224.64\"/>\n      </g>\n     </g>\n     <g id=\"text_6\">\n      <!-- 25000 -->\n      <g transform=\"translate(337.573015 239.238437)scale(0.1 -0.1)\">\n       <use xlink:href=\"#DejaVuSans-50\"/>\n       <use x=\"63.623047\" xlink:href=\"#DejaVuSans-53\"/>\n       <use x=\"127.246094\" xlink:href=\"#DejaVuSans-48\"/>\n       <use x=\"190.869141\" xlink:href=\"#DejaVuSans-48\"/>\n       <use x=\"254.492188\" xlink:href=\"#DejaVuSans-48\"/>\n      </g>\n     </g>\n    </g>\n   </g>\n   <g id=\"matplotlib.axis_2\">\n    <g id=\"ytick_1\">\n     <g id=\"line2d_7\">\n      <defs>\n       <path d=\"M 0 0 \nL -3.5 0 \n\" id=\"m13ca814dd4\" style=\"stroke:#000000;stroke-width:0.8;\"/>\n      </defs>\n      <g>\n       <use style=\"stroke:#000000;stroke-width:0.8;\" x=\"33.2875\" xlink:href=\"#m13ca814dd4\" y=\"223.581039\"/>\n      </g>\n     </g>\n     <g id=\"text_7\">\n      <!-- 0 -->\n      <g transform=\"translate(19.925 227.380258)scale(0.1 -0.1)\">\n       <use xlink:href=\"#DejaVuSans-48\"/>\n      </g>\n     </g>\n    </g>\n    <g id=\"ytick_2\">\n     <g id=\"line2d_8\">\n      <g>\n       <use style=\"stroke:#000000;stroke-width:0.8;\" x=\"33.2875\" xlink:href=\"#m13ca814dd4\" y=\"194.165455\"/>\n      </g>\n     </g>\n     <g id=\"text_8\">\n      <!-- 100 -->\n      <g transform=\"translate(7.2 197.964673)scale(0.1 -0.1)\">\n       <use xlink:href=\"#DejaVuSans-49\"/>\n       <use x=\"63.623047\" xlink:href=\"#DejaVuSans-48\"/>\n       <use x=\"127.246094\" xlink:href=\"#DejaVuSans-48\"/>\n      </g>\n     </g>\n    </g>\n    <g id=\"ytick_3\">\n     <g id=\"line2d_9\">\n      <g>\n       <use style=\"stroke:#000000;stroke-width:0.8;\" x=\"33.2875\" xlink:href=\"#m13ca814dd4\" y=\"164.74987\"/>\n      </g>\n     </g>\n     <g id=\"text_9\">\n      <!-- 200 -->\n      <g transform=\"translate(7.2 168.549089)scale(0.1 -0.1)\">\n       <use xlink:href=\"#DejaVuSans-50\"/>\n       <use x=\"63.623047\" xlink:href=\"#DejaVuSans-48\"/>\n       <use x=\"127.246094\" xlink:href=\"#DejaVuSans-48\"/>\n      </g>\n     </g>\n    </g>\n    <g id=\"ytick_4\">\n     <g id=\"line2d_10\">\n      <g>\n       <use style=\"stroke:#000000;stroke-width:0.8;\" x=\"33.2875\" xlink:href=\"#m13ca814dd4\" y=\"135.334286\"/>\n      </g>\n     </g>\n     <g id=\"text_10\">\n      <!-- 300 -->\n      <g transform=\"translate(7.2 139.133504)scale(0.1 -0.1)\">\n       <defs>\n        <path d=\"M 40.578125 39.3125 \nQ 47.65625 37.796875 51.625 33 \nQ 55.609375 28.21875 55.609375 21.1875 \nQ 55.609375 10.40625 48.1875 4.484375 \nQ 40.765625 -1.421875 27.09375 -1.421875 \nQ 22.515625 -1.421875 17.65625 -0.515625 \nQ 12.796875 0.390625 7.625 2.203125 \nL 7.625 11.71875 \nQ 11.71875 9.328125 16.59375 8.109375 \nQ 21.484375 6.890625 26.8125 6.890625 \nQ 36.078125 6.890625 40.9375 10.546875 \nQ 45.796875 14.203125 45.796875 21.1875 \nQ 45.796875 27.640625 41.28125 31.265625 \nQ 36.765625 34.90625 28.71875 34.90625 \nL 20.21875 34.90625 \nL 20.21875 43.015625 \nL 29.109375 43.015625 \nQ 36.375 43.015625 40.234375 45.921875 \nQ 44.09375 48.828125 44.09375 54.296875 \nQ 44.09375 59.90625 40.109375 62.90625 \nQ 36.140625 65.921875 28.71875 65.921875 \nQ 24.65625 65.921875 20.015625 65.03125 \nQ 15.375 64.15625 9.8125 62.3125 \nL 9.8125 71.09375 \nQ 15.4375 72.65625 20.34375 73.4375 \nQ 25.25 74.21875 29.59375 74.21875 \nQ 40.828125 74.21875 47.359375 69.109375 \nQ 53.90625 64.015625 53.90625 55.328125 \nQ 53.90625 49.265625 50.4375 45.09375 \nQ 46.96875 40.921875 40.578125 39.3125 \nz\n\" id=\"DejaVuSans-51\"/>\n       </defs>\n       <use xlink:href=\"#DejaVuSans-51\"/>\n       <use x=\"63.623047\" xlink:href=\"#DejaVuSans-48\"/>\n       <use x=\"127.246094\" xlink:href=\"#DejaVuSans-48\"/>\n      </g>\n     </g>\n    </g>\n    <g id=\"ytick_5\">\n     <g id=\"line2d_11\">\n      <g>\n       <use style=\"stroke:#000000;stroke-width:0.8;\" x=\"33.2875\" xlink:href=\"#m13ca814dd4\" y=\"105.918701\"/>\n      </g>\n     </g>\n     <g id=\"text_11\">\n      <!-- 400 -->\n      <g transform=\"translate(7.2 109.71792)scale(0.1 -0.1)\">\n       <defs>\n        <path d=\"M 37.796875 64.3125 \nL 12.890625 25.390625 \nL 37.796875 25.390625 \nz\nM 35.203125 72.90625 \nL 47.609375 72.90625 \nL 47.609375 25.390625 \nL 58.015625 25.390625 \nL 58.015625 17.1875 \nL 47.609375 17.1875 \nL 47.609375 0 \nL 37.796875 0 \nL 37.796875 17.1875 \nL 4.890625 17.1875 \nL 4.890625 26.703125 \nz\n\" id=\"DejaVuSans-52\"/>\n       </defs>\n       <use xlink:href=\"#DejaVuSans-52\"/>\n       <use x=\"63.623047\" xlink:href=\"#DejaVuSans-48\"/>\n       <use x=\"127.246094\" xlink:href=\"#DejaVuSans-48\"/>\n      </g>\n     </g>\n    </g>\n    <g id=\"ytick_6\">\n     <g id=\"line2d_12\">\n      <g>\n       <use style=\"stroke:#000000;stroke-width:0.8;\" x=\"33.2875\" xlink:href=\"#m13ca814dd4\" y=\"76.503117\"/>\n      </g>\n     </g>\n     <g id=\"text_12\">\n      <!-- 500 -->\n      <g transform=\"translate(7.2 80.302336)scale(0.1 -0.1)\">\n       <use xlink:href=\"#DejaVuSans-53\"/>\n       <use x=\"63.623047\" xlink:href=\"#DejaVuSans-48\"/>\n       <use x=\"127.246094\" xlink:href=\"#DejaVuSans-48\"/>\n      </g>\n     </g>\n    </g>\n    <g id=\"ytick_7\">\n     <g id=\"line2d_13\">\n      <g>\n       <use style=\"stroke:#000000;stroke-width:0.8;\" x=\"33.2875\" xlink:href=\"#m13ca814dd4\" y=\"47.087532\"/>\n      </g>\n     </g>\n     <g id=\"text_13\">\n      <!-- 600 -->\n      <g transform=\"translate(7.2 50.886751)scale(0.1 -0.1)\">\n       <defs>\n        <path d=\"M 33.015625 40.375 \nQ 26.375 40.375 22.484375 35.828125 \nQ 18.609375 31.296875 18.609375 23.390625 \nQ 18.609375 15.53125 22.484375 10.953125 \nQ 26.375 6.390625 33.015625 6.390625 \nQ 39.65625 6.390625 43.53125 10.953125 \nQ 47.40625 15.53125 47.40625 23.390625 \nQ 47.40625 31.296875 43.53125 35.828125 \nQ 39.65625 40.375 33.015625 40.375 \nz\nM 52.59375 71.296875 \nL 52.59375 62.3125 \nQ 48.875 64.0625 45.09375 64.984375 \nQ 41.3125 65.921875 37.59375 65.921875 \nQ 27.828125 65.921875 22.671875 59.328125 \nQ 17.53125 52.734375 16.796875 39.40625 \nQ 19.671875 43.65625 24.015625 45.921875 \nQ 28.375 48.1875 33.59375 48.1875 \nQ 44.578125 48.1875 50.953125 41.515625 \nQ 57.328125 34.859375 57.328125 23.390625 \nQ 57.328125 12.15625 50.6875 5.359375 \nQ 44.046875 -1.421875 33.015625 -1.421875 \nQ 20.359375 -1.421875 13.671875 8.265625 \nQ 6.984375 17.96875 6.984375 36.375 \nQ 6.984375 53.65625 15.1875 63.9375 \nQ 23.390625 74.21875 37.203125 74.21875 \nQ 40.921875 74.21875 44.703125 73.484375 \nQ 48.484375 72.75 52.59375 71.296875 \nz\n\" id=\"DejaVuSans-54\"/>\n       </defs>\n       <use xlink:href=\"#DejaVuSans-54\"/>\n       <use x=\"63.623047\" xlink:href=\"#DejaVuSans-48\"/>\n       <use x=\"127.246094\" xlink:href=\"#DejaVuSans-48\"/>\n      </g>\n     </g>\n    </g>\n    <g id=\"ytick_8\">\n     <g id=\"line2d_14\">\n      <g>\n       <use style=\"stroke:#000000;stroke-width:0.8;\" x=\"33.2875\" xlink:href=\"#m13ca814dd4\" y=\"17.671948\"/>\n      </g>\n     </g>\n     <g id=\"text_14\">\n      <!-- 700 -->\n      <g transform=\"translate(7.2 21.471167)scale(0.1 -0.1)\">\n       <defs>\n        <path d=\"M 8.203125 72.90625 \nL 55.078125 72.90625 \nL 55.078125 68.703125 \nL 28.609375 0 \nL 18.3125 0 \nL 43.21875 64.59375 \nL 8.203125 64.59375 \nz\n\" id=\"DejaVuSans-55\"/>\n       </defs>\n       <use xlink:href=\"#DejaVuSans-55\"/>\n       <use x=\"63.623047\" xlink:href=\"#DejaVuSans-48\"/>\n       <use x=\"127.246094\" xlink:href=\"#DejaVuSans-48\"/>\n      </g>\n     </g>\n    </g>\n   </g>\n   <g id=\"line2d_15\">\n    <path clip-path=\"url(#p7a11e6b431)\" d=\"M 48.505682 214.756364 \nL 49.115629 208.579091 \nL 49.725576 205.343377 \nL 50.335523 199.46026 \nL 50.94547 196.518701 \nL 52.165365 189.164805 \nL 52.775312 187.988182 \nL 53.995206 181.516753 \nL 57.654889 167.691429 \nL 58.264836 165.926494 \nL 58.874784 164.74987 \nL 59.484731 162.984935 \nL 60.094678 162.396623 \nL 60.704625 160.925844 \nL 61.314572 159.749221 \nL 62.534467 158.572597 \nL 63.144414 156.807662 \nL 63.754361 153.866104 \nL 64.364308 153.866104 \nL 64.974255 152.983636 \nL 65.584202 151.512857 \nL 66.19415 148.277143 \nL 66.804097 147.688831 \nL 67.414044 146.218052 \nL 68.023991 145.335584 \nL 68.633938 144.747273 \nL 69.243885 144.453117 \nL 69.853833 143.864805 \nL 70.46378 142.982338 \nL 71.073727 141.217403 \nL 71.683674 141.217403 \nL 72.293621 140.629091 \nL 72.903569 139.746623 \nL 73.513516 138.57 \nL 74.73341 136.805065 \nL 75.343357 135.628442 \nL 75.953304 134.745974 \nL 76.563252 133.569351 \nL 78.393093 130.921948 \nL 79.00304 129.745325 \nL 79.612987 128.862857 \nL 80.222935 128.568701 \nL 80.832882 127.98039 \nL 81.442829 127.097922 \nL 82.052776 126.803766 \nL 82.662723 125.921299 \nL 83.27267 125.332987 \nL 83.882618 123.862208 \nL 84.492565 123.273896 \nL 85.102512 122.97974 \nL 85.712459 122.391429 \nL 86.322406 121.214805 \nL 86.932353 119.744026 \nL 87.542301 117.979091 \nL 88.152248 117.096623 \nL 89.982089 115.331688 \nL 90.592036 114.155065 \nL 91.201984 113.860909 \nL 91.811931 112.684286 \nL 92.421878 112.39013 \nL 93.641772 111.213506 \nL 94.861667 110.625195 \nL 95.471614 109.742727 \nL 96.081561 109.742727 \nL 97.301455 108.566104 \nL 97.911402 107.683636 \nL 99.131297 107.095325 \nL 99.741244 106.507013 \nL 100.351191 105.624545 \nL 100.961138 104.447922 \nL 101.571085 104.447922 \nL 102.181033 104.153766 \nL 103.400927 102.977143 \nL 104.010874 102.682987 \nL 104.620821 102.682987 \nL 105.840716 100.32974 \nL 107.670557 100.32974 \nL 108.280504 99.447273 \nL 108.890451 99.447273 \nL 109.500399 98.858961 \nL 110.110346 98.858961 \nL 111.940187 97.094026 \nL 112.550134 96.79987 \nL 113.770029 93.858312 \nL 114.379976 93.564156 \nL 114.989923 92.681688 \nL 116.209817 91.505065 \nL 117.429712 91.505065 \nL 118.039659 90.916753 \nL 118.649606 89.445974 \nL 119.259553 89.151818 \nL 119.8695 88.269351 \nL 120.479448 87.681039 \nL 121.089395 87.681039 \nL 121.699342 87.386883 \nL 122.309289 86.798571 \nL 122.919236 86.504416 \nL 123.529183 85.621948 \nL 124.139131 85.327792 \nL 124.749078 85.327792 \nL 125.968972 84.739481 \nL 127.798814 82.974545 \nL 129.018708 82.974545 \nL 129.628655 82.386234 \nL 130.238602 81.503766 \nL 130.848549 80.915455 \nL 131.458497 80.915455 \nL 132.068444 80.621299 \nL 132.678391 80.621299 \nL 133.898285 79.444675 \nL 135.11818 77.67974 \nL 136.338074 77.091429 \nL 136.948021 76.503117 \nL 137.557968 76.503117 \nL 138.777863 75.914805 \nL 139.38781 75.326494 \nL 139.997757 75.326494 \nL 140.607704 74.14987 \nL 141.217651 73.855714 \nL 141.827598 73.855714 \nL 143.047493 73.267403 \nL 144.877334 73.267403 \nL 146.707176 72.384935 \nL 147.317123 72.384935 \nL 150.976806 70.62 \nL 151.586753 70.62 \nL 152.1967 70.325844 \nL 152.806647 70.325844 \nL 153.416595 70.031688 \nL 155.856383 70.031688 \nL 157.686225 69.149221 \nL 158.296172 69.149221 \nL 158.906119 68.560909 \nL 159.516066 68.560909 \nL 160.735961 67.384286 \nL 161.955855 67.384286 \nL 163.175749 66.795974 \nL 163.785696 65.913506 \nL 164.395644 65.913506 \nL 165.005591 65.619351 \nL 165.615538 65.619351 \nL 166.225485 65.325195 \nL 166.835432 65.325195 \nL 167.445379 65.031039 \nL 168.665274 63.854416 \nL 169.885168 63.854416 \nL 171.105062 63.266104 \nL 171.71501 63.266104 \nL 172.324957 62.677792 \nL 172.934904 62.677792 \nL 174.154798 62.089481 \nL 174.764745 62.089481 \nL 175.374693 61.795325 \nL 176.594587 61.795325 \nL 177.204534 61.501169 \nL 177.814481 61.501169 \nL 178.424428 61.207013 \nL 179.034376 60.324545 \nL 180.25427 60.324545 \nL 181.474164 59.147922 \nL 182.694059 59.147922 \nL 183.304006 58.853766 \nL 183.913953 58.265455 \nL 186.353742 58.265455 \nL 187.573636 57.088831 \nL 188.79353 56.500519 \nL 189.403477 55.912208 \nL 190.013425 55.02974 \nL 190.623372 55.02974 \nL 191.233319 54.441429 \nL 192.453213 54.441429 \nL 193.06316 53.853117 \nL 193.673108 53.558961 \nL 194.283055 52.970649 \nL 194.893002 52.970649 \nL 195.502949 52.676494 \nL 196.112896 52.088182 \nL 197.332791 52.088182 \nL 199.162632 50.323247 \nL 200.382526 49.734935 \nL 201.602421 49.734935 \nL 202.212368 49.146623 \nL 202.822315 48.264156 \nL 204.652157 48.264156 \nL 205.872051 47.675844 \nL 207.091945 47.675844 \nL 207.701892 47.087532 \nL 208.31184 46.793377 \nL 209.531734 46.793377 \nL 211.361575 45.910909 \nL 211.971523 45.322597 \nL 212.58147 45.028442 \nL 213.191417 45.028442 \nL 213.801364 44.734286 \nL 214.411311 44.734286 \nL 215.021258 44.44013 \nL 215.631206 44.44013 \nL 216.241153 44.145974 \nL 216.8511 43.263506 \nL 217.461047 42.675195 \nL 218.070994 42.381039 \nL 219.900836 42.381039 \nL 220.510783 41.498571 \nL 224.170466 41.498571 \nL 224.780413 41.204416 \nL 225.39036 41.204416 \nL 226.000307 40.91026 \nL 226.610255 40.91026 \nL 227.220202 40.321948 \nL 228.440096 40.321948 \nL 229.050043 40.027792 \nL 230.879885 40.027792 \nL 232.099779 39.439481 \nL 232.709726 39.439481 \nL 233.319673 39.145325 \nL 233.929621 39.145325 \nL 235.759462 38.262857 \nL 237.589304 38.262857 \nL 238.809198 37.674545 \nL 240.639039 37.674545 \nL 242.468881 36.792078 \nL 246.128564 36.792078 \nL 246.738511 36.497922 \nL 247.958405 36.497922 \nL 249.1783 35.90961 \nL 251.618088 35.90961 \nL 252.228036 35.615455 \nL 252.837983 35.615455 \nL 253.44793 35.027143 \nL 254.057877 35.027143 \nL 255.277771 34.438831 \nL 257.107613 34.438831 \nL 257.71756 34.144675 \nL 261.377243 34.144675 \nL 262.597137 33.556364 \nL 264.426979 33.556364 \nL 265.646873 32.968052 \nL 267.476715 32.968052 \nL 268.696609 32.37974 \nL 274.796081 32.37974 \nL 277.235869 31.203117 \nL 277.845817 31.203117 \nL 279.065711 30.026494 \nL 283.335341 30.026494 \nL 283.945288 29.732338 \nL 285.77513 29.732338 \nL 286.385077 29.438182 \nL 287.604971 29.438182 \nL 288.214918 29.144026 \nL 288.824866 29.144026 \nL 289.434813 28.555714 \nL 290.654707 28.555714 \nL 291.264654 28.261558 \nL 292.484549 28.261558 \nL 293.094496 27.967403 \nL 294.924337 27.967403 \nL 295.534284 27.379091 \nL 296.144232 27.084935 \nL 297.364126 27.084935 \nL 297.974073 26.790779 \nL 302.85365 26.790779 \nL 303.463598 26.496623 \nL 304.073545 26.496623 \nL 305.293439 25.908312 \nL 306.513333 25.908312 \nL 307.123281 25.614156 \nL 307.733228 25.614156 \nL 309.563069 24.731688 \nL 310.782964 24.731688 \nL 311.392911 24.437532 \nL 313.832699 24.437532 \nL 314.442647 24.143377 \nL 315.052594 24.143377 \nL 315.662541 23.555065 \nL 317.492382 23.555065 \nL 318.712277 22.966753 \nL 319.932171 22.966753 \nL 320.542118 22.672597 \nL 325.421696 22.672597 \nL 326.031643 22.084286 \nL 327.251537 22.084286 \nL 327.861484 21.79013 \nL 328.471431 21.79013 \nL 329.081379 21.201818 \nL 330.91122 21.201818 \nL 331.521167 20.907662 \nL 332.741062 20.907662 \nL 333.351009 20.613506 \nL 335.18085 20.613506 \nL 335.790798 20.319351 \nL 336.400745 20.319351 \nL 337.010692 20.025195 \nL 337.620639 20.025195 \nL 338.230586 19.731039 \nL 339.450481 19.731039 \nL 340.060428 19.436883 \nL 341.280322 19.436883 \nL 341.890269 19.142727 \nL 342.500216 19.142727 \nL 343.720111 18.554416 \nL 344.330058 18.554416 \nL 344.940005 17.966104 \nL 347.379794 17.966104 \nL 347.989741 17.671948 \nL 348.599688 17.671948 \nL 349.209635 17.377792 \nL 351.039477 17.377792 \nL 351.649424 17.083636 \nL 352.869318 17.083636 \nL 352.869318 17.083636 \n\" style=\"fill:none;stroke:#1f77b4;stroke-linecap:square;stroke-width:1.5;\"/>\n   </g>\n   <g id=\"patch_3\">\n    <path d=\"M 33.2875 224.64 \nL 33.2875 7.2 \n\" style=\"fill:none;stroke:#000000;stroke-linecap:square;stroke-linejoin:miter;stroke-width:0.8;\"/>\n   </g>\n   <g id=\"patch_4\">\n    <path d=\"M 368.0875 224.64 \nL 368.0875 7.2 \n\" style=\"fill:none;stroke:#000000;stroke-linecap:square;stroke-linejoin:miter;stroke-width:0.8;\"/>\n   </g>\n   <g id=\"patch_5\">\n    <path d=\"M 33.2875 224.64 \nL 368.0875 224.64 \n\" style=\"fill:none;stroke:#000000;stroke-linecap:square;stroke-linejoin:miter;stroke-width:0.8;\"/>\n   </g>\n   <g id=\"patch_6\">\n    <path d=\"M 33.2875 7.2 \nL 368.0875 7.2 \n\" style=\"fill:none;stroke:#000000;stroke-linecap:square;stroke-linejoin:miter;stroke-width:0.8;\"/>\n   </g>\n  </g>\n </g>\n <defs>\n  <clipPath id=\"p7a11e6b431\">\n   <rect height=\"217.44\" width=\"334.8\" x=\"33.2875\" y=\"7.2\"/>\n  </clipPath>\n </defs>\n</svg>\n",
      "image/png": "[encoded data removed]"
     },
     "metadata": {
      "needs_background": "light"
     }
    }
   ],
   "source": [
    "gopher2 = MotifGopher(\n",
    "    texts,\n",
    "    thresh=0.1,\n",
    "    max_corr=0.9,\n",
    "    confidence=0.99,\n",
    "    r=0.25\n",
    ")\n",
    "plot_hunt(gopher2)"
   ]
  },
  {
   "source": [
    "Already I am rather suspicious of a difference, but I think I know why the gopher with the lower thresh behaves in this way. It guesses a lot of repeated motifs because the motifs being generated are generally only a few characters long. In the rare times when it does generate a longer motif, it is tends to keep it. Therefore more hunts are needed before the curve will flatten."
   ],
   "cell_type": "markdown",
   "metadata": {}
  },
  {
   "cell_type": "code",
   "execution_count": 32,
   "metadata": {},
   "outputs": [
    {
     "output_type": "stream",
     "name": "stdout",
     "text": [
      "Hang in there. 0.0% finished.\n",
      "Hang in there. 0.1% finished.\n",
      "Hang in there. 0.2% finished.\n",
      "Hang in there. 0.3% finished.\n",
      "Hang in there. 0.4% finished.\n",
      "Hang in there. 0.5% finished.\n",
      "Hang in there. 0.6% finished.\n",
      "Hang in there. 0.7% finished.\n",
      "Hang in there. 0.8% finished.\n",
      "Hang in there. 0.9% finished.\n"
     ]
    },
    {
     "output_type": "display_data",
     "data": {
      "text/plain": "<Figure size 432x288 with 1 Axes>",
      "image/svg+xml": "<?xml version=\"1.0\" encoding=\"utf-8\" standalone=\"no\"?>\n<!DOCTYPE svg PUBLIC \"-//W3C//DTD SVG 1.1//EN\"\n  \"http://www.w3.org/Graphics/SVG/1.1/DTD/svg11.dtd\">\n<!-- Created with matplotlib (https://matplotlib.org/) -->\n<svg height=\"248.518125pt\" version=\"1.1\" viewBox=\"0 0 376.585515 248.518125\" width=\"376.585515pt\" xmlns=\"http://www.w3.org/2000/svg\" xmlns:xlink=\"http://www.w3.org/1999/xlink\">\n <metadata>\n  <rdf:RDF xmlns:cc=\"http://creativecommons.org/ns#\" xmlns:dc=\"http://purl.org/dc/elements/1.1/\" xmlns:rdf=\"http://www.w3.org/1999/02/22-rdf-syntax-ns#\">\n   <cc:Work>\n    <dc:type rdf:resource=\"http://purl.org/dc/dcmitype/StillImage\"/>\n    <dc:date>2021-03-03T16:45:41.171922</dc:date>\n    <dc:format>image/svg+xml</dc:format>\n    <dc:creator>\n     <cc:Agent>\n      <dc:title>Matplotlib v3.3.4, https://matplotlib.org/</dc:title>\n     </cc:Agent>\n    </dc:creator>\n   </cc:Work>\n  </rdf:RDF>\n </metadata>\n <defs>\n  <style type=\"text/css\">*{stroke-linecap:butt;stroke-linejoin:round;}</style>\n </defs>\n <g id=\"figure_1\">\n  <g id=\"patch_1\">\n   <path d=\"M 0 248.518125 \nL 376.585515 248.518125 \nL 376.585515 0 \nL 0 0 \nz\n\" style=\"fill:none;\"/>\n  </g>\n  <g id=\"axes_1\">\n   <g id=\"patch_2\">\n    <path d=\"M 33.2875 224.64 \nL 368.0875 224.64 \nL 368.0875 7.2 \nL 33.2875 7.2 \nz\n\" style=\"fill:#ffffff;\"/>\n   </g>\n   <g id=\"matplotlib.axis_1\">\n    <g id=\"xtick_1\">\n     <g id=\"line2d_1\">\n      <defs>\n       <path d=\"M 0 0 \nL 0 3.5 \n\" id=\"mcdc2ebca2a\" style=\"stroke:#000000;stroke-width:0.8;\"/>\n      </defs>\n      <g>\n       <use style=\"stroke:#000000;stroke-width:0.8;\" x=\"48.505682\" xlink:href=\"#mcdc2ebca2a\" y=\"224.64\"/>\n      </g>\n     </g>\n     <g id=\"text_1\">\n      <!-- 0 -->\n      <g transform=\"translate(45.324432 239.238437)scale(0.1 -0.1)\">\n       <defs>\n        <path d=\"M 31.78125 66.40625 \nQ 24.171875 66.40625 20.328125 58.90625 \nQ 16.5 51.421875 16.5 36.375 \nQ 16.5 21.390625 20.328125 13.890625 \nQ 24.171875 6.390625 31.78125 6.390625 \nQ 39.453125 6.390625 43.28125 13.890625 \nQ 47.125 21.390625 47.125 36.375 \nQ 47.125 51.421875 43.28125 58.90625 \nQ 39.453125 66.40625 31.78125 66.40625 \nz\nM 31.78125 74.21875 \nQ 44.046875 74.21875 50.515625 64.515625 \nQ 56.984375 54.828125 56.984375 36.375 \nQ 56.984375 17.96875 50.515625 8.265625 \nQ 44.046875 -1.421875 31.78125 -1.421875 \nQ 19.53125 -1.421875 13.0625 8.265625 \nQ 6.59375 17.96875 6.59375 36.375 \nQ 6.59375 54.828125 13.0625 64.515625 \nQ 19.53125 74.21875 31.78125 74.21875 \nz\n\" id=\"DejaVuSans-48\"/>\n       </defs>\n       <use xlink:href=\"#DejaVuSans-48\"/>\n      </g>\n     </g>\n    </g>\n    <g id=\"xtick_2\">\n     <g id=\"line2d_2\">\n      <g>\n       <use style=\"stroke:#000000;stroke-width:0.8;\" x=\"109.500399\" xlink:href=\"#mcdc2ebca2a\" y=\"224.64\"/>\n      </g>\n     </g>\n     <g id=\"text_2\">\n      <!-- 5000 -->\n      <g transform=\"translate(96.775399 239.238437)scale(0.1 -0.1)\">\n       <defs>\n        <path d=\"M 10.796875 72.90625 \nL 49.515625 72.90625 \nL 49.515625 64.59375 \nL 19.828125 64.59375 \nL 19.828125 46.734375 \nQ 21.96875 47.46875 24.109375 47.828125 \nQ 26.265625 48.1875 28.421875 48.1875 \nQ 40.625 48.1875 47.75 41.5 \nQ 54.890625 34.8125 54.890625 23.390625 \nQ 54.890625 11.625 47.5625 5.09375 \nQ 40.234375 -1.421875 26.90625 -1.421875 \nQ 22.3125 -1.421875 17.546875 -0.640625 \nQ 12.796875 0.140625 7.71875 1.703125 \nL 7.71875 11.625 \nQ 12.109375 9.234375 16.796875 8.0625 \nQ 21.484375 6.890625 26.703125 6.890625 \nQ 35.15625 6.890625 40.078125 11.328125 \nQ 45.015625 15.765625 45.015625 23.390625 \nQ 45.015625 31 40.078125 35.4375 \nQ 35.15625 39.890625 26.703125 39.890625 \nQ 22.75 39.890625 18.8125 39.015625 \nQ 14.890625 38.140625 10.796875 36.28125 \nz\n\" id=\"DejaVuSans-53\"/>\n       </defs>\n       <use xlink:href=\"#DejaVuSans-53\"/>\n       <use x=\"63.623047\" xlink:href=\"#DejaVuSans-48\"/>\n       <use x=\"127.246094\" xlink:href=\"#DejaVuSans-48\"/>\n       <use x=\"190.869141\" xlink:href=\"#DejaVuSans-48\"/>\n      </g>\n     </g>\n    </g>\n    <g id=\"xtick_3\">\n     <g id=\"line2d_3\">\n      <g>\n       <use style=\"stroke:#000000;stroke-width:0.8;\" x=\"170.495115\" xlink:href=\"#mcdc2ebca2a\" y=\"224.64\"/>\n      </g>\n     </g>\n     <g id=\"text_3\">\n      <!-- 10000 -->\n      <g transform=\"translate(154.588865 239.238437)scale(0.1 -0.1)\">\n       <defs>\n        <path d=\"M 12.40625 8.296875 \nL 28.515625 8.296875 \nL 28.515625 63.921875 \nL 10.984375 60.40625 \nL 10.984375 69.390625 \nL 28.421875 72.90625 \nL 38.28125 72.90625 \nL 38.28125 8.296875 \nL 54.390625 8.296875 \nL 54.390625 0 \nL 12.40625 0 \nz\n\" id=\"DejaVuSans-49\"/>\n       </defs>\n       <use xlink:href=\"#DejaVuSans-49\"/>\n       <use x=\"63.623047\" xlink:href=\"#DejaVuSans-48\"/>\n       <use x=\"127.246094\" xlink:href=\"#DejaVuSans-48\"/>\n       <use x=\"190.869141\" xlink:href=\"#DejaVuSans-48\"/>\n       <use x=\"254.492188\" xlink:href=\"#DejaVuSans-48\"/>\n      </g>\n     </g>\n    </g>\n    <g id=\"xtick_4\">\n     <g id=\"line2d_4\">\n      <g>\n       <use style=\"stroke:#000000;stroke-width:0.8;\" x=\"231.489832\" xlink:href=\"#mcdc2ebca2a\" y=\"224.64\"/>\n      </g>\n     </g>\n     <g id=\"text_4\">\n      <!-- 15000 -->\n      <g transform=\"translate(215.583582 239.238437)scale(0.1 -0.1)\">\n       <use xlink:href=\"#DejaVuSans-49\"/>\n       <use x=\"63.623047\" xlink:href=\"#DejaVuSans-53\"/>\n       <use x=\"127.246094\" xlink:href=\"#DejaVuSans-48\"/>\n       <use x=\"190.869141\" xlink:href=\"#DejaVuSans-48\"/>\n       <use x=\"254.492188\" xlink:href=\"#DejaVuSans-48\"/>\n      </g>\n     </g>\n    </g>\n    <g id=\"xtick_5\">\n     <g id=\"line2d_5\">\n      <g>\n       <use style=\"stroke:#000000;stroke-width:0.8;\" x=\"292.484549\" xlink:href=\"#mcdc2ebca2a\" y=\"224.64\"/>\n      </g>\n     </g>\n     <g id=\"text_5\">\n      <!-- 20000 -->\n      <g transform=\"translate(276.578299 239.238437)scale(0.1 -0.1)\">\n       <defs>\n        <path d=\"M 19.1875 8.296875 \nL 53.609375 8.296875 \nL 53.609375 0 \nL 7.328125 0 \nL 7.328125 8.296875 \nQ 12.9375 14.109375 22.625 23.890625 \nQ 32.328125 33.6875 34.8125 36.53125 \nQ 39.546875 41.84375 41.421875 45.53125 \nQ 43.3125 49.21875 43.3125 52.78125 \nQ 43.3125 58.59375 39.234375 62.25 \nQ 35.15625 65.921875 28.609375 65.921875 \nQ 23.96875 65.921875 18.8125 64.3125 \nQ 13.671875 62.703125 7.8125 59.421875 \nL 7.8125 69.390625 \nQ 13.765625 71.78125 18.9375 73 \nQ 24.125 74.21875 28.421875 74.21875 \nQ 39.75 74.21875 46.484375 68.546875 \nQ 53.21875 62.890625 53.21875 53.421875 \nQ 53.21875 48.921875 51.53125 44.890625 \nQ 49.859375 40.875 45.40625 35.40625 \nQ 44.1875 33.984375 37.640625 27.21875 \nQ 31.109375 20.453125 19.1875 8.296875 \nz\n\" id=\"DejaVuSans-50\"/>\n       </defs>\n       <use xlink:href=\"#DejaVuSans-50\"/>\n       <use x=\"63.623047\" xlink:href=\"#DejaVuSans-48\"/>\n       <use x=\"127.246094\" xlink:href=\"#DejaVuSans-48\"/>\n       <use x=\"190.869141\" xlink:href=\"#DejaVuSans-48\"/>\n       <use x=\"254.492188\" xlink:href=\"#DejaVuSans-48\"/>\n      </g>\n     </g>\n    </g>\n    <g id=\"xtick_6\">\n     <g id=\"line2d_6\">\n      <g>\n       <use style=\"stroke:#000000;stroke-width:0.8;\" x=\"353.479265\" xlink:href=\"#mcdc2ebca2a\" y=\"224.64\"/>\n      </g>\n     </g>\n     <g id=\"text_6\">\n      <!-- 25000 -->\n      <g transform=\"translate(337.573015 239.238437)scale(0.1 -0.1)\">\n       <use xlink:href=\"#DejaVuSans-50\"/>\n       <use x=\"63.623047\" xlink:href=\"#DejaVuSans-53\"/>\n       <use x=\"127.246094\" xlink:href=\"#DejaVuSans-48\"/>\n       <use x=\"190.869141\" xlink:href=\"#DejaVuSans-48\"/>\n       <use x=\"254.492188\" xlink:href=\"#DejaVuSans-48\"/>\n      </g>\n     </g>\n    </g>\n   </g>\n   <g id=\"matplotlib.axis_2\">\n    <g id=\"ytick_1\">\n     <g id=\"line2d_7\">\n      <defs>\n       <path d=\"M 0 0 \nL -3.5 0 \n\" id=\"mbc31e27c65\" style=\"stroke:#000000;stroke-width:0.8;\"/>\n      </defs>\n      <g>\n       <use style=\"stroke:#000000;stroke-width:0.8;\" x=\"33.2875\" xlink:href=\"#mbc31e27c65\" y=\"218.874545\"/>\n      </g>\n     </g>\n     <g id=\"text_7\">\n      <!-- 700 -->\n      <g transform=\"translate(7.2 222.673764)scale(0.1 -0.1)\">\n       <defs>\n        <path d=\"M 8.203125 72.90625 \nL 55.078125 72.90625 \nL 55.078125 68.703125 \nL 28.609375 0 \nL 18.3125 0 \nL 43.21875 64.59375 \nL 8.203125 64.59375 \nz\n\" id=\"DejaVuSans-55\"/>\n       </defs>\n       <use xlink:href=\"#DejaVuSans-55\"/>\n       <use x=\"63.623047\" xlink:href=\"#DejaVuSans-48\"/>\n       <use x=\"127.246094\" xlink:href=\"#DejaVuSans-48\"/>\n      </g>\n     </g>\n    </g>\n    <g id=\"ytick_2\">\n     <g id=\"line2d_8\">\n      <g>\n       <use style=\"stroke:#000000;stroke-width:0.8;\" x=\"33.2875\" xlink:href=\"#mbc31e27c65\" y=\"177.692727\"/>\n      </g>\n     </g>\n     <g id=\"text_8\">\n      <!-- 720 -->\n      <g transform=\"translate(7.2 181.491946)scale(0.1 -0.1)\">\n       <use xlink:href=\"#DejaVuSans-55\"/>\n       <use x=\"63.623047\" xlink:href=\"#DejaVuSans-50\"/>\n       <use x=\"127.246094\" xlink:href=\"#DejaVuSans-48\"/>\n      </g>\n     </g>\n    </g>\n    <g id=\"ytick_3\">\n     <g id=\"line2d_9\">\n      <g>\n       <use style=\"stroke:#000000;stroke-width:0.8;\" x=\"33.2875\" xlink:href=\"#mbc31e27c65\" y=\"136.510909\"/>\n      </g>\n     </g>\n     <g id=\"text_9\">\n      <!-- 740 -->\n      <g transform=\"translate(7.2 140.310128)scale(0.1 -0.1)\">\n       <defs>\n        <path d=\"M 37.796875 64.3125 \nL 12.890625 25.390625 \nL 37.796875 25.390625 \nz\nM 35.203125 72.90625 \nL 47.609375 72.90625 \nL 47.609375 25.390625 \nL 58.015625 25.390625 \nL 58.015625 17.1875 \nL 47.609375 17.1875 \nL 47.609375 0 \nL 37.796875 0 \nL 37.796875 17.1875 \nL 4.890625 17.1875 \nL 4.890625 26.703125 \nz\n\" id=\"DejaVuSans-52\"/>\n       </defs>\n       <use xlink:href=\"#DejaVuSans-55\"/>\n       <use x=\"63.623047\" xlink:href=\"#DejaVuSans-52\"/>\n       <use x=\"127.246094\" xlink:href=\"#DejaVuSans-48\"/>\n      </g>\n     </g>\n    </g>\n    <g id=\"ytick_4\">\n     <g id=\"line2d_10\">\n      <g>\n       <use style=\"stroke:#000000;stroke-width:0.8;\" x=\"33.2875\" xlink:href=\"#mbc31e27c65\" y=\"95.329091\"/>\n      </g>\n     </g>\n     <g id=\"text_10\">\n      <!-- 760 -->\n      <g transform=\"translate(7.2 99.12831)scale(0.1 -0.1)\">\n       <defs>\n        <path d=\"M 33.015625 40.375 \nQ 26.375 40.375 22.484375 35.828125 \nQ 18.609375 31.296875 18.609375 23.390625 \nQ 18.609375 15.53125 22.484375 10.953125 \nQ 26.375 6.390625 33.015625 6.390625 \nQ 39.65625 6.390625 43.53125 10.953125 \nQ 47.40625 15.53125 47.40625 23.390625 \nQ 47.40625 31.296875 43.53125 35.828125 \nQ 39.65625 40.375 33.015625 40.375 \nz\nM 52.59375 71.296875 \nL 52.59375 62.3125 \nQ 48.875 64.0625 45.09375 64.984375 \nQ 41.3125 65.921875 37.59375 65.921875 \nQ 27.828125 65.921875 22.671875 59.328125 \nQ 17.53125 52.734375 16.796875 39.40625 \nQ 19.671875 43.65625 24.015625 45.921875 \nQ 28.375 48.1875 33.59375 48.1875 \nQ 44.578125 48.1875 50.953125 41.515625 \nQ 57.328125 34.859375 57.328125 23.390625 \nQ 57.328125 12.15625 50.6875 5.359375 \nQ 44.046875 -1.421875 33.015625 -1.421875 \nQ 20.359375 -1.421875 13.671875 8.265625 \nQ 6.984375 17.96875 6.984375 36.375 \nQ 6.984375 53.65625 15.1875 63.9375 \nQ 23.390625 74.21875 37.203125 74.21875 \nQ 40.921875 74.21875 44.703125 73.484375 \nQ 48.484375 72.75 52.59375 71.296875 \nz\n\" id=\"DejaVuSans-54\"/>\n       </defs>\n       <use xlink:href=\"#DejaVuSans-55\"/>\n       <use x=\"63.623047\" xlink:href=\"#DejaVuSans-54\"/>\n       <use x=\"127.246094\" xlink:href=\"#DejaVuSans-48\"/>\n      </g>\n     </g>\n    </g>\n    <g id=\"ytick_5\">\n     <g id=\"line2d_11\">\n      <g>\n       <use style=\"stroke:#000000;stroke-width:0.8;\" x=\"33.2875\" xlink:href=\"#mbc31e27c65\" y=\"54.147273\"/>\n      </g>\n     </g>\n     <g id=\"text_11\">\n      <!-- 780 -->\n      <g transform=\"translate(7.2 57.946491)scale(0.1 -0.1)\">\n       <defs>\n        <path d=\"M 31.78125 34.625 \nQ 24.75 34.625 20.71875 30.859375 \nQ 16.703125 27.09375 16.703125 20.515625 \nQ 16.703125 13.921875 20.71875 10.15625 \nQ 24.75 6.390625 31.78125 6.390625 \nQ 38.8125 6.390625 42.859375 10.171875 \nQ 46.921875 13.96875 46.921875 20.515625 \nQ 46.921875 27.09375 42.890625 30.859375 \nQ 38.875 34.625 31.78125 34.625 \nz\nM 21.921875 38.8125 \nQ 15.578125 40.375 12.03125 44.71875 \nQ 8.5 49.078125 8.5 55.328125 \nQ 8.5 64.0625 14.71875 69.140625 \nQ 20.953125 74.21875 31.78125 74.21875 \nQ 42.671875 74.21875 48.875 69.140625 \nQ 55.078125 64.0625 55.078125 55.328125 \nQ 55.078125 49.078125 51.53125 44.71875 \nQ 48 40.375 41.703125 38.8125 \nQ 48.828125 37.15625 52.796875 32.3125 \nQ 56.78125 27.484375 56.78125 20.515625 \nQ 56.78125 9.90625 50.3125 4.234375 \nQ 43.84375 -1.421875 31.78125 -1.421875 \nQ 19.734375 -1.421875 13.25 4.234375 \nQ 6.78125 9.90625 6.78125 20.515625 \nQ 6.78125 27.484375 10.78125 32.3125 \nQ 14.796875 37.15625 21.921875 38.8125 \nz\nM 18.3125 54.390625 \nQ 18.3125 48.734375 21.84375 45.5625 \nQ 25.390625 42.390625 31.78125 42.390625 \nQ 38.140625 42.390625 41.71875 45.5625 \nQ 45.3125 48.734375 45.3125 54.390625 \nQ 45.3125 60.0625 41.71875 63.234375 \nQ 38.140625 66.40625 31.78125 66.40625 \nQ 25.390625 66.40625 21.84375 63.234375 \nQ 18.3125 60.0625 18.3125 54.390625 \nz\n\" id=\"DejaVuSans-56\"/>\n       </defs>\n       <use xlink:href=\"#DejaVuSans-55\"/>\n       <use x=\"63.623047\" xlink:href=\"#DejaVuSans-56\"/>\n       <use x=\"127.246094\" xlink:href=\"#DejaVuSans-48\"/>\n      </g>\n     </g>\n    </g>\n    <g id=\"ytick_6\">\n     <g id=\"line2d_12\">\n      <g>\n       <use style=\"stroke:#000000;stroke-width:0.8;\" x=\"33.2875\" xlink:href=\"#mbc31e27c65\" y=\"12.965455\"/>\n      </g>\n     </g>\n     <g id=\"text_12\">\n      <!-- 800 -->\n      <g transform=\"translate(7.2 16.764673)scale(0.1 -0.1)\">\n       <use xlink:href=\"#DejaVuSans-56\"/>\n       <use x=\"63.623047\" xlink:href=\"#DejaVuSans-48\"/>\n       <use x=\"127.246094\" xlink:href=\"#DejaVuSans-48\"/>\n      </g>\n     </g>\n    </g>\n   </g>\n   <g id=\"line2d_13\">\n    <path clip-path=\"url(#p09244b5c79)\" d=\"M 48.505682 214.756364 \nL 49.725576 214.756364 \nL 50.335523 212.697273 \nL 54.605153 212.697273 \nL 55.825048 208.579091 \nL 56.434995 204.460909 \nL 57.044942 202.401818 \nL 57.654889 202.401818 \nL 58.264836 200.342727 \nL 59.484731 200.342727 \nL 60.094678 198.283636 \nL 62.534467 198.283636 \nL 63.754361 194.165455 \nL 64.364308 194.165455 \nL 64.974255 192.106364 \nL 65.584202 192.106364 \nL 66.19415 190.047273 \nL 68.633938 190.047273 \nL 69.243885 187.988182 \nL 71.683674 187.988182 \nL 72.903569 183.87 \nL 73.513516 179.751818 \nL 79.00304 179.751818 \nL 79.612987 177.692727 \nL 81.442829 177.692727 \nL 82.662723 173.574545 \nL 84.492565 173.574545 \nL 85.102512 171.515455 \nL 89.372142 171.515455 \nL 90.592036 167.397273 \nL 92.421878 167.397273 \nL 93.031825 165.338182 \nL 97.301455 165.338182 \nL 97.911402 161.22 \nL 98.52135 161.22 \nL 99.131297 159.160909 \nL 105.840716 159.160909 \nL 106.450663 157.101818 \nL 107.06061 157.101818 \nL 107.670557 152.983636 \nL 108.280504 152.983636 \nL 108.890451 150.924545 \nL 110.720293 150.924545 \nL 111.33024 146.806364 \nL 113.160082 146.806364 \nL 113.770029 142.688182 \nL 119.8695 142.688182 \nL 120.479448 140.629091 \nL 122.309289 140.629091 \nL 122.919236 136.510909 \nL 127.188866 136.510909 \nL 127.798814 134.451818 \nL 130.848549 134.451818 \nL 131.458497 132.392727 \nL 132.068444 132.392727 \nL 132.678391 130.333636 \nL 133.288338 130.333636 \nL 133.898285 128.274545 \nL 141.217651 128.274545 \nL 141.827598 126.215455 \nL 143.65744 126.215455 \nL 144.267387 124.156364 \nL 150.366859 124.156364 \nL 150.976806 122.097273 \nL 154.026542 122.097273 \nL 154.636489 120.038182 \nL 162.565802 120.038182 \nL 163.175749 117.979091 \nL 163.785696 117.979091 \nL 164.395644 115.92 \nL 166.225485 115.92 \nL 166.835432 113.860909 \nL 167.445379 113.860909 \nL 168.055327 109.742727 \nL 168.665274 107.683636 \nL 170.495115 107.683636 \nL 172.324957 101.506364 \nL 175.98464 101.506364 \nL 176.594587 99.447273 \nL 182.694059 99.447273 \nL 183.304006 97.388182 \nL 190.013425 97.388182 \nL 190.623372 95.329091 \nL 193.06316 95.329091 \nL 193.673108 93.27 \nL 196.722843 93.27 \nL 197.332791 91.210909 \nL 210.751628 91.210909 \nL 211.361575 89.151818 \nL 211.971523 89.151818 \nL 212.58147 87.092727 \nL 213.801364 87.092727 \nL 214.411311 85.033636 \nL 217.461047 85.033636 \nL 218.680941 80.915455 \nL 219.900836 80.915455 \nL 221.730677 74.738182 \nL 224.170466 74.738182 \nL 224.780413 70.62 \nL 227.830149 70.62 \nL 228.440096 68.560909 \nL 230.269938 68.560909 \nL 230.879885 66.501818 \nL 234.539568 66.501818 \nL 235.149515 64.442727 \nL 236.369409 64.442727 \nL 236.979356 62.383636 \nL 241.248987 62.383636 \nL 241.858934 60.324545 \nL 244.298722 60.324545 \nL 244.90867 58.265455 \nL 251.618088 58.265455 \nL 252.837983 54.147273 \nL 254.667824 54.147273 \nL 255.277771 52.088182 \nL 257.107613 52.088182 \nL 257.71756 50.029091 \nL 258.327507 50.029091 \nL 258.937454 45.910909 \nL 259.547402 45.910909 \nL 260.157349 43.851818 \nL 263.817032 43.851818 \nL 264.426979 41.792727 \nL 268.696609 41.792727 \nL 269.306556 39.733636 \nL 270.526451 39.733636 \nL 271.136398 37.674545 \nL 277.845817 37.674545 \nL 278.455764 33.556364 \nL 286.385077 33.556364 \nL 286.995024 31.497273 \nL 310.173016 31.497273 \nL 310.782964 29.438182 \nL 312.002858 29.438182 \nL 312.612805 25.32 \nL 316.272488 25.32 \nL 316.882435 23.260909 \nL 317.492382 23.260909 \nL 318.10233 21.201818 \nL 319.932171 21.201818 \nL 320.542118 19.142727 \nL 349.209635 19.142727 \nL 349.819582 17.083636 \nL 352.869318 17.083636 \nL 352.869318 17.083636 \n\" style=\"fill:none;stroke:#1f77b4;stroke-linecap:square;stroke-width:1.5;\"/>\n   </g>\n   <g id=\"patch_3\">\n    <path d=\"M 33.2875 224.64 \nL 33.2875 7.2 \n\" style=\"fill:none;stroke:#000000;stroke-linecap:square;stroke-linejoin:miter;stroke-width:0.8;\"/>\n   </g>\n   <g id=\"patch_4\">\n    <path d=\"M 368.0875 224.64 \nL 368.0875 7.2 \n\" style=\"fill:none;stroke:#000000;stroke-linecap:square;stroke-linejoin:miter;stroke-width:0.8;\"/>\n   </g>\n   <g id=\"patch_5\">\n    <path d=\"M 33.2875 224.64 \nL 368.0875 224.64 \n\" style=\"fill:none;stroke:#000000;stroke-linecap:square;stroke-linejoin:miter;stroke-width:0.8;\"/>\n   </g>\n   <g id=\"patch_6\">\n    <path d=\"M 33.2875 7.2 \nL 368.0875 7.2 \n\" style=\"fill:none;stroke:#000000;stroke-linecap:square;stroke-linejoin:miter;stroke-width:0.8;\"/>\n   </g>\n  </g>\n </g>\n <defs>\n  <clipPath id=\"p09244b5c79\">\n   <rect height=\"217.44\" width=\"334.8\" x=\"33.2875\" y=\"7.2\"/>\n  </clipPath>\n </defs>\n</svg>\n",
      "image/png": "[encoded data removed]"
     },
     "metadata": {
      "needs_background": "light"
     }
    }
   ],
   "source": [
    "plot_hunt(gopher2)"
   ]
  },
  {
   "source": [
    "(sigh) It is not flattening out."
   ],
   "cell_type": "markdown",
   "metadata": {}
  },
  {
   "cell_type": "code",
   "execution_count": 33,
   "metadata": {},
   "outputs": [
    {
     "output_type": "stream",
     "name": "stdout",
     "text": [
      "Hang in there. 0.0% finished.\n",
      "Hang in there. 0.1% finished.\n",
      "Hang in there. 0.2% finished.\n",
      "Hang in there. 0.3% finished.\n",
      "Hang in there. 0.4% finished.\n",
      "Hang in there. 0.5% finished.\n",
      "Hang in there. 0.6% finished.\n",
      "Hang in there. 0.7% finished.\n",
      "Hang in there. 0.8% finished.\n",
      "Hang in there. 0.9% finished.\n",
      "Hang in there. 0.0% finished.\n",
      "Hang in there. 0.1% finished.\n",
      "Hang in there. 0.2% finished.\n",
      "Hang in there. 0.3% finished.\n",
      "Hang in there. 0.4% finished.\n",
      "Hang in there. 0.5% finished.\n",
      "Hang in there. 0.6% finished.\n",
      "Hang in there. 0.7% finished.\n",
      "Hang in there. 0.8% finished.\n",
      "Hang in there. 0.9% finished.\n",
      "Hang in there. 0.0% finished.\n",
      "Hang in there. 0.1% finished.\n",
      "Hang in there. 0.2% finished.\n",
      "Hang in there. 0.3% finished.\n",
      "Hang in there. 0.4% finished.\n",
      "Hang in there. 0.5% finished.\n",
      "Hang in there. 0.6% finished.\n",
      "Hang in there. 0.7% finished.\n",
      "Hang in there. 0.8% finished.\n",
      "Hang in there. 0.9% finished.\n",
      "Hang in there. 0.0% finished.\n",
      "Hang in there. 0.1% finished.\n",
      "Hang in there. 0.2% finished.\n",
      "Hang in there. 0.3% finished.\n",
      "Hang in there. 0.4% finished.\n",
      "Hang in there. 0.5% finished.\n",
      "Hang in there. 0.6% finished.\n",
      "Hang in there. 0.7% finished.\n",
      "Hang in there. 0.8% finished.\n",
      "Hang in there. 0.9% finished.\n",
      "Hang in there. 0.0% finished.\n",
      "Hang in there. 0.1% finished.\n",
      "Hang in there. 0.2% finished.\n",
      "Hang in there. 0.3% finished.\n",
      "Hang in there. 0.4% finished.\n",
      "Hang in there. 0.5% finished.\n",
      "Hang in there. 0.6% finished.\n",
      "Hang in there. 0.7% finished.\n",
      "Hang in there. 0.8% finished.\n",
      "Hang in there. 0.9% finished.\n",
      "Hang in there. 0.0% finished.\n",
      "Hang in there. 0.1% finished.\n",
      "Hang in there. 0.2% finished.\n",
      "Hang in there. 0.3% finished.\n",
      "Hang in there. 0.4% finished.\n",
      "Hang in there. 0.5% finished.\n",
      "Hang in there. 0.6% finished.\n",
      "Hang in there. 0.7% finished.\n",
      "Hang in there. 0.8% finished.\n",
      "Hang in there. 0.9% finished.\n",
      "Hang in there. 0.0% finished.\n",
      "Hang in there. 0.1% finished.\n",
      "Hang in there. 0.2% finished.\n",
      "Hang in there. 0.3% finished.\n",
      "Hang in there. 0.4% finished.\n",
      "Hang in there. 0.5% finished.\n",
      "Hang in there. 0.6% finished.\n",
      "Hang in there. 0.7% finished.\n",
      "Hang in there. 0.8% finished.\n",
      "Hang in there. 0.9% finished.\n",
      "Hang in there. 0.0% finished.\n",
      "Hang in there. 0.1% finished.\n",
      "Hang in there. 0.2% finished.\n",
      "Hang in there. 0.3% finished.\n",
      "Hang in there. 0.4% finished.\n",
      "Hang in there. 0.5% finished.\n",
      "Hang in there. 0.6% finished.\n",
      "Hang in there. 0.7% finished.\n",
      "Hang in there. 0.8% finished.\n",
      "Hang in there. 0.9% finished.\n",
      "Hang in there. 0.0% finished.\n",
      "Hang in there. 0.1% finished.\n",
      "Hang in there. 0.2% finished.\n",
      "Hang in there. 0.3% finished.\n",
      "Hang in there. 0.4% finished.\n",
      "Hang in there. 0.5% finished.\n",
      "Hang in there. 0.6% finished.\n",
      "Hang in there. 0.7% finished.\n",
      "Hang in there. 0.8% finished.\n",
      "Hang in there. 0.9% finished.\n",
      "Hang in there. 0.0% finished.\n",
      "Hang in there. 0.1% finished.\n",
      "Hang in there. 0.2% finished.\n",
      "Hang in there. 0.3% finished.\n",
      "Hang in there. 0.4% finished.\n",
      "Hang in there. 0.5% finished.\n",
      "Hang in there. 0.6% finished.\n",
      "Hang in there. 0.7% finished.\n",
      "Hang in there. 0.8% finished.\n",
      "Hang in there. 0.9% finished.\n",
      "Hang in there. 0.0% finished.\n",
      "Hang in there. 0.1% finished.\n",
      "Hang in there. 0.2% finished.\n",
      "Hang in there. 0.3% finished.\n",
      "Hang in there. 0.4% finished.\n",
      "Hang in there. 0.5% finished.\n",
      "Hang in there. 0.6% finished.\n",
      "Hang in there. 0.7% finished.\n",
      "Hang in there. 0.8% finished.\n",
      "Hang in there. 0.9% finished.\n",
      "Hang in there. 0.0% finished.\n",
      "Hang in there. 0.1% finished.\n",
      "Hang in there. 0.2% finished.\n",
      "Hang in there. 0.3% finished.\n",
      "Hang in there. 0.4% finished.\n",
      "Hang in there. 0.5% finished.\n",
      "Hang in there. 0.6% finished.\n",
      "Hang in there. 0.7% finished.\n",
      "Hang in there. 0.8% finished.\n",
      "Hang in there. 0.9% finished.\n",
      "Hang in there. 0.0% finished.\n",
      "Hang in there. 0.1% finished.\n",
      "Hang in there. 0.2% finished.\n",
      "Hang in there. 0.3% finished.\n",
      "Hang in there. 0.4% finished.\n",
      "Hang in there. 0.5% finished.\n",
      "Hang in there. 0.6% finished.\n",
      "Hang in there. 0.7% finished.\n",
      "Hang in there. 0.8% finished.\n",
      "Hang in there. 0.9% finished.\n",
      "Hang in there. 0.0% finished.\n",
      "Hang in there. 0.1% finished.\n",
      "Hang in there. 0.2% finished.\n",
      "Hang in there. 0.3% finished.\n",
      "Hang in there. 0.4% finished.\n",
      "Hang in there. 0.5% finished.\n",
      "Hang in there. 0.6% finished.\n",
      "Hang in there. 0.7% finished.\n",
      "Hang in there. 0.8% finished.\n",
      "Hang in there. 0.9% finished.\n",
      "Hang in there. 0.0% finished.\n",
      "Hang in there. 0.1% finished.\n",
      "Hang in there. 0.2% finished.\n",
      "Hang in there. 0.3% finished.\n",
      "Hang in there. 0.4% finished.\n",
      "Hang in there. 0.5% finished.\n",
      "Hang in there. 0.6% finished.\n",
      "Hang in there. 0.7% finished.\n",
      "Hang in there. 0.8% finished.\n",
      "Hang in there. 0.9% finished.\n"
     ]
    },
    {
     "output_type": "display_data",
     "data": {
      "text/plain": "<Figure size 432x288 with 1 Axes>",
      "image/svg+xml": "<?xml version=\"1.0\" encoding=\"utf-8\" standalone=\"no\"?>\n<!DOCTYPE svg PUBLIC \"-//W3C//DTD SVG 1.1//EN\"\n  \"http://www.w3.org/Graphics/SVG/1.1/DTD/svg11.dtd\">\n<!-- Created with matplotlib (https://matplotlib.org/) -->\n<svg height=\"251.154563pt\" version=\"1.1\" viewBox=\"0 0 376.585515 251.154563\" width=\"376.585515pt\" xmlns=\"http://www.w3.org/2000/svg\" xmlns:xlink=\"http://www.w3.org/1999/xlink\">\n <metadata>\n  <rdf:RDF xmlns:cc=\"http://creativecommons.org/ns#\" xmlns:dc=\"http://purl.org/dc/elements/1.1/\" xmlns:rdf=\"http://www.w3.org/1999/02/22-rdf-syntax-ns#\">\n   <cc:Work>\n    <dc:type rdf:resource=\"http://purl.org/dc/dcmitype/StillImage\"/>\n    <dc:date>2021-03-03T16:49:46.013848</dc:date>\n    <dc:format>image/svg+xml</dc:format>\n    <dc:creator>\n     <cc:Agent>\n      <dc:title>Matplotlib v3.3.4, https://matplotlib.org/</dc:title>\n     </cc:Agent>\n    </dc:creator>\n   </cc:Work>\n  </rdf:RDF>\n </metadata>\n <defs>\n  <style type=\"text/css\">*{stroke-linecap:butt;stroke-linejoin:round;}</style>\n </defs>\n <g id=\"figure_1\">\n  <g id=\"patch_1\">\n   <path d=\"M 0 251.154563 \nL 376.585515 251.154563 \nL 376.585515 0 \nL 0 0 \nz\n\" style=\"fill:none;\"/>\n  </g>\n  <g id=\"axes_1\">\n   <g id=\"patch_2\">\n    <path d=\"M 33.2875 227.276438 \nL 368.0875 227.276438 \nL 368.0875 9.836438 \nL 33.2875 9.836438 \nz\n\" style=\"fill:#ffffff;\"/>\n   </g>\n   <g id=\"matplotlib.axis_1\">\n    <g id=\"xtick_1\">\n     <g id=\"line2d_1\">\n      <defs>\n       <path d=\"M 0 0 \nL 0 3.5 \n\" id=\"ma09ac06e37\" style=\"stroke:#000000;stroke-width:0.8;\"/>\n      </defs>\n      <g>\n       <use style=\"stroke:#000000;stroke-width:0.8;\" x=\"48.505682\" xlink:href=\"#ma09ac06e37\" y=\"227.276438\"/>\n      </g>\n     </g>\n     <g id=\"text_1\">\n      <!-- 0 -->\n      <g transform=\"translate(45.324432 241.874876)scale(0.1 -0.1)\">\n       <defs>\n        <path d=\"M 31.78125 66.40625 \nQ 24.171875 66.40625 20.328125 58.90625 \nQ 16.5 51.421875 16.5 36.375 \nQ 16.5 21.390625 20.328125 13.890625 \nQ 24.171875 6.390625 31.78125 6.390625 \nQ 39.453125 6.390625 43.28125 13.890625 \nQ 47.125 21.390625 47.125 36.375 \nQ 47.125 51.421875 43.28125 58.90625 \nQ 39.453125 66.40625 31.78125 66.40625 \nz\nM 31.78125 74.21875 \nQ 44.046875 74.21875 50.515625 64.515625 \nQ 56.984375 54.828125 56.984375 36.375 \nQ 56.984375 17.96875 50.515625 8.265625 \nQ 44.046875 -1.421875 31.78125 -1.421875 \nQ 19.53125 -1.421875 13.0625 8.265625 \nQ 6.59375 17.96875 6.59375 36.375 \nQ 6.59375 54.828125 13.0625 64.515625 \nQ 19.53125 74.21875 31.78125 74.21875 \nz\n\" id=\"DejaVuSans-48\"/>\n       </defs>\n       <use xlink:href=\"#DejaVuSans-48\"/>\n      </g>\n     </g>\n    </g>\n    <g id=\"xtick_2\">\n     <g id=\"line2d_2\">\n      <g>\n       <use style=\"stroke:#000000;stroke-width:0.8;\" x=\"109.500399\" xlink:href=\"#ma09ac06e37\" y=\"227.276438\"/>\n      </g>\n     </g>\n     <g id=\"text_2\">\n      <!-- 5000 -->\n      <g transform=\"translate(96.775399 241.874876)scale(0.1 -0.1)\">\n       <defs>\n        <path d=\"M 10.796875 72.90625 \nL 49.515625 72.90625 \nL 49.515625 64.59375 \nL 19.828125 64.59375 \nL 19.828125 46.734375 \nQ 21.96875 47.46875 24.109375 47.828125 \nQ 26.265625 48.1875 28.421875 48.1875 \nQ 40.625 48.1875 47.75 41.5 \nQ 54.890625 34.8125 54.890625 23.390625 \nQ 54.890625 11.625 47.5625 5.09375 \nQ 40.234375 -1.421875 26.90625 -1.421875 \nQ 22.3125 -1.421875 17.546875 -0.640625 \nQ 12.796875 0.140625 7.71875 1.703125 \nL 7.71875 11.625 \nQ 12.109375 9.234375 16.796875 8.0625 \nQ 21.484375 6.890625 26.703125 6.890625 \nQ 35.15625 6.890625 40.078125 11.328125 \nQ 45.015625 15.765625 45.015625 23.390625 \nQ 45.015625 31 40.078125 35.4375 \nQ 35.15625 39.890625 26.703125 39.890625 \nQ 22.75 39.890625 18.8125 39.015625 \nQ 14.890625 38.140625 10.796875 36.28125 \nz\n\" id=\"DejaVuSans-53\"/>\n       </defs>\n       <use xlink:href=\"#DejaVuSans-53\"/>\n       <use x=\"63.623047\" xlink:href=\"#DejaVuSans-48\"/>\n       <use x=\"127.246094\" xlink:href=\"#DejaVuSans-48\"/>\n       <use x=\"190.869141\" xlink:href=\"#DejaVuSans-48\"/>\n      </g>\n     </g>\n    </g>\n    <g id=\"xtick_3\">\n     <g id=\"line2d_3\">\n      <g>\n       <use style=\"stroke:#000000;stroke-width:0.8;\" x=\"170.495115\" xlink:href=\"#ma09ac06e37\" y=\"227.276438\"/>\n      </g>\n     </g>\n     <g id=\"text_3\">\n      <!-- 10000 -->\n      <g transform=\"translate(154.588865 241.874876)scale(0.1 -0.1)\">\n       <defs>\n        <path d=\"M 12.40625 8.296875 \nL 28.515625 8.296875 \nL 28.515625 63.921875 \nL 10.984375 60.40625 \nL 10.984375 69.390625 \nL 28.421875 72.90625 \nL 38.28125 72.90625 \nL 38.28125 8.296875 \nL 54.390625 8.296875 \nL 54.390625 0 \nL 12.40625 0 \nz\n\" id=\"DejaVuSans-49\"/>\n       </defs>\n       <use xlink:href=\"#DejaVuSans-49\"/>\n       <use x=\"63.623047\" xlink:href=\"#DejaVuSans-48\"/>\n       <use x=\"127.246094\" xlink:href=\"#DejaVuSans-48\"/>\n       <use x=\"190.869141\" xlink:href=\"#DejaVuSans-48\"/>\n       <use x=\"254.492188\" xlink:href=\"#DejaVuSans-48\"/>\n      </g>\n     </g>\n    </g>\n    <g id=\"xtick_4\">\n     <g id=\"line2d_4\">\n      <g>\n       <use style=\"stroke:#000000;stroke-width:0.8;\" x=\"231.489832\" xlink:href=\"#ma09ac06e37\" y=\"227.276438\"/>\n      </g>\n     </g>\n     <g id=\"text_4\">\n      <!-- 15000 -->\n      <g transform=\"translate(215.583582 241.874876)scale(0.1 -0.1)\">\n       <use xlink:href=\"#DejaVuSans-49\"/>\n       <use x=\"63.623047\" xlink:href=\"#DejaVuSans-53\"/>\n       <use x=\"127.246094\" xlink:href=\"#DejaVuSans-48\"/>\n       <use x=\"190.869141\" xlink:href=\"#DejaVuSans-48\"/>\n       <use x=\"254.492188\" xlink:href=\"#DejaVuSans-48\"/>\n      </g>\n     </g>\n    </g>\n    <g id=\"xtick_5\">\n     <g id=\"line2d_5\">\n      <g>\n       <use style=\"stroke:#000000;stroke-width:0.8;\" x=\"292.484549\" xlink:href=\"#ma09ac06e37\" y=\"227.276438\"/>\n      </g>\n     </g>\n     <g id=\"text_5\">\n      <!-- 20000 -->\n      <g transform=\"translate(276.578299 241.874876)scale(0.1 -0.1)\">\n       <defs>\n        <path d=\"M 19.1875 8.296875 \nL 53.609375 8.296875 \nL 53.609375 0 \nL 7.328125 0 \nL 7.328125 8.296875 \nQ 12.9375 14.109375 22.625 23.890625 \nQ 32.328125 33.6875 34.8125 36.53125 \nQ 39.546875 41.84375 41.421875 45.53125 \nQ 43.3125 49.21875 43.3125 52.78125 \nQ 43.3125 58.59375 39.234375 62.25 \nQ 35.15625 65.921875 28.609375 65.921875 \nQ 23.96875 65.921875 18.8125 64.3125 \nQ 13.671875 62.703125 7.8125 59.421875 \nL 7.8125 69.390625 \nQ 13.765625 71.78125 18.9375 73 \nQ 24.125 74.21875 28.421875 74.21875 \nQ 39.75 74.21875 46.484375 68.546875 \nQ 53.21875 62.890625 53.21875 53.421875 \nQ 53.21875 48.921875 51.53125 44.890625 \nQ 49.859375 40.875 45.40625 35.40625 \nQ 44.1875 33.984375 37.640625 27.21875 \nQ 31.109375 20.453125 19.1875 8.296875 \nz\n\" id=\"DejaVuSans-50\"/>\n       </defs>\n       <use xlink:href=\"#DejaVuSans-50\"/>\n       <use x=\"63.623047\" xlink:href=\"#DejaVuSans-48\"/>\n       <use x=\"127.246094\" xlink:href=\"#DejaVuSans-48\"/>\n       <use x=\"190.869141\" xlink:href=\"#DejaVuSans-48\"/>\n       <use x=\"254.492188\" xlink:href=\"#DejaVuSans-48\"/>\n      </g>\n     </g>\n    </g>\n    <g id=\"xtick_6\">\n     <g id=\"line2d_6\">\n      <g>\n       <use style=\"stroke:#000000;stroke-width:0.8;\" x=\"353.479265\" xlink:href=\"#ma09ac06e37\" y=\"227.276438\"/>\n      </g>\n     </g>\n     <g id=\"text_6\">\n      <!-- 25000 -->\n      <g transform=\"translate(337.573015 241.874876)scale(0.1 -0.1)\">\n       <use xlink:href=\"#DejaVuSans-50\"/>\n       <use x=\"63.623047\" xlink:href=\"#DejaVuSans-53\"/>\n       <use x=\"127.246094\" xlink:href=\"#DejaVuSans-48\"/>\n       <use x=\"190.869141\" xlink:href=\"#DejaVuSans-48\"/>\n       <use x=\"254.492188\" xlink:href=\"#DejaVuSans-48\"/>\n      </g>\n     </g>\n    </g>\n   </g>\n   <g id=\"matplotlib.axis_2\">\n    <g id=\"ytick_1\">\n     <g id=\"line2d_7\">\n      <defs>\n       <path d=\"M 0 0 \nL -3.5 0 \n\" id=\"m95457b4ad8\" style=\"stroke:#000000;stroke-width:0.8;\"/>\n      </defs>\n      <g>\n       <use style=\"stroke:#000000;stroke-width:0.8;\" x=\"33.2875\" xlink:href=\"#m95457b4ad8\" y=\"214.48585\"/>\n      </g>\n     </g>\n     <g id=\"text_7\">\n      <!-- 800 -->\n      <g transform=\"translate(7.2 218.285069)scale(0.1 -0.1)\">\n       <defs>\n        <path d=\"M 31.78125 34.625 \nQ 24.75 34.625 20.71875 30.859375 \nQ 16.703125 27.09375 16.703125 20.515625 \nQ 16.703125 13.921875 20.71875 10.15625 \nQ 24.75 6.390625 31.78125 6.390625 \nQ 38.8125 6.390625 42.859375 10.171875 \nQ 46.921875 13.96875 46.921875 20.515625 \nQ 46.921875 27.09375 42.890625 30.859375 \nQ 38.875 34.625 31.78125 34.625 \nz\nM 21.921875 38.8125 \nQ 15.578125 40.375 12.03125 44.71875 \nQ 8.5 49.078125 8.5 55.328125 \nQ 8.5 64.0625 14.71875 69.140625 \nQ 20.953125 74.21875 31.78125 74.21875 \nQ 42.671875 74.21875 48.875 69.140625 \nQ 55.078125 64.0625 55.078125 55.328125 \nQ 55.078125 49.078125 51.53125 44.71875 \nQ 48 40.375 41.703125 38.8125 \nQ 48.828125 37.15625 52.796875 32.3125 \nQ 56.78125 27.484375 56.78125 20.515625 \nQ 56.78125 9.90625 50.3125 4.234375 \nQ 43.84375 -1.421875 31.78125 -1.421875 \nQ 19.734375 -1.421875 13.25 4.234375 \nQ 6.78125 9.90625 6.78125 20.515625 \nQ 6.78125 27.484375 10.78125 32.3125 \nQ 14.796875 37.15625 21.921875 38.8125 \nz\nM 18.3125 54.390625 \nQ 18.3125 48.734375 21.84375 45.5625 \nQ 25.390625 42.390625 31.78125 42.390625 \nQ 38.140625 42.390625 41.71875 45.5625 \nQ 45.3125 48.734375 45.3125 54.390625 \nQ 45.3125 60.0625 41.71875 63.234375 \nQ 38.140625 66.40625 31.78125 66.40625 \nQ 25.390625 66.40625 21.84375 63.234375 \nQ 18.3125 60.0625 18.3125 54.390625 \nz\n\" id=\"DejaVuSans-56\"/>\n       </defs>\n       <use xlink:href=\"#DejaVuSans-56\"/>\n       <use x=\"63.623047\" xlink:href=\"#DejaVuSans-48\"/>\n       <use x=\"127.246094\" xlink:href=\"#DejaVuSans-48\"/>\n      </g>\n     </g>\n    </g>\n    <g id=\"ytick_2\">\n     <g id=\"line2d_8\">\n      <g>\n       <use style=\"stroke:#000000;stroke-width:0.8;\" x=\"33.2875\" xlink:href=\"#m95457b4ad8\" y=\"185.416331\"/>\n      </g>\n     </g>\n     <g id=\"text_8\">\n      <!-- 820 -->\n      <g transform=\"translate(7.2 189.21555)scale(0.1 -0.1)\">\n       <use xlink:href=\"#DejaVuSans-56\"/>\n       <use x=\"63.623047\" xlink:href=\"#DejaVuSans-50\"/>\n       <use x=\"127.246094\" xlink:href=\"#DejaVuSans-48\"/>\n      </g>\n     </g>\n    </g>\n    <g id=\"ytick_3\">\n     <g id=\"line2d_9\">\n      <g>\n       <use style=\"stroke:#000000;stroke-width:0.8;\" x=\"33.2875\" xlink:href=\"#m95457b4ad8\" y=\"156.346812\"/>\n      </g>\n     </g>\n     <g id=\"text_9\">\n      <!-- 840 -->\n      <g transform=\"translate(7.2 160.146031)scale(0.1 -0.1)\">\n       <defs>\n        <path d=\"M 37.796875 64.3125 \nL 12.890625 25.390625 \nL 37.796875 25.390625 \nz\nM 35.203125 72.90625 \nL 47.609375 72.90625 \nL 47.609375 25.390625 \nL 58.015625 25.390625 \nL 58.015625 17.1875 \nL 47.609375 17.1875 \nL 47.609375 0 \nL 37.796875 0 \nL 37.796875 17.1875 \nL 4.890625 17.1875 \nL 4.890625 26.703125 \nz\n\" id=\"DejaVuSans-52\"/>\n       </defs>\n       <use xlink:href=\"#DejaVuSans-56\"/>\n       <use x=\"63.623047\" xlink:href=\"#DejaVuSans-52\"/>\n       <use x=\"127.246094\" xlink:href=\"#DejaVuSans-48\"/>\n      </g>\n     </g>\n    </g>\n    <g id=\"ytick_4\">\n     <g id=\"line2d_10\">\n      <g>\n       <use style=\"stroke:#000000;stroke-width:0.8;\" x=\"33.2875\" xlink:href=\"#m95457b4ad8\" y=\"127.277294\"/>\n      </g>\n     </g>\n     <g id=\"text_10\">\n      <!-- 860 -->\n      <g transform=\"translate(7.2 131.076512)scale(0.1 -0.1)\">\n       <defs>\n        <path d=\"M 33.015625 40.375 \nQ 26.375 40.375 22.484375 35.828125 \nQ 18.609375 31.296875 18.609375 23.390625 \nQ 18.609375 15.53125 22.484375 10.953125 \nQ 26.375 6.390625 33.015625 6.390625 \nQ 39.65625 6.390625 43.53125 10.953125 \nQ 47.40625 15.53125 47.40625 23.390625 \nQ 47.40625 31.296875 43.53125 35.828125 \nQ 39.65625 40.375 33.015625 40.375 \nz\nM 52.59375 71.296875 \nL 52.59375 62.3125 \nQ 48.875 64.0625 45.09375 64.984375 \nQ 41.3125 65.921875 37.59375 65.921875 \nQ 27.828125 65.921875 22.671875 59.328125 \nQ 17.53125 52.734375 16.796875 39.40625 \nQ 19.671875 43.65625 24.015625 45.921875 \nQ 28.375 48.1875 33.59375 48.1875 \nQ 44.578125 48.1875 50.953125 41.515625 \nQ 57.328125 34.859375 57.328125 23.390625 \nQ 57.328125 12.15625 50.6875 5.359375 \nQ 44.046875 -1.421875 33.015625 -1.421875 \nQ 20.359375 -1.421875 13.671875 8.265625 \nQ 6.984375 17.96875 6.984375 36.375 \nQ 6.984375 53.65625 15.1875 63.9375 \nQ 23.390625 74.21875 37.203125 74.21875 \nQ 40.921875 74.21875 44.703125 73.484375 \nQ 48.484375 72.75 52.59375 71.296875 \nz\n\" id=\"DejaVuSans-54\"/>\n       </defs>\n       <use xlink:href=\"#DejaVuSans-56\"/>\n       <use x=\"63.623047\" xlink:href=\"#DejaVuSans-54\"/>\n       <use x=\"127.246094\" xlink:href=\"#DejaVuSans-48\"/>\n      </g>\n     </g>\n    </g>\n    <g id=\"ytick_5\">\n     <g id=\"line2d_11\">\n      <g>\n       <use style=\"stroke:#000000;stroke-width:0.8;\" x=\"33.2875\" xlink:href=\"#m95457b4ad8\" y=\"98.207775\"/>\n      </g>\n     </g>\n     <g id=\"text_11\">\n      <!-- 880 -->\n      <g transform=\"translate(7.2 102.006994)scale(0.1 -0.1)\">\n       <use xlink:href=\"#DejaVuSans-56\"/>\n       <use x=\"63.623047\" xlink:href=\"#DejaVuSans-56\"/>\n       <use x=\"127.246094\" xlink:href=\"#DejaVuSans-48\"/>\n      </g>\n     </g>\n    </g>\n    <g id=\"ytick_6\">\n     <g id=\"line2d_12\">\n      <g>\n       <use style=\"stroke:#000000;stroke-width:0.8;\" x=\"33.2875\" xlink:href=\"#m95457b4ad8\" y=\"69.138256\"/>\n      </g>\n     </g>\n     <g id=\"text_12\">\n      <!-- 900 -->\n      <g transform=\"translate(7.2 72.937475)scale(0.1 -0.1)\">\n       <defs>\n        <path d=\"M 10.984375 1.515625 \nL 10.984375 10.5 \nQ 14.703125 8.734375 18.5 7.8125 \nQ 22.3125 6.890625 25.984375 6.890625 \nQ 35.75 6.890625 40.890625 13.453125 \nQ 46.046875 20.015625 46.78125 33.40625 \nQ 43.953125 29.203125 39.59375 26.953125 \nQ 35.25 24.703125 29.984375 24.703125 \nQ 19.046875 24.703125 12.671875 31.3125 \nQ 6.296875 37.9375 6.296875 49.421875 \nQ 6.296875 60.640625 12.9375 67.421875 \nQ 19.578125 74.21875 30.609375 74.21875 \nQ 43.265625 74.21875 49.921875 64.515625 \nQ 56.59375 54.828125 56.59375 36.375 \nQ 56.59375 19.140625 48.40625 8.859375 \nQ 40.234375 -1.421875 26.421875 -1.421875 \nQ 22.703125 -1.421875 18.890625 -0.6875 \nQ 15.09375 0.046875 10.984375 1.515625 \nz\nM 30.609375 32.421875 \nQ 37.25 32.421875 41.125 36.953125 \nQ 45.015625 41.5 45.015625 49.421875 \nQ 45.015625 57.28125 41.125 61.84375 \nQ 37.25 66.40625 30.609375 66.40625 \nQ 23.96875 66.40625 20.09375 61.84375 \nQ 16.21875 57.28125 16.21875 49.421875 \nQ 16.21875 41.5 20.09375 36.953125 \nQ 23.96875 32.421875 30.609375 32.421875 \nz\n\" id=\"DejaVuSans-57\"/>\n       </defs>\n       <use xlink:href=\"#DejaVuSans-57\"/>\n       <use x=\"63.623047\" xlink:href=\"#DejaVuSans-48\"/>\n       <use x=\"127.246094\" xlink:href=\"#DejaVuSans-48\"/>\n      </g>\n     </g>\n    </g>\n    <g id=\"ytick_7\">\n     <g id=\"line2d_13\">\n      <g>\n       <use style=\"stroke:#000000;stroke-width:0.8;\" x=\"33.2875\" xlink:href=\"#m95457b4ad8\" y=\"40.068737\"/>\n      </g>\n     </g>\n     <g id=\"text_13\">\n      <!-- 920 -->\n      <g transform=\"translate(7.2 43.867956)scale(0.1 -0.1)\">\n       <use xlink:href=\"#DejaVuSans-57\"/>\n       <use x=\"63.623047\" xlink:href=\"#DejaVuSans-50\"/>\n       <use x=\"127.246094\" xlink:href=\"#DejaVuSans-48\"/>\n      </g>\n     </g>\n    </g>\n    <g id=\"ytick_8\">\n     <g id=\"line2d_14\">\n      <g>\n       <use style=\"stroke:#000000;stroke-width:0.8;\" x=\"33.2875\" xlink:href=\"#m95457b4ad8\" y=\"10.999219\"/>\n      </g>\n     </g>\n     <g id=\"text_14\">\n      <!-- 940 -->\n      <g transform=\"translate(7.2 14.798438)scale(0.1 -0.1)\">\n       <use xlink:href=\"#DejaVuSans-57\"/>\n       <use x=\"63.623047\" xlink:href=\"#DejaVuSans-52\"/>\n       <use x=\"127.246094\" xlink:href=\"#DejaVuSans-48\"/>\n      </g>\n     </g>\n    </g>\n   </g>\n   <g id=\"line2d_15\">\n    <path clip-path=\"url(#pd197c91bd5)\" d=\"M 48.505682 217.392802 \nL 50.335523 217.392802 \nL 50.94547 215.939326 \nL 53.995206 215.939326 \nL 54.605153 214.48585 \nL 65.584202 214.48585 \nL 66.19415 213.032374 \nL 69.853833 213.032374 \nL 70.46378 211.578898 \nL 77.173199 211.578898 \nL 77.783146 210.125422 \nL 80.832882 210.125422 \nL 81.442829 208.671946 \nL 96.081561 208.671946 \nL 96.691508 207.21847 \nL 112.550134 207.21847 \nL 113.160082 205.764994 \nL 115.59987 205.764994 \nL 116.209817 204.311518 \nL 124.749078 204.311518 \nL 125.359025 202.858042 \nL 158.296172 202.858042 \nL 158.906119 201.404566 \nL 163.175749 201.404566 \nL 163.785696 198.497614 \nL 172.934904 198.497614 \nL 173.544851 197.044139 \nL 183.304006 197.044139 \nL 183.913953 195.590663 \nL 186.353742 195.590663 \nL 186.963689 194.137187 \nL 200.382526 194.137187 \nL 201.602421 191.230235 \nL 216.8511 191.230235 \nL 217.461047 189.776759 \nL 219.290889 189.776759 \nL 219.900836 188.323283 \nL 221.730677 188.323283 \nL 222.340624 186.869807 \nL 229.65999 186.869807 \nL 230.269938 185.416331 \nL 232.709726 185.416331 \nL 233.319673 183.962855 \nL 243.078828 183.962855 \nL 243.688775 182.509379 \nL 251.008141 182.509379 \nL 251.618088 181.055903 \nL 260.767296 181.055903 \nL 261.377243 179.602427 \nL 268.086662 179.602427 \nL 268.696609 178.148951 \nL 276.625922 178.148951 \nL 277.235869 176.695475 \nL 283.335341 176.695475 \nL 283.945288 175.241999 \nL 286.385077 175.241999 \nL 286.995024 173.788524 \nL 299.803915 173.788524 \nL 300.413862 172.335048 \nL 302.243703 172.335048 \nL 302.85365 170.881572 \nL 307.123281 170.881572 \nL 307.733228 169.428096 \nL 323.591854 169.428096 \nL 324.201801 167.97462 \nL 339.450481 167.97462 \nL 340.060428 166.521144 \nL 352.869318 166.521144 \nL 352.869318 166.521144 \n\" style=\"fill:none;stroke:#1f77b4;stroke-linecap:square;stroke-width:1.5;\"/>\n   </g>\n   <g id=\"line2d_16\">\n    <path clip-path=\"url(#pd197c91bd5)\" d=\"M 48.505682 166.521144 \nL 52.775312 166.521144 \nL 53.385259 165.067668 \nL 55.215101 165.067668 \nL 55.825048 163.614192 \nL 59.484731 163.614192 \nL 60.094678 162.160716 \nL 62.534467 162.160716 \nL 63.144414 160.70724 \nL 64.974255 160.70724 \nL 65.584202 159.253764 \nL 93.031825 159.253764 \nL 93.641772 157.800288 \nL 96.691508 157.800288 \nL 97.301455 156.346812 \nL 100.351191 156.346812 \nL 100.961138 154.893336 \nL 114.989923 154.893336 \nL 115.59987 153.43986 \nL 130.238602 153.43986 \nL 130.848549 151.986385 \nL 149.756912 151.986385 \nL 150.366859 150.532909 \nL 185.133847 150.532909 \nL 185.743794 149.079433 \nL 188.183583 149.079433 \nL 188.79353 147.625957 \nL 190.013425 147.625957 \nL 190.623372 146.172481 \nL 256.497666 146.172481 \nL 257.107613 144.719005 \nL 288.824866 144.719005 \nL 289.434813 143.265529 \nL 297.364126 143.265529 \nL 297.974073 141.812053 \nL 308.343175 141.812053 \nL 308.953122 140.358577 \nL 310.782964 140.358577 \nL 311.392911 138.905101 \nL 319.932171 138.905101 \nL 320.542118 137.451625 \nL 352.869318 137.451625 \nL 352.869318 137.451625 \n\" style=\"fill:none;stroke:#ff7f0e;stroke-linecap:square;stroke-width:1.5;\"/>\n   </g>\n   <g id=\"line2d_17\">\n    <path clip-path=\"url(#pd197c91bd5)\" d=\"M 48.505682 137.451625 \nL 58.874784 137.451625 \nL 59.484731 135.998149 \nL 61.314572 135.998149 \nL 61.924519 134.544673 \nL 63.144414 134.544673 \nL 63.754361 133.091197 \nL 73.513516 133.091197 \nL 74.123463 131.637721 \nL 94.861667 131.637721 \nL 95.471614 130.184245 \nL 96.081561 130.184245 \nL 96.691508 128.73077 \nL 109.500399 128.73077 \nL 110.110346 127.277294 \nL 120.479448 127.277294 \nL 121.089395 125.823818 \nL 173.544851 125.823818 \nL 174.154798 124.370342 \nL 183.913953 124.370342 \nL 184.5239 122.916866 \nL 190.013425 122.916866 \nL 190.623372 120.009914 \nL 213.191417 120.009914 \nL 213.801364 118.556438 \nL 236.369409 118.556438 \nL 236.979356 117.102962 \nL 249.1783 117.102962 \nL 249.788247 115.649486 \nL 308.953122 115.649486 \nL 309.563069 114.19601 \nL 316.882435 114.19601 \nL 317.492382 112.742534 \nL 326.64159 112.742534 \nL 327.251537 111.289058 \nL 352.869318 111.289058 \nL 352.869318 111.289058 \n\" style=\"fill:none;stroke:#2ca02c;stroke-linecap:square;stroke-width:1.5;\"/>\n   </g>\n   <g id=\"line2d_18\">\n    <path clip-path=\"url(#pd197c91bd5)\" d=\"M 48.505682 111.289058 \nL 50.94547 111.289058 \nL 51.555418 109.835582 \nL 57.654889 109.835582 \nL 58.264836 108.382106 \nL 61.314572 108.382106 \nL 61.924519 106.928631 \nL 65.584202 106.928631 \nL 66.19415 105.475155 \nL 88.762195 105.475155 \nL 89.372142 104.021679 \nL 150.366859 104.021679 \nL 150.976806 102.568203 \nL 155.246436 102.568203 \nL 155.856383 101.114727 \nL 164.395644 101.114727 \nL 165.005591 99.661251 \nL 168.055327 99.661251 \nL 168.665274 98.207775 \nL 187.573636 98.207775 \nL 188.183583 96.754299 \nL 233.319673 96.754299 \nL 233.929621 95.300823 \nL 296.144232 95.300823 \nL 296.754179 93.847347 \nL 352.869318 93.847347 \nL 352.869318 93.847347 \n\" style=\"fill:none;stroke:#d62728;stroke-linecap:square;stroke-width:1.5;\"/>\n   </g>\n   <g id=\"line2d_19\">\n    <path clip-path=\"url(#pd197c91bd5)\" d=\"M 48.505682 93.847347 \nL 60.094678 93.847347 \nL 60.704625 92.393871 \nL 79.612987 92.393871 \nL 80.222935 90.940395 \nL 101.571085 90.940395 \nL 102.181033 89.486919 \nL 114.379976 89.486919 \nL 114.989923 88.033443 \nL 120.479448 88.033443 \nL 121.089395 86.579967 \nL 130.238602 86.579967 \nL 130.848549 85.126491 \nL 134.508232 85.126491 \nL 135.11818 83.673016 \nL 170.495115 83.673016 \nL 171.105062 82.21954 \nL 221.730677 82.21954 \nL 222.340624 80.766064 \nL 225.39036 80.766064 \nL 226.000307 79.312588 \nL 280.895552 79.312588 \nL 281.5055 77.859112 \nL 285.77513 77.859112 \nL 286.385077 76.405636 \nL 352.869318 76.405636 \nL 352.869318 76.405636 \n\" style=\"fill:none;stroke:#9467bd;stroke-linecap:square;stroke-width:1.5;\"/>\n   </g>\n   <g id=\"line2d_20\">\n    <path clip-path=\"url(#pd197c91bd5)\" d=\"M 48.505682 76.405636 \nL 82.662723 76.405636 \nL 83.27267 74.95216 \nL 108.890451 74.95216 \nL 109.500399 73.498684 \nL 215.021258 73.498684 \nL 215.631206 72.045208 \nL 259.547402 72.045208 \nL 260.157349 70.591732 \nL 293.704443 70.591732 \nL 294.31439 69.138256 \nL 316.272488 69.138256 \nL 316.882435 67.68478 \nL 352.869318 67.68478 \nL 352.869318 67.68478 \n\" style=\"fill:none;stroke:#8c564b;stroke-linecap:square;stroke-width:1.5;\"/>\n   </g>\n   <g id=\"line2d_21\">\n    <path clip-path=\"url(#pd197c91bd5)\" d=\"M 48.505682 67.68478 \nL 110.110346 67.68478 \nL 110.720293 66.231304 \nL 170.495115 66.231304 \nL 171.105062 64.777828 \nL 173.544851 64.777828 \nL 174.154798 63.324352 \nL 265.646873 63.324352 \nL 266.25682 61.870877 \nL 315.662541 61.870877 \nL 316.272488 60.417401 \nL 324.811748 60.417401 \nL 325.421696 58.963925 \nL 352.869318 58.963925 \nL 352.869318 58.963925 \n\" style=\"fill:none;stroke:#e377c2;stroke-linecap:square;stroke-width:1.5;\"/>\n   </g>\n   <g id=\"line2d_22\">\n    <path clip-path=\"url(#pd197c91bd5)\" d=\"M 48.505682 58.963925 \nL 75.953304 58.963925 \nL 76.563252 57.510449 \nL 121.089395 57.510449 \nL 121.699342 56.056973 \nL 147.92707 56.056973 \nL 148.537017 54.603497 \nL 313.222752 54.603497 \nL 313.832699 53.150021 \nL 325.421696 53.150021 \nL 326.031643 51.696545 \nL 337.010692 51.696545 \nL 337.620639 50.243069 \nL 352.869318 50.243069 \nL 352.869318 50.243069 \n\" style=\"fill:none;stroke:#7f7f7f;stroke-linecap:square;stroke-width:1.5;\"/>\n   </g>\n   <g id=\"line2d_23\">\n    <path clip-path=\"url(#pd197c91bd5)\" d=\"M 48.505682 50.243069 \nL 92.421878 50.243069 \nL 93.031825 48.789593 \nL 94.861667 48.789593 \nL 95.471614 47.336117 \nL 292.484549 47.336117 \nL 293.094496 45.882641 \nL 311.392911 45.882641 \nL 312.002858 44.429165 \nL 352.869318 44.429165 \nL 352.869318 44.429165 \n\" style=\"fill:none;stroke:#bcbd22;stroke-linecap:square;stroke-width:1.5;\"/>\n   </g>\n   <g id=\"line2d_24\">\n    <path clip-path=\"url(#pd197c91bd5)\" d=\"M 48.505682 44.429165 \nL 71.683674 44.429165 \nL 72.293621 42.975689 \nL 248.568353 42.975689 \nL 249.1783 41.522213 \nL 352.869318 41.522213 \nL 352.869318 41.522213 \n\" style=\"fill:none;stroke:#17becf;stroke-linecap:square;stroke-width:1.5;\"/>\n   </g>\n   <g id=\"line2d_25\">\n    <path clip-path=\"url(#pd197c91bd5)\" d=\"M 48.505682 41.522213 \nL 113.160082 41.522213 \nL 113.770029 40.068737 \nL 153.416595 40.068737 \nL 154.026542 38.615262 \nL 285.165183 38.615262 \nL 285.77513 37.161786 \nL 348.599688 37.161786 \nL 349.209635 35.70831 \nL 352.869318 35.70831 \nL 352.869318 35.70831 \n\" style=\"fill:none;stroke:#1f77b4;stroke-linecap:square;stroke-width:1.5;\"/>\n   </g>\n   <g id=\"line2d_26\">\n    <path clip-path=\"url(#pd197c91bd5)\" d=\"M 48.505682 35.70831 \nL 352.869318 35.70831 \nL 352.869318 35.70831 \n\" style=\"fill:none;stroke:#ff7f0e;stroke-linecap:square;stroke-width:1.5;\"/>\n   </g>\n   <g id=\"line2d_27\">\n    <path clip-path=\"url(#pd197c91bd5)\" d=\"M 48.505682 35.70831 \nL 50.94547 35.70831 \nL 51.555418 34.254834 \nL 73.513516 34.254834 \nL 74.123463 32.801358 \nL 148.537017 32.801358 \nL 149.146964 31.347882 \nL 352.869318 31.347882 \nL 352.869318 31.347882 \n\" style=\"fill:none;stroke:#2ca02c;stroke-linecap:square;stroke-width:1.5;\"/>\n   </g>\n   <g id=\"line2d_28\">\n    <path clip-path=\"url(#pd197c91bd5)\" d=\"M 48.505682 31.347882 \nL 182.694059 31.347882 \nL 183.304006 29.894406 \nL 240.029092 29.894406 \nL 240.639039 28.44093 \nL 352.869318 28.44093 \nL 352.869318 28.44093 \n\" style=\"fill:none;stroke:#d62728;stroke-linecap:square;stroke-width:1.5;\"/>\n   </g>\n   <g id=\"line2d_29\">\n    <path clip-path=\"url(#pd197c91bd5)\" d=\"M 48.505682 28.44093 \nL 72.903569 28.44093 \nL 73.513516 26.987454 \nL 212.58147 26.987454 \nL 213.191417 25.533978 \nL 214.411311 25.533978 \nL 215.021258 24.080502 \nL 258.937454 24.080502 \nL 259.547402 22.627026 \nL 265.036926 22.627026 \nL 265.646873 21.17355 \nL 316.882435 21.17355 \nL 317.492382 19.720074 \nL 352.869318 19.720074 \nL 352.869318 19.720074 \n\" style=\"fill:none;stroke:#9467bd;stroke-linecap:square;stroke-width:1.5;\"/>\n   </g>\n   <g id=\"patch_3\">\n    <path d=\"M 33.2875 227.276438 \nL 33.2875 9.836438 \n\" style=\"fill:none;stroke:#000000;stroke-linecap:square;stroke-linejoin:miter;stroke-width:0.8;\"/>\n   </g>\n   <g id=\"patch_4\">\n    <path d=\"M 368.0875 227.276438 \nL 368.0875 9.836438 \n\" style=\"fill:none;stroke:#000000;stroke-linecap:square;stroke-linejoin:miter;stroke-width:0.8;\"/>\n   </g>\n   <g id=\"patch_5\">\n    <path d=\"M 33.2875 227.276438 \nL 368.0875 227.276438 \n\" style=\"fill:none;stroke:#000000;stroke-linecap:square;stroke-linejoin:miter;stroke-width:0.8;\"/>\n   </g>\n   <g id=\"patch_6\">\n    <path d=\"M 33.2875 9.836438 \nL 368.0875 9.836438 \n\" style=\"fill:none;stroke:#000000;stroke-linecap:square;stroke-linejoin:miter;stroke-width:0.8;\"/>\n   </g>\n  </g>\n </g>\n <defs>\n  <clipPath id=\"pd197c91bd5\">\n   <rect height=\"217.44\" width=\"334.8\" x=\"33.2875\" y=\"9.836438\"/>\n  </clipPath>\n </defs>\n</svg>\n",
      "image/png": "[encoded data removed]"
     },
     "metadata": {
      "needs_background": "light"
     }
    }
   ],
   "source": [
    "for _ in range(15):\n",
    "    plot_hunt(gopher2)"
   ]
  },
  {
   "source": [
    "Phew! It took a while, but it looks like the curve did flatten out in the 900's, which is similar to the number of motifs found by gopher1."
   ],
   "cell_type": "markdown",
   "metadata": {}
  },
  {
   "cell_type": "code",
   "execution_count": 41,
   "metadata": {},
   "outputs": [
    {
     "output_type": "stream",
     "name": "stdout",
     "text": [
      "5.781585% of the motifs found by gopher1 were not found by\ngopher2, and\n5.781585% of the motifs found by gopher2 were not found by\ngopher1.\n"
     ]
    }
   ],
   "source": [
    "print('{:.6f}% of the motifs found by gopher1 were not found by\\n'\n",
    "      'gopher2, and\\n'\n",
    "      '{:.6f}% of the motifs found by gopher2 were not found by\\n'\n",
    "      'gopher1.'.format(\n",
    "          np.mean([\n",
    "              key not in gopher2.found_motifs\n",
    "              for key in gopher1.found_motifs\n",
    "          ])*100,\n",
    "          np.mean([\n",
    "              key not in gopher1.found_motifs\n",
    "              for key in gopher2.found_motifs\n",
    "          ])*100\n",
    "      ))"
   ]
  },
  {
   "source": [
    "Hm. That's interesting, they each excluded exactly the same number of motifs that the other included. It seems like a bug, but I reread the code and I think it is actually just a coincidence."
   ],
   "cell_type": "markdown",
   "metadata": {}
  },
  {
   "cell_type": "code",
   "execution_count": 44,
   "metadata": {},
   "outputs": [
    {
     "output_type": "execute_result",
     "data": {
      "text/plain": [
       "['DOI: 10',\n",
       " 'OI: 10',\n",
       " 'doi:',\n",
       " ' the ',\n",
       " '10.10',\n",
       " ' doi: ',\n",
       " ' PMID: 1',\n",
       " ', DOI: 10.',\n",
       " ' DOI: 10.1',\n",
       " ' PMID:',\n",
       " '.1016/',\n",
       " '. PMID:',\n",
       " 'MID: 2',\n",
       " ', DOI',\n",
       " '. PMID',\n",
       " 'tic ',\n",
       " ', DOI: ',\n",
       " ' PMID: ',\n",
       " ' with ',\n",
       " ' DOI: 10.',\n",
       " 'tion o',\n",
       " 'on of ',\n",
       " ' Pr',\n",
       " 'DOI: 10.',\n",
       " 'DOI: 1',\n",
       " ' DOI: ',\n",
       " 'OI: 10.10',\n",
       " 'PMID: 2',\n",
       " '.1016',\n",
       " 'DOI: 10.1',\n",
       " '. PMI',\n",
       " ', DOI:',\n",
       " 'I: 10.1',\n",
       " 'tion of',\n",
       " '. PMID: ',\n",
       " ': 10.1016',\n",
       " '10.101',\n",
       " 's in ',\n",
       " 'ation',\n",
       " ', PMID: ',\n",
       " ', DOI: 10',\n",
       " '0.1016',\n",
       " ' of t',\n",
       " 'ical ',\n",
       " ' DOI: 10',\n",
       " ' PMID: 2',\n",
       " ': 10.10',\n",
       " 'S. ',\n",
       " ' 10.101',\n",
       " ' 10.1016',\n",
       " 'doi: ',\n",
       " ', DOI: 1',\n",
       " ', PMID:',\n",
       " ', PMID: 1']"
      ]
     },
     "metadata": {},
     "execution_count": 44
    }
   ],
   "source": [
    "g1_unique = [\n",
    "    key for key in gopher1.found_motifs\n",
    "    if key not in gopher2.found_motifs\n",
    "    ]\n",
    "g1_unique"
   ]
  },
  {
   "cell_type": "code",
   "execution_count": 45,
   "metadata": {},
   "outputs": [
    {
     "output_type": "execute_result",
     "data": {
      "text/plain": [
       "['ib',\n",
       " 'n i',\n",
       " '34',\n",
       " '76',\n",
       " '\\nS',\n",
       " 'lar',\n",
       " ' Sc',\n",
       " '74',\n",
       " 'en ',\n",
       " ' Ca',\n",
       " '5, ',\n",
       " '83',\n",
       " 'ste',\n",
       " 'fr',\n",
       " 'pat',\n",
       " 'nts',\n",
       " 'on,',\n",
       " 'cat',\n",
       " 'tur',\n",
       " 'with',\n",
       " 'R,',\n",
       " 'enc',\n",
       " ' ce',\n",
       " 'pu',\n",
       " ' Me',\n",
       " 'tive',\n",
       " 's an',\n",
       " 'cha',\n",
       " 'ive ',\n",
       " ' J, ',\n",
       " 'qu',\n",
       " 'P, ',\n",
       " 'n of',\n",
       " 't a',\n",
       " 's of ',\n",
       " 'OI: 10.1',\n",
       " '8\\n',\n",
       " 'tie',\n",
       " 'q',\n",
       " 'rac',\n",
       " ' A, ',\n",
       " 'e t',\n",
       " 'hu',\n",
       " 'Ha',\n",
       " 'OI: 10.',\n",
       " '69',\n",
       " '. 201',\n",
       " 'ana',\n",
       " ' 22',\n",
       " 'ance',\n",
       " '57',\n",
       " 'sit',\n",
       " '1.',\n",
       " 'A ']"
      ]
     },
     "metadata": {},
     "execution_count": 45
    }
   ],
   "source": [
    "g2_unique = [\n",
    "    key for key in gopher2.found_motifs\n",
    "    if key not in gopher1.found_motifs\n",
    "    ]\n",
    "g2_unique"
   ]
  },
  {
   "cell_type": "code",
   "execution_count": 46,
   "metadata": {},
   "outputs": [
    {
     "output_type": "execute_result",
     "data": {
      "text/plain": [
       "True"
      ]
     },
     "metadata": {},
     "execution_count": 46
    }
   ],
   "source": [
    "len(g1_unique) == len(g2_unique)"
   ]
  },
  {
   "source": [
    "Yep. Coincidence."
   ],
   "cell_type": "markdown",
   "metadata": {}
  },
  {
   "source": [
    "What have I learned? I have learned that choice of R values isn't likely to have a very big effect on what the final output of motifs looks like. Whether R is 0.75 or 0.25, the difference will be only about 5% -- and **probably much less if I am patient enough to increase the number of hunts by (say) ten.** That's a relief -- it reduces complexity of the final analysis."
   ],
   "cell_type": "markdown",
   "metadata": {}
  },
  {
   "cell_type": "code",
   "execution_count": null,
   "metadata": {},
   "outputs": [],
   "source": []
  }
 ]
}