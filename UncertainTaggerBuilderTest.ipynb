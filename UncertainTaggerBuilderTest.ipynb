{
 "metadata": {
  "language_info": {
   "codemirror_mode": {
    "name": "ipython",
    "version": 3
   },
   "file_extension": ".py",
   "mimetype": "text/x-python",
   "name": "python",
   "nbconvert_exporter": "python",
   "pygments_lexer": "ipython3",
   "version": "3.8.5-final"
  },
  "orig_nbformat": 2,
  "kernelspec": {
   "name": "python3",
   "display_name": "Python 3",
   "language": "python"
  }
 },
 "nbformat": 4,
 "nbformat_minor": 2,
 "cells": [
  {
   "source": [
    "# UncertainTaggerBuilderTest\n",
    "\n",
    "Ad-hoc testing for the UncertainTaggerBuilder class."
   ],
   "cell_type": "markdown",
   "metadata": {}
  },
  {
   "cell_type": "code",
   "execution_count": 1,
   "metadata": {},
   "outputs": [],
   "source": [
    "import os\n",
    "import pickle\n",
    "import pandas as pd\n",
    "import time\n",
    "import matplotlib.pyplot as plt\n",
    "from sklearn.ensemble import RandomForestRegressor\n",
    "\n",
    "from MotifFeatures.UncertainTaggerBuilder import UncertainTaggerBuilder\n",
    "from MotifFeatures.Labels.BIOELabel import BIOELabel"
   ]
  },
  {
   "cell_type": "code",
   "execution_count": 2,
   "metadata": {},
   "outputs": [],
   "source": [
    "train_path = os.path.join('datasets', 'occ_45K_train.pickle')\n",
    "with open(train_path, 'rb') as dbfile:\n",
    "    train = pickle.load(dbfile)\n",
    "motifs_path = os.path.join(\n",
    "    'MotifFeatures', 'MotifGopher',\n",
    "    'Gopher_01-49PM_21_Mar_2021_motifs.pickle')\n",
    "with open(motifs_path, 'rb') as dbfile:\n",
    "    motifs = pickle.load(dbfile)"
   ]
  },
  {
   "cell_type": "code",
   "execution_count": 3,
   "metadata": {},
   "outputs": [
    {
     "output_type": "execute_result",
     "data": {
      "text/plain": [
       "                                                 raw  \\\n",
       "0  Knechtle, B, Knechtle, P, Schulze, I, Kohler, ...   \n",
       "1  Sousa, M, Fernandes, MJ, Moreira, P, Teixeira,...   \n",
       "2  Schooler, J. (2011). Unpublished results hide ...   \n",
       "3  Melin, A, Tornberg, AB, Skouby, S, Moller, SS,...   \n",
       "4  Schenk, K, Faulhaber, M, Gatterer, H, Burtsche...   \n",
       "\n",
       "                                                   B  \\\n",
       "0  [0.0, 0.0, 0.0, 0.0, 0.0, 0.0, 0.0, 0.0, 0.0, ...   \n",
       "1  [1.0, 0.0, 0.0, 0.0, 0.0, 0.0, 0.0, 0.0, 0.0, ...   \n",
       "2  [1.0, 0.0, 0.0, 0.0, 0.0, 0.0, 0.0, 0.0, 0.0, ...   \n",
       "3  [1.0, 0.0, 0.0, 0.0, 0.0, 0.0, 0.0, 0.0, 0.0, ...   \n",
       "4  [1.0, 0.0, 0.0, 0.0, 0.0, 0.0, 0.0, 0.0, 0.0, ...   \n",
       "\n",
       "                                                   I  \\\n",
       "0  [0.0, 0.0, 0.0, 0.0, 0.0, 0.0, 0.0, 0.0, 0.0, ...   \n",
       "1  [0.0, 1.0, 1.0, 1.0, 1.0, 0.0, 0.0, 0.0, 0.0, ...   \n",
       "2  [0.0, 1.0, 1.0, 1.0, 1.0, 1.0, 1.0, 1.0, 0.0, ...   \n",
       "3  [0.0, 1.0, 1.0, 1.0, 1.0, 0.0, 0.0, 0.0, 0.0, ...   \n",
       "4  [0.0, 1.0, 1.0, 1.0, 1.0, 1.0, 0.0, 0.0, 0.0, ...   \n",
       "\n",
       "                                                   O  \\\n",
       "0  [1.0, 1.0, 1.0, 1.0, 1.0, 1.0, 1.0, 1.0, 1.0, ...   \n",
       "1  [0.0, 0.0, 0.0, 0.0, 0.0, 1.0, 1.0, 1.0, 1.0, ...   \n",
       "2  [0.0, 0.0, 0.0, 0.0, 0.0, 0.0, 0.0, 0.0, 1.0, ...   \n",
       "3  [0.0, 0.0, 0.0, 0.0, 0.0, 1.0, 1.0, 1.0, 1.0, ...   \n",
       "4  [0.0, 0.0, 0.0, 0.0, 0.0, 0.0, 1.0, 1.0, 1.0, ...   \n",
       "\n",
       "                                                   E  \n",
       "0  [0.0, 0.0, 0.0, 0.0, 0.0, 0.0, 0.0, 0.0, 0.0, ...  \n",
       "1  [0.0, 0.0, 0.0, 0.0, 0.0, 1.0, 0.0, 0.0, 0.0, ...  \n",
       "2  [0.0, 0.0, 0.0, 0.0, 0.0, 0.0, 0.0, 0.0, 1.0, ...  \n",
       "3  [0.0, 0.0, 0.0, 0.0, 0.0, 1.0, 0.0, 0.0, 0.0, ...  \n",
       "4  [0.0, 0.0, 0.0, 0.0, 0.0, 0.0, 1.0, 0.0, 0.0, ...  "
      ],
      "text/html": "<div>\n<style scoped>\n    .dataframe tbody tr th:only-of-type {\n        vertical-align: middle;\n    }\n\n    .dataframe tbody tr th {\n        vertical-align: top;\n    }\n\n    .dataframe thead th {\n        text-align: right;\n    }\n</style>\n<table border=\"1\" class=\"dataframe\">\n  <thead>\n    <tr style=\"text-align: right;\">\n      <th></th>\n      <th>raw</th>\n      <th>B</th>\n      <th>I</th>\n      <th>O</th>\n      <th>E</th>\n    </tr>\n  </thead>\n  <tbody>\n    <tr>\n      <th>0</th>\n      <td>Knechtle, B, Knechtle, P, Schulze, I, Kohler, ...</td>\n      <td>[0.0, 0.0, 0.0, 0.0, 0.0, 0.0, 0.0, 0.0, 0.0, ...</td>\n      <td>[0.0, 0.0, 0.0, 0.0, 0.0, 0.0, 0.0, 0.0, 0.0, ...</td>\n      <td>[1.0, 1.0, 1.0, 1.0, 1.0, 1.0, 1.0, 1.0, 1.0, ...</td>\n      <td>[0.0, 0.0, 0.0, 0.0, 0.0, 0.0, 0.0, 0.0, 0.0, ...</td>\n    </tr>\n    <tr>\n      <th>1</th>\n      <td>Sousa, M, Fernandes, MJ, Moreira, P, Teixeira,...</td>\n      <td>[1.0, 0.0, 0.0, 0.0, 0.0, 0.0, 0.0, 0.0, 0.0, ...</td>\n      <td>[0.0, 1.0, 1.0, 1.0, 1.0, 0.0, 0.0, 0.0, 0.0, ...</td>\n      <td>[0.0, 0.0, 0.0, 0.0, 0.0, 1.0, 1.0, 1.0, 1.0, ...</td>\n      <td>[0.0, 0.0, 0.0, 0.0, 0.0, 1.0, 0.0, 0.0, 0.0, ...</td>\n    </tr>\n    <tr>\n      <th>2</th>\n      <td>Schooler, J. (2011). Unpublished results hide ...</td>\n      <td>[1.0, 0.0, 0.0, 0.0, 0.0, 0.0, 0.0, 0.0, 0.0, ...</td>\n      <td>[0.0, 1.0, 1.0, 1.0, 1.0, 1.0, 1.0, 1.0, 0.0, ...</td>\n      <td>[0.0, 0.0, 0.0, 0.0, 0.0, 0.0, 0.0, 0.0, 1.0, ...</td>\n      <td>[0.0, 0.0, 0.0, 0.0, 0.0, 0.0, 0.0, 0.0, 1.0, ...</td>\n    </tr>\n    <tr>\n      <th>3</th>\n      <td>Melin, A, Tornberg, AB, Skouby, S, Moller, SS,...</td>\n      <td>[1.0, 0.0, 0.0, 0.0, 0.0, 0.0, 0.0, 0.0, 0.0, ...</td>\n      <td>[0.0, 1.0, 1.0, 1.0, 1.0, 0.0, 0.0, 0.0, 0.0, ...</td>\n      <td>[0.0, 0.0, 0.0, 0.0, 0.0, 1.0, 1.0, 1.0, 1.0, ...</td>\n      <td>[0.0, 0.0, 0.0, 0.0, 0.0, 1.0, 0.0, 0.0, 0.0, ...</td>\n    </tr>\n    <tr>\n      <th>4</th>\n      <td>Schenk, K, Faulhaber, M, Gatterer, H, Burtsche...</td>\n      <td>[1.0, 0.0, 0.0, 0.0, 0.0, 0.0, 0.0, 0.0, 0.0, ...</td>\n      <td>[0.0, 1.0, 1.0, 1.0, 1.0, 1.0, 0.0, 0.0, 0.0, ...</td>\n      <td>[0.0, 0.0, 0.0, 0.0, 0.0, 0.0, 1.0, 1.0, 1.0, ...</td>\n      <td>[0.0, 0.0, 0.0, 0.0, 0.0, 0.0, 1.0, 0.0, 0.0, ...</td>\n    </tr>\n  </tbody>\n</table>\n</div>"
     },
     "metadata": {},
     "execution_count": 3
    }
   ],
   "source": [
    "def tag_matrix(dataset, textgetter, entitygetter):\n",
    "    \"\"\"Return a four-column dataframe of the BIOELabel output for\n",
    "    matches to the entity returned by entitygetter.\n",
    "    \"\"\"\n",
    "    data = {tag: [] for tag in ('raw', 'B', 'I', 'O', 'E')}\n",
    "    def process(row):\n",
    "        data['raw'].append(textgetter(row))\n",
    "        for tag, value in BIOELabel(\n",
    "                textgetter(row), entitygetter(row)).tags().items():\n",
    "            data[tag].append(value)\n",
    "    dataset.apply(process, axis=1)\n",
    "    return pd.DataFrame(data)\n",
    "author_tags_path = os.path.join('datasets', 'author_tags_scratch.pickle')\n",
    "if not os.path.exists(author_tags_path):\n",
    "    t0 = time.time()\n",
    "    author_tags = tag_matrix(\n",
    "        train, lambda row: row.raw, lambda row: row.author.surnames()\n",
    "    )\n",
    "    print('Author tags generated in {:.2f} seconds.'.format(\n",
    "        time.time() - t0))\n",
    "    with open(author_tags_path, 'ab') as dbfile:\n",
    "        pickle.dump(author_tags, dbfile, protocol=pickle.HIGHEST_PROTOCOL)\n",
    "else:\n",
    "    with open(author_tags_path, 'rb') as dbfile:\n",
    "        author_tags = pickle.load(dbfile)\n",
    "author_tags.head()"
   ]
  },
  {
   "cell_type": "code",
   "execution_count": 4,
   "metadata": {
    "tags": []
   },
   "outputs": [
    {
     "output_type": "stream",
     "name": "stdout",
     "text": [
      "0/7 of the way finished sorting features after 7.152557373046875e-06 seconds\n",
      "[Parallel(n_jobs=-1)]: Using backend ThreadingBackend with 3 concurrent workers.\n",
      "[Parallel(n_jobs=-1)]: Done  44 tasks      | elapsed:    0.3s\n",
      "[Parallel(n_jobs=-1)]: Done 100 out of 100 | elapsed:    0.7s finished\n",
      "1/7 of the way finished sorting features after 28.47895050048828 seconds\n",
      "[Parallel(n_jobs=-1)]: Using backend ThreadingBackend with 3 concurrent workers.\n",
      "[Parallel(n_jobs=-1)]: Done  44 tasks      | elapsed:    0.3s\n",
      "[Parallel(n_jobs=-1)]: Done 100 out of 100 | elapsed:    0.7s finished\n",
      "2/7 of the way finished sorting features after 55.88803553581238 seconds\n",
      "[Parallel(n_jobs=-1)]: Using backend ThreadingBackend with 3 concurrent workers.\n",
      "[Parallel(n_jobs=-1)]: Done  44 tasks      | elapsed:    0.4s\n",
      "[Parallel(n_jobs=-1)]: Done 100 out of 100 | elapsed:    0.8s finished\n",
      "3/7 of the way finished sorting features after 84.0865409374237 seconds\n",
      "[Parallel(n_jobs=-1)]: Using backend ThreadingBackend with 3 concurrent workers.\n",
      "[Parallel(n_jobs=-1)]: Done  44 tasks      | elapsed:    0.4s\n",
      "[Parallel(n_jobs=-1)]: Done 100 out of 100 | elapsed:    0.8s finished\n",
      "4/7 of the way finished sorting features after 111.2387261390686 seconds\n",
      "[Parallel(n_jobs=-1)]: Using backend ThreadingBackend with 3 concurrent workers.\n",
      "[Parallel(n_jobs=-1)]: Done  44 tasks      | elapsed:    0.3s\n",
      "[Parallel(n_jobs=-1)]: Done 100 out of 100 | elapsed:    0.7s finished\n",
      "5/7 of the way finished sorting features after 138.54634714126587 seconds\n",
      "[Parallel(n_jobs=-1)]: Using backend ThreadingBackend with 3 concurrent workers.\n",
      "[Parallel(n_jobs=-1)]: Done  44 tasks      | elapsed:    0.3s\n",
      "[Parallel(n_jobs=-1)]: Done 100 out of 100 | elapsed:    0.7s finished\n",
      "6/7 of the way finished sorting features after 165.69592833518982 seconds\n",
      "[Parallel(n_jobs=-1)]: Using backend ThreadingBackend with 3 concurrent workers.\n",
      "[Parallel(n_jobs=-1)]: Done  44 tasks      | elapsed:    0.3s\n",
      "[Parallel(n_jobs=-1)]: Done 100 out of 100 | elapsed:    0.7s finished\n",
      "Time to initialize: 194.98739528656006\n"
     ]
    }
   ],
   "source": [
    "sample = author_tags.sample(1000)\n",
    "t0 = time.time()\n",
    "utb = UncertainTaggerBuilder(\n",
    "    texts=sample.raw, tags=sample.B, motifs=motifs, n_for_sort=200)\n",
    "print('Time to initialize:', time.time() - t0)"
   ]
  },
  {
   "cell_type": "code",
   "execution_count": 5,
   "metadata": {},
   "outputs": [
    {
     "output_type": "stream",
     "name": "stderr",
     "text": [
      "[Parallel(n_jobs=-1)]: Using backend ThreadingBackend with 3 concurrent workers.\n",
      "[Parallel(n_jobs=-1)]: Done  44 tasks      | elapsed:    0.4s\n",
      "[Parallel(n_jobs=-1)]: Done 100 out of 100 | elapsed:    0.9s finished\n",
      "[Parallel(n_jobs=3)]: Using backend ThreadingBackend with 3 concurrent workers.\n",
      "[Parallel(n_jobs=3)]: Done  44 tasks      | elapsed:    0.1s\n",
      "[Parallel(n_jobs=3)]: Done 100 out of 100 | elapsed:    0.2s finished\n",
      "DEBUG: pred:  [0.84 0.02 0.02 0.04 0.   0.   0.   0.   0.01 0.26 0.01 0.01 0.37 0.01\n",
      " 0.01 0.02 0.02 0.   0.   0.31 0.   0.   0.31 0.   0.   0.   0.   0.\n",
      " 0.   0.   0.   0.   0.   0.   0.15 0.   0.   0.31 0.   0.   0.   0.\n",
      " 0.   0.   0.   0.   0.29 0.   0.   0.   0.29 0.   0.01 0.03 0.   0.\n",
      " 0.   0.   0.   0.   0.   0.   0.   0.   0.   0.04 0.   0.   0.   0.\n",
      " 0.   0.   0.   0.   0.   0.   0.   0.   0.   0.   0.   0.   0.   0.\n",
      " 0.   0.   0.   0.   0.   0.   0.   0.   0.   0.   0.   0.   0.02 0.\n",
      " 0.   0.  ]\n",
      "DEBUG: actual:  [0. 0. 0. ... 0. 0. 0.]\n",
      "DEBUG: precision:  0.7158590308370034\n",
      "DEBUG: recall:  0.0\n",
      "[Parallel(n_jobs=-1)]: Using backend ThreadingBackend with 3 concurrent workers.\n",
      "[Parallel(n_jobs=-1)]: Done  44 tasks      | elapsed:    0.4s\n",
      "[Parallel(n_jobs=-1)]: Done 100 out of 100 | elapsed:    0.9s finished\n",
      "[Parallel(n_jobs=3)]: Using backend ThreadingBackend with 3 concurrent workers.\n",
      "[Parallel(n_jobs=3)]: Done  44 tasks      | elapsed:    0.1s\n",
      "[Parallel(n_jobs=3)]: Done 100 out of 100 | elapsed:    0.1s finished\n",
      "DEBUG: pred:  [0.89 0.02 0.01 0.01 0.01 0.01 0.02 0.02 0.02 0.13 0.03 0.01 0.28 0.\n",
      " 0.02 0.25 0.01 0.02 0.   0.   0.   0.01 0.01 0.13 0.01 0.02 0.21 0.03\n",
      " 0.02 0.02 0.02 0.01 0.01 0.01 0.11 0.01 0.   0.1  0.   0.   0.11 0.01\n",
      " 0.   0.   0.   0.   0.   0.05 0.   0.   0.02 0.   0.   0.01 0.   0.\n",
      " 0.   0.   0.   0.   0.   0.   0.   0.   0.   0.   0.01 0.   0.   0.\n",
      " 0.   0.   0.   0.   0.   0.   0.   0.   0.   0.   0.   0.   0.   0.\n",
      " 0.   0.   0.   0.03 0.   0.   0.   0.   0.   0.01 0.   0.   0.   0.\n",
      " 0.   0.  ]\n",
      "DEBUG: actual:  [1. 0. 0. ... 0. 0. 0.]\n",
      "DEBUG: precision:  1.020408163265305\n",
      "DEBUG: recall:  0.0\n",
      "[Parallel(n_jobs=-1)]: Using backend ThreadingBackend with 3 concurrent workers.\n",
      "[Parallel(n_jobs=-1)]: Done  44 tasks      | elapsed:    0.4s\n",
      "[Parallel(n_jobs=-1)]: Done 100 out of 100 | elapsed:    0.8s finished\n",
      "[Parallel(n_jobs=3)]: Using backend ThreadingBackend with 3 concurrent workers.\n",
      "[Parallel(n_jobs=3)]: Done  44 tasks      | elapsed:    0.1s\n",
      "[Parallel(n_jobs=3)]: Done 100 out of 100 | elapsed:    0.2s finished\n",
      "DEBUG: pred:  [0.84 0.03 0.01 0.01 0.02 0.01 0.   0.17 0.   0.   0.   0.33 0.01 0.\n",
      " 0.   0.   0.01 0.01 0.01 0.   0.   0.   0.02 0.01 0.   0.   0.   0.\n",
      " 0.36 0.02 0.01 0.   0.26 0.01 0.02 0.01 0.02 0.02 0.03 0.44 0.04 0.02\n",
      " 0.3  0.01 0.03 0.   0.   0.   0.15 0.01 0.02 0.11 0.01 0.2  0.   0.\n",
      " 0.   0.   0.01 0.01 0.01 0.01 0.01 0.01 0.01 0.   0.   0.   0.   0.\n",
      " 0.   0.   0.   0.   0.   0.   0.   0.   0.   0.   0.   0.   0.   0.\n",
      " 0.   0.   0.   0.   0.   0.   0.   0.   0.   0.   0.   0.   0.   0.\n",
      " 0.   0.  ]\n",
      "DEBUG: actual:  [1. 0. 0. ... 0. 0. 0.]\n",
      "DEBUG: precision:  0.7916131792896888\n",
      "DEBUG: recall:  0.0\n",
      "[Parallel(n_jobs=-1)]: Using backend ThreadingBackend with 3 concurrent workers.\n",
      "[Parallel(n_jobs=-1)]: Done  44 tasks      | elapsed:    0.4s\n",
      "[Parallel(n_jobs=-1)]: Done 100 out of 100 | elapsed:    0.8s finished\n",
      "[Parallel(n_jobs=3)]: Using backend ThreadingBackend with 3 concurrent workers.\n",
      "[Parallel(n_jobs=3)]: Done  44 tasks      | elapsed:    0.1s\n",
      "[Parallel(n_jobs=3)]: Done 100 out of 100 | elapsed:    0.1s finished\n",
      "DEBUG: pred:  [0.95 0.11 0.09 0.1  0.11 0.11 0.11 0.11 0.09 0.09 0.09 0.37 0.06 0.06\n",
      " 0.32 0.07 0.07 0.07 0.07 0.07 0.07 0.07 0.44 0.07 0.07 0.34 0.07 0.07\n",
      " 0.07 0.06 0.04 0.01 0.31 0.02 0.02 0.33 0.02 0.02 0.02 0.02 0.02 0.02\n",
      " 0.01 0.01 0.   0.   0.   0.22 0.   0.   0.24 0.   0.   0.01 0.   0.01\n",
      " 0.01 0.01 0.01 0.01 0.02 0.03 0.03 0.02 0.02 0.01 0.06 0.01 0.01 0.01\n",
      " 0.01 0.01 0.   0.   0.   0.04 0.   0.   0.   0.   0.   0.   0.   0.\n",
      " 0.   0.   0.08 0.   0.   0.   0.   0.   0.   0.   0.   0.   0.   0.\n",
      " 0.   0.  ]\n",
      "DEBUG: actual:  [1. 0. 0. ... 0. 0. 0.]\n",
      "DEBUG: precision:  0.7590666291818952\n",
      "DEBUG: recall:  0.0\n",
      "[Parallel(n_jobs=-1)]: Using backend ThreadingBackend with 3 concurrent workers.\n",
      "[Parallel(n_jobs=-1)]: Done  44 tasks      | elapsed:    0.3s\n",
      "[Parallel(n_jobs=-1)]: Done 100 out of 100 | elapsed:    0.8s finished\n",
      "[Parallel(n_jobs=3)]: Using backend ThreadingBackend with 3 concurrent workers.\n",
      "[Parallel(n_jobs=3)]: Done  44 tasks      | elapsed:    0.1s\n",
      "DEBUG: pred:  [0.78 0.01 0.01 0.02 0.01 0.02 0.   0.01 0.01 0.17 0.02 0.01 0.01 0.24\n",
      " 0.01 0.01 0.   0.   0.   0.   0.23 0.   0.   0.   0.2  0.   0.   0.\n",
      " 0.   0.   0.   0.   0.   0.2  0.01 0.19 0.01 0.02 0.02 0.29 0.   0.\n",
      " 0.   0.   0.   0.01 0.07 0.   0.   0.06 0.   0.   0.   0.   0.   0.\n",
      " 0.03 0.   0.   0.   0.04 0.01 0.01 0.01 0.01 0.   0.   0.   0.   0.\n",
      " 0.   0.   0.   0.   0.   0.   0.   0.   0.   0.   0.   0.   0.   0.\n",
      " 0.   0.   0.   0.   0.   0.   0.   0.   0.   0.   0.   0.   0.   0.\n",
      " 0.   0.  ]\n",
      "DEBUG: actual:  [1. 0. 0. ... 0. 0. 0.]\n",
      "DEBUG: precision:  0.7835236176404752\n",
      "DEBUG: recall:  0.0\n",
      "[Parallel(n_jobs=3)]: Done 100 out of 100 | elapsed:    0.1s finished\n"
     ]
    },
    {
     "output_type": "execute_result",
     "data": {
      "text/plain": [
       "(0.4546699064324318, 0.4596341871348197)"
      ]
     },
     "metadata": {},
     "execution_count": 5
    }
   ],
   "source": [
    "import scipy\n",
    "utb._CV(utb._features[:5], k=5, confidence=0.9)"
   ]
  },
  {
   "cell_type": "code",
   "execution_count": 6,
   "metadata": {},
   "outputs": [
    {
     "output_type": "stream",
     "name": "stderr",
     "text": [
      "[Parallel(n_jobs=-1)]: Using backend ThreadingBackend with 3 concurrent workers.\n",
      "[Parallel(n_jobs=-1)]: Done  44 tasks      | elapsed:    0.5s\n",
      "[Parallel(n_jobs=-1)]: Done 100 out of 100 | elapsed:    1.0s finished\n",
      "[Parallel(n_jobs=3)]: Using backend ThreadingBackend with 3 concurrent workers.\n",
      "[Parallel(n_jobs=3)]: Done  44 tasks      | elapsed:    0.1s\n",
      "[Parallel(n_jobs=3)]: Done 100 out of 100 | elapsed:    0.1s finished\n",
      "DEBUG: pred:  [0.77 0.05 0.05 0.04 0.03 0.03 0.03 0.03 0.03 0.03 0.06 0.03 0.03 0.08\n",
      " 0.04 0.02 0.63 0.04 0.03 0.03 0.03 0.03 0.09 0.03 0.03 0.12 0.04 0.28\n",
      " 0.06 0.07 0.09 0.09 0.31 0.1  0.1  0.26 0.1  0.09 0.28 0.09 0.11 0.09\n",
      " 0.09 0.06 0.71 0.1  0.25 0.09 0.09 0.06 0.02 0.02 0.03 0.03 0.04 0.14\n",
      " 0.04 0.05 0.04 0.04 0.04 0.04 0.04 0.04 0.03 0.14 0.02 0.02 0.14 0.02\n",
      " 0.01 0.01 0.02 0.01 0.02 0.02 0.02 0.12 0.02 0.02 0.02 0.02 0.01 0.02\n",
      " 0.02 0.01 0.01 0.02 0.03 0.03 0.01 0.01 0.02 0.02 0.02 0.02 0.06 0.02\n",
      " 0.02 0.02]\n",
      "DEBUG: actual:  [1. 0. 0. ... 0. 0. 0.]\n",
      "DEBUG: precision:  0.6174068910575582\n",
      "DEBUG: recall:  0.0\n",
      "[Parallel(n_jobs=-1)]: Using backend ThreadingBackend with 3 concurrent workers.\n",
      "[Parallel(n_jobs=-1)]: Done  44 tasks      | elapsed:    0.5s\n",
      "[Parallel(n_jobs=-1)]: Done 100 out of 100 | elapsed:    1.0s finished\n",
      "[Parallel(n_jobs=3)]: Using backend ThreadingBackend with 3 concurrent workers.\n",
      "[Parallel(n_jobs=3)]: Done  44 tasks      | elapsed:    0.1s\n",
      "[Parallel(n_jobs=3)]: Done 100 out of 100 | elapsed:    0.1s finished\n",
      "DEBUG: pred:  [0.77 0.01 0.   0.   0.   0.   0.   0.   0.09 0.01 0.01 0.02 0.64 0.01\n",
      " 0.01 0.01 0.02 0.02 0.02 0.12 0.01 0.01 0.01 0.59 0.01 0.   0.   0.\n",
      " 0.   0.   0.09 0.   0.03 0.49 0.01 0.01 0.01 0.01 0.08 0.02 0.01 0.04\n",
      " 0.43 0.   0.   0.   0.   0.02 0.   0.   0.   0.   0.   0.   0.   0.\n",
      " 0.   0.   0.   0.   0.   0.   0.   0.   0.   0.   0.   0.   0.   0.\n",
      " 0.   0.   0.   0.   0.   0.   0.   0.   0.   0.   0.   0.   0.   0.\n",
      " 0.   0.   0.   0.   0.   0.   0.   0.   0.   0.   0.   0.   0.   0.\n",
      " 0.   0.  ]\n",
      "DEBUG: actual:  [1. 0. 0. ... 0. 0. 0.]\n",
      "DEBUG: precision:  1.0917030567685575\n",
      "DEBUG: recall:  0.0\n",
      "[Parallel(n_jobs=-1)]: Using backend ThreadingBackend with 3 concurrent workers.\n",
      "[Parallel(n_jobs=-1)]: Done  44 tasks      | elapsed:    0.5s\n",
      "[Parallel(n_jobs=-1)]: Done 100 out of 100 | elapsed:    1.0s finished\n",
      "[Parallel(n_jobs=3)]: Using backend ThreadingBackend with 3 concurrent workers.\n",
      "[Parallel(n_jobs=3)]: Done  44 tasks      | elapsed:    0.1s\n",
      "[Parallel(n_jobs=3)]: Done 100 out of 100 | elapsed:    0.2s finished\n",
      "DEBUG: pred:  [0.84 0.04 0.04 0.03 0.03 0.03 0.02 0.38 0.02 0.02 0.44 0.02 0.02 0.02\n",
      " 0.02 0.02 0.02 0.02 0.01 0.38 0.01 0.01 0.41 0.01 0.   0.   0.   0.\n",
      " 0.   0.02 0.22 0.   0.   0.03 0.   0.   0.   0.   0.05 0.   0.   0.\n",
      " 0.   0.   0.   0.   0.   0.   0.   0.01 0.   0.   0.   0.   0.   0.\n",
      " 0.   0.   0.   0.   0.   0.   0.   0.   0.   0.   0.   0.   0.   0.\n",
      " 0.01 0.1  0.   0.   0.   0.   0.   0.   0.   0.   0.   0.   0.   0.\n",
      " 0.   0.   0.   0.   0.   0.   0.02 0.15 0.01 0.01 0.   0.   0.   0.\n",
      " 0.   0.  ]\n",
      "DEBUG: actual:  [1. 0. 0. ... 0. 0. 0.]\n",
      "DEBUG: precision:  0.5706760316066692\n",
      "DEBUG: recall:  0.0\n",
      "[Parallel(n_jobs=-1)]: Using backend ThreadingBackend with 3 concurrent workers.\n",
      "[Parallel(n_jobs=-1)]: Done  44 tasks      | elapsed:    0.4s\n",
      "[Parallel(n_jobs=-1)]: Done 100 out of 100 | elapsed:    0.9s finished\n",
      "[Parallel(n_jobs=3)]: Using backend ThreadingBackend with 3 concurrent workers.\n",
      "[Parallel(n_jobs=3)]: Done  44 tasks      | elapsed:    0.1s\n",
      "[Parallel(n_jobs=3)]: Done 100 out of 100 | elapsed:    0.1s finished\n",
      "DEBUG: pred:  [0.67 0.09 0.1  0.1  0.09 0.1  0.04 0.24 0.07 0.07 0.05 0.29 0.05 0.02\n",
      " 0.02 0.02 0.02 0.02 0.02 0.02 0.01 0.33 0.02 0.02 0.01 0.39 0.   0.\n",
      " 0.   0.   0.   0.   0.01 0.19 0.02 0.03 0.02 0.05 0.01 0.01 0.   0.\n",
      " 0.   0.   0.   0.   0.   0.04 0.   0.   0.   0.03 0.   0.   0.   0.\n",
      " 0.   0.   0.   0.   0.   0.   0.   0.   0.   0.01 0.   0.   0.   0.\n",
      " 0.   0.   0.   0.   0.   0.   0.   0.   0.   0.   0.   0.   0.   0.\n",
      " 0.   0.   0.   0.   0.   0.   0.   0.   0.   0.   0.   0.   0.   0.\n",
      " 0.   0.  ]\n",
      "DEBUG: actual:  [1. 0. 0. ... 0. 0. 0.]\n",
      "DEBUG: precision:  0.6830601092896197\n",
      "DEBUG: recall:  0.0\n",
      "[Parallel(n_jobs=-1)]: Using backend ThreadingBackend with 3 concurrent workers.\n",
      "[Parallel(n_jobs=-1)]: Done  44 tasks      | elapsed:    0.5s\n",
      "[Parallel(n_jobs=-1)]: Done 100 out of 100 | elapsed:    1.1s finished\n",
      "[Parallel(n_jobs=3)]: Using backend ThreadingBackend with 3 concurrent workers.\n",
      "DEBUG: pred:  [0.83 0.01 0.   0.   0.   0.01 0.32 0.   0.   0.01 0.46 0.   0.   0.\n",
      " 0.   0.01 0.   0.01 0.   0.03 0.29 0.01 0.   0.   0.03 0.   0.   0.01\n",
      " 0.04 0.   0.   0.   0.   0.02 0.02 0.02 0.02 0.06 0.01 0.01 0.01 0.\n",
      " 0.01 0.   0.   0.   0.01 0.   0.   0.   0.   0.   0.   0.   0.   0.\n",
      " 0.   0.01 0.   0.   0.   0.   0.   0.   0.   0.   0.   0.   0.   0.\n",
      " 0.   0.   0.   0.   0.   0.   0.   0.   0.   0.   0.   0.   0.   0.\n",
      " 0.   0.   0.   0.   0.   0.   0.   0.   0.   0.   0.   0.   0.   0.\n",
      " 0.   0.  ]\n",
      "DEBUG: actual:  [1. 0. 0. ... 0. 0. 0.]\n",
      "DEBUG: precision:  0.6554121151936407\n",
      "DEBUG: recall:  0.0\n",
      "[Parallel(n_jobs=3)]: Done  44 tasks      | elapsed:    0.1s\n",
      "[Parallel(n_jobs=3)]: Done 100 out of 100 | elapsed:    0.1s finished\n"
     ]
    },
    {
     "output_type": "execute_result",
     "data": {
      "text/plain": [
       "(0.6099096824542988, 0.6160534135513506)"
      ]
     },
     "metadata": {},
     "execution_count": 6
    }
   ],
   "source": [
    "utb._CV(utb._features[:15], k=5, confidence=0.9)"
   ]
  },
  {
   "cell_type": "code",
   "execution_count": 7,
   "metadata": {},
   "outputs": [
    {
     "output_type": "stream",
     "name": "stderr",
     "text": [
      "[Parallel(n_jobs=-1)]: Using backend ThreadingBackend with 3 concurrent workers.\n",
      "[Parallel(n_jobs=-1)]: Done  44 tasks      | elapsed:    0.6s\n",
      "[Parallel(n_jobs=-1)]: Done 100 out of 100 | elapsed:    1.2s finished\n",
      "[Parallel(n_jobs=3)]: Using backend ThreadingBackend with 3 concurrent workers.\n",
      "[Parallel(n_jobs=3)]: Done  44 tasks      | elapsed:    0.1s\n",
      "[Parallel(n_jobs=3)]: Done 100 out of 100 | elapsed:    0.1s finished\n",
      "DEBUG: pred:  [0.88 0.16 0.11 0.06 0.05 0.03 0.02 0.03 0.03 0.01 0.52 0.06 0.06 0.06\n",
      " 0.03 0.63 0.06 0.06 0.07 0.07 0.06 0.06 0.05 0.02 0.41 0.05 0.06 0.05\n",
      " 0.06 0.14 0.09 0.1  0.08 0.06 0.06 0.05 0.04 0.03 0.04 0.04 0.05 0.05\n",
      " 0.05 0.05 0.05 0.04 0.04 0.04 0.03 0.03 0.04 0.03 0.03 0.03 0.05 0.03\n",
      " 0.03 0.03 0.03 0.03 0.05 0.03 0.03 0.03 0.03 0.03 0.02 0.03 0.03 0.03\n",
      " 0.03 0.03 0.03 0.05 0.03 0.13 0.03 0.04 0.03 0.03 0.03 0.03 0.05 0.04\n",
      " 0.08 0.03 0.03 0.03 0.04 0.03 0.09 0.03 0.03 0.04 0.03 0.09 0.03 0.03\n",
      " 0.03 0.04]\n",
      "DEBUG: actual:  [1. 0. 0. ... 0. 0. 0.]\n",
      "DEBUG: precision:  0.5506216696269968\n",
      "DEBUG: recall:  0.0\n",
      "[Parallel(n_jobs=-1)]: Using backend ThreadingBackend with 3 concurrent workers.\n",
      "[Parallel(n_jobs=-1)]: Done  44 tasks      | elapsed:    0.5s\n",
      "[Parallel(n_jobs=-1)]: Done 100 out of 100 | elapsed:    1.1s finished\n",
      "[Parallel(n_jobs=3)]: Using backend ThreadingBackend with 3 concurrent workers.\n",
      "[Parallel(n_jobs=3)]: Done  44 tasks      | elapsed:    0.1s\n",
      "[Parallel(n_jobs=3)]: Done 100 out of 100 | elapsed:    0.1s finished\n",
      "DEBUG: pred:  [0.77 0.08 0.04 0.04 0.03 0.04 0.03 0.02 0.01 0.2  0.01 0.01 0.06 0.01\n",
      " 0.01 0.01 0.01 0.01 0.01 0.01 0.01 0.05 0.01 0.01 0.01 0.02 0.02 0.02\n",
      " 0.01 0.01 0.02 0.02 0.05 0.02 0.02 0.05 0.01 0.01 0.01 0.01 0.02 0.02\n",
      " 0.02 0.03 0.02 0.01 0.01 0.01 0.01 0.01 0.   0.   0.   0.   0.   0.\n",
      " 0.   0.   0.   0.   0.   0.   0.   0.   0.   0.   0.   0.   0.   0.\n",
      " 0.   0.   0.   0.   0.   0.   0.   0.   0.   0.   0.   0.   0.   0.\n",
      " 0.   0.   0.   0.   0.   0.   0.   0.   0.   0.   0.   0.   0.   0.\n",
      " 0.   0.  ]\n",
      "DEBUG: actual:  [1. 0. 0. ... 0. 0. 0.]\n",
      "DEBUG: precision:  0.757428626917847\n",
      "DEBUG: recall:  0.0\n",
      "[Parallel(n_jobs=-1)]: Using backend ThreadingBackend with 3 concurrent workers.\n",
      "[Parallel(n_jobs=-1)]: Done  44 tasks      | elapsed:    0.5s\n",
      "[Parallel(n_jobs=-1)]: Done 100 out of 100 | elapsed:    1.1s finished\n",
      "[Parallel(n_jobs=3)]: Using backend ThreadingBackend with 3 concurrent workers.\n",
      "[Parallel(n_jobs=3)]: Done  44 tasks      | elapsed:    0.1s\n",
      "[Parallel(n_jobs=3)]: Done 100 out of 100 | elapsed:    0.1s finished\n",
      "DEBUG: pred:  [0.77 0.06 0.03 0.03 0.03 0.03 0.01 0.   0.28 0.01 0.01 0.01 0.01 0.09\n",
      " 0.01 0.03 0.02 0.54 0.   0.01 0.01 0.01 0.02 0.01 0.01 0.07 0.01 0.02\n",
      " 0.67 0.01 0.01 0.   0.   0.06 0.02 0.02 0.04 0.   0.   0.   0.03 0.02\n",
      " 0.02 0.02 0.02 0.03 0.07 0.02 0.02 0.05 0.59 0.02 0.01 0.01 0.01 0.02\n",
      " 0.02 0.05 0.02 0.   0.   0.   0.01 0.   0.   0.   0.   0.   0.02 0.\n",
      " 0.   0.   0.   0.   0.   0.03 0.   0.   0.   0.   0.   0.   0.   0.\n",
      " 0.   0.   0.   0.02 0.   0.   0.   0.   0.   0.   0.   0.   0.   0.\n",
      " 0.   0.  ]\n",
      "DEBUG: actual:  [1. 0. 0. ... 0. 0. 0.]\n",
      "DEBUG: precision:  0.5689621345889745\n",
      "DEBUG: recall:  0.0\n",
      "[Parallel(n_jobs=-1)]: Using backend ThreadingBackend with 3 concurrent workers.\n",
      "[Parallel(n_jobs=-1)]: Done  44 tasks      | elapsed:    0.5s\n",
      "[Parallel(n_jobs=-1)]: Done 100 out of 100 | elapsed:    1.1s finished\n",
      "[Parallel(n_jobs=3)]: Using backend ThreadingBackend with 3 concurrent workers.\n",
      "[Parallel(n_jobs=3)]: Done  44 tasks      | elapsed:    0.1s\n",
      "[Parallel(n_jobs=3)]: Done 100 out of 100 | elapsed:    0.1s finished\n",
      "DEBUG: pred:  [0.83 0.04 0.02 0.02 0.   0.03 0.   0.   0.01 0.5  0.03 0.04 0.03 0.04\n",
      " 0.05 0.03 0.06 0.02 0.02 0.56 0.07 0.07 0.09 0.04 0.05 0.11 0.03 0.04\n",
      " 0.1  0.06 0.05 0.05 0.07 0.07 0.07 0.08 0.1  0.04 0.04 0.04 0.03 0.03\n",
      " 0.03 0.03 0.05 0.05 0.02 0.04 0.04 0.02 0.04 0.05 0.05 0.01 0.   0.\n",
      " 0.   0.   0.   0.   0.   0.   0.   0.   0.   0.   0.   0.   0.   0.\n",
      " 0.   0.   0.   0.   0.   0.   0.   0.   0.01 0.   0.   0.   0.   0.\n",
      " 0.   0.   0.   0.   0.   0.   0.   0.   0.   0.   0.   0.   0.   0.\n",
      " 0.   0.  ]\n",
      "DEBUG: actual:  [1. 0. 0. ... 0. 0. 0.]\n",
      "DEBUG: precision:  0.8371824480369481\n",
      "DEBUG: recall:  0.0\n",
      "[Parallel(n_jobs=-1)]: Using backend ThreadingBackend with 3 concurrent workers.\n",
      "[Parallel(n_jobs=-1)]: Done  44 tasks      | elapsed:    0.5s\n",
      "[Parallel(n_jobs=-1)]: Done 100 out of 100 | elapsed:    1.1s finished\n",
      "DEBUG: pred:  [0.77 0.17 0.17 0.16 0.09 0.08 0.08 0.04 0.04 0.03 0.03 0.03 0.03 0.1\n",
      " 0.05 0.05 0.1  0.05 0.05 0.14 0.06 0.2  0.07 0.06 0.05 0.06 0.06 0.06\n",
      " 0.09 0.04 0.04 0.06 0.04 0.04 0.07 0.04 0.07 0.07 0.07 0.07 0.07 0.06\n",
      " 0.06 0.07 0.07 0.07 0.08 0.07 0.05 0.09 0.08 0.06 0.08 0.08 0.09 0.06\n",
      " 0.07 0.07 0.07 0.05 0.05 0.04 0.06 0.05 0.05 0.05 0.05 0.04 0.05 0.05\n",
      " 0.05 0.05 0.05 0.05 0.05 0.05 0.03 0.05 0.04 0.04 0.04 0.03 0.05 0.04\n",
      " 0.03 0.05 0.03 0.03 0.03 0.03 0.03 0.03 0.02 0.01 0.02 0.02 0.02 0.02\n",
      " 0.04 0.02]\n",
      "DEBUG: actual:  [1. 0. 0. ... 0. 0. 0.]\n",
      "DEBUG: precision:  0.7802974884174594\n",
      "DEBUG: recall:  0.0\n",
      "[Parallel(n_jobs=3)]: Using backend ThreadingBackend with 3 concurrent workers.\n",
      "[Parallel(n_jobs=3)]: Done  44 tasks      | elapsed:    0.1s\n",
      "[Parallel(n_jobs=3)]: Done 100 out of 100 | elapsed:    0.1s finished\n"
     ]
    },
    {
     "output_type": "execute_result",
     "data": {
      "text/plain": [
       "(0.6351283720877274, 0.6383396677597906)"
      ]
     },
     "metadata": {},
     "execution_count": 7
    }
   ],
   "source": [
    "utb._CV(utb._features[:30], k=5, confidence=0.9)"
   ]
  },
  {
   "cell_type": "code",
   "execution_count": 6,
   "metadata": {},
   "outputs": [
    {
     "output_type": "execute_result",
     "data": {
      "text/plain": [
       "['-1th_\", \"',\n",
       " '0th_\", \"',\n",
       " '0th_\" \"',\n",
       " '0th_\". \"',\n",
       " '-1th_\"J, \"',\n",
       " '-1th_\" \"',\n",
       " '-1th_\"H, \"',\n",
       " '-1th_\" S\"',\n",
       " '-1th_\" K\"',\n",
       " '-1th_\" W\"']"
      ]
     },
     "metadata": {},
     "execution_count": 6
    }
   ],
   "source": [
    "[str(feature) for feature in utb._features[:10]]"
   ]
  },
  {
   "cell_type": "code",
   "execution_count": 5,
   "metadata": {},
   "outputs": [],
   "source": [
    "X, y = utb._X(), utb._labels()"
   ]
  },
  {
   "cell_type": "code",
   "execution_count": 26,
   "metadata": {},
   "outputs": [],
   "source": [
    "regr = RandomForestRegressor(\n",
    "    random_state=0, verbose=1, n_jobs=-1)"
   ]
  },
  {
   "cell_type": "code",
   "execution_count": 27,
   "metadata": {},
   "outputs": [
    {
     "output_type": "stream",
     "name": "stderr",
     "text": [
      "[Parallel(n_jobs=3)]: Using backend ThreadingBackend with 3 concurrent workers.\n",
      "[Parallel(n_jobs=3)]: Done  44 tasks      | elapsed:  4.8min\n",
      "Elapsed time: 593.4815990924835\n",
      "[Parallel(n_jobs=3)]: Done 100 out of 100 | elapsed:  9.9min finished\n"
     ]
    }
   ],
   "source": [
    "t0 = time.time()\n",
    "regr.fit(X, y)\n",
    "print('Elapsed time:', time.time() - t0)"
   ]
  },
  {
   "cell_type": "code",
   "execution_count": 30,
   "metadata": {},
   "outputs": [
    {
     "output_type": "execute_result",
     "data": {
      "text/plain": [
       "['-1th_\"i\" -> 0.03139330469785673',\n",
       " '-1th_\" \" -> 0.030653403690900877',\n",
       " '-1th_\"r\" -> 0.002516241148017014',\n",
       " '-1th_\"e\" -> 0.05082396238975671',\n",
       " '-1th_\"n\" -> 0.004698896506257944',\n",
       " '-1th_\"a\" -> 0.04924226826706511',\n",
       " '-1th_\"t\" -> 0.00352795080863393',\n",
       " '-1th_\"s\" -> 0.005556928071292358',\n",
       " '-1th_\"o\" -> 0.03615993932352817',\n",
       " '-1th_\". \" -> 0.031609844380332396',\n",
       " '-1th_\".\" -> 0.0015290126610194186',\n",
       " '-1th_\", \" -> 0.1252682644062291',\n",
       " '-1th_\"u\" -> 0.015811471513609097',\n",
       " '-1th_\"h\" -> 0.0062621085694191',\n",
       " '-1th_\"m\" -> 0.0014475392387895741',\n",
       " '-1th_\"M\" -> 0.0024070756119629966',\n",
       " '-1th_\"e \" -> 0.005769372641047589',\n",
       " '-1th_\"y\" -> 0.005068830645877607',\n",
       " '-1th_\"S\" -> 0.004563153390237448',\n",
       " '-1th_\"A\" -> 0.0026830181413667734',\n",
       " '-1th_\"C\" -> 0.002325269359642735',\n",
       " '-1th_\"J\" -> 0.003336292566078514',\n",
       " '0th_\"i\" -> 0.025638028692881412',\n",
       " '0th_\" \" -> 0.08368215974583824',\n",
       " '0th_\"r\" -> 0.014615038521526562',\n",
       " '0th_\"e\" -> 0.02441914534215503',\n",
       " '0th_\"n\" -> 0.002964311322686968',\n",
       " '0th_\"a\" -> 0.023401045285058937',\n",
       " '0th_\"t\" -> 0.0035791551707942113',\n",
       " '0th_\"s\" -> 0.006973532727120993',\n",
       " '0th_\"o\" -> 0.025481307351613677',\n",
       " '0th_\"l\" -> 0.006994960065716142',\n",
       " '0th_\". \" -> 0.14058083476085642',\n",
       " '0th_\".\" -> 0.009416573963348003',\n",
       " '0th_\", \" -> 0.01686938520841879',\n",
       " '0th_\"1\" -> 0.0014577606076769866',\n",
       " '0th_\"2\" -> 0.0027925346594433785',\n",
       " '0th_\"c\" -> 0.006997281593746285',\n",
       " '0th_\"0\" -> 0.003412108878993294',\n",
       " '0th_\"d\" -> 0.0026235718181882453',\n",
       " '0th_\"u\" -> 0.013270809831400096',\n",
       " '0th_\"h\" -> 0.011593329832020691',\n",
       " '0th_\"m\" -> 0.0025907562735917765',\n",
       " '0th_\"M\" -> 0.0025443708997130053',\n",
       " '0th_\"I\" -> 0.0022639251543144006',\n",
       " '0th_\"D\" -> 0.002262414409852527',\n",
       " '0th_\"p\" -> 0.003124065813903243',\n",
       " '0th_\"in\" -> 0.001839709333372246',\n",
       " '0th_\"20\" -> 0.0015698787834706222',\n",
       " '0th_\" 1\" -> 0.001441088223696541',\n",
       " '0th_\"an\" -> 0.00215818616701649',\n",
       " '0th_\"n \" -> 0.0078046933206814655',\n",
       " '0th_\"on\" -> 0.002454804395354817',\n",
       " '0th_\"e \" -> 0.0020644506518313296',\n",
       " '0th_\"s \" -> 0.0020987967210821957',\n",
       " '0th_\"en\" -> 0.0018386001295589026',\n",
       " '0th_\"4\" -> 0.0014632429426881',\n",
       " '0th_\" a\" -> 0.016841185040205025',\n",
       " '0th_\"at\" -> 0.0017029814002174394',\n",
       " '0th_\"S\" -> 0.0032390393366269585',\n",
       " '0th_\"l \" -> 0.0017153759398530837',\n",
       " '0th_\"v\" -> 0.0017443156635905462',\n",
       " '0th_\"A\" -> 0.00218855162917028',\n",
       " '0th_\"C\" -> 0.001609829391076618',\n",
       " '0th_\" t\" -> 0.0019711311492616812',\n",
       " '0th_\"in \" -> 0.0016328172569004076',\n",
       " '0th_\"t \" -> 0.0022676477036837808']"
      ]
     },
     "metadata": {},
     "execution_count": 30
    }
   ],
   "source": [
    "[\n",
    "    X.columns[idx] + ' -> ' + str(regr.feature_importances_[idx])\n",
    "    for idx in range(len(X.columns))\n",
    "    if regr.feature_importances_[idx] > 0.0014\n",
    "]"
   ]
  },
  {
   "cell_type": "code",
   "execution_count": 28,
   "metadata": {},
   "outputs": [
    {
     "output_type": "execute_result",
     "data": {
      "text/plain": [
       "(array([133.,  30.,   7.,   4.,   5.,   1.,   1.,   0.,   1.,   1.,   1.,\n",
       "          3.,   0.,   0.,   0.,   0.,   1.,   1.,   2.,   0.,   0.,   1.,\n",
       "          2.,   0.,   0.,   1.,   0.,   0.,   0.,   0.,   0.,   0.,   0.,\n",
       "          0.,   0.,   1.,   1.,   0.,   0.,   0.,   0.,   0.,   0.,   0.,\n",
       "          0.,   0.,   0.,   0.,   0.,   0.,   0.,   0.,   0.,   0.,   0.,\n",
       "          0.,   0.,   0.,   0.,   1.,   0.,   0.,   0.,   0.,   0.,   0.,\n",
       "          0.,   0.,   0.,   0.,   0.,   0.,   0.,   0.,   0.,   0.,   0.,\n",
       "          0.,   0.,   0.,   0.,   0.,   0.,   0.,   0.,   0.,   0.,   0.,\n",
       "          0.,   1.,   0.,   0.,   0.,   0.,   0.,   0.,   0.,   0.,   0.,\n",
       "          1.]),\n",
       " array([0.        , 0.00140581, 0.00281162, 0.00421743, 0.00562323,\n",
       "        0.00702904, 0.00843485, 0.00984066, 0.01124647, 0.01265228,\n",
       "        0.01405808, 0.01546389, 0.0168697 , 0.01827551, 0.01968132,\n",
       "        0.02108713, 0.02249293, 0.02389874, 0.02530455, 0.02671036,\n",
       "        0.02811617, 0.02952198, 0.03092778, 0.03233359, 0.0337394 ,\n",
       "        0.03514521, 0.03655102, 0.03795683, 0.03936263, 0.04076844,\n",
       "        0.04217425, 0.04358006, 0.04498587, 0.04639168, 0.04779748,\n",
       "        0.04920329, 0.0506091 , 0.05201491, 0.05342072, 0.05482653,\n",
       "        0.05623233, 0.05763814, 0.05904395, 0.06044976, 0.06185557,\n",
       "        0.06326138, 0.06466718, 0.06607299, 0.0674788 , 0.06888461,\n",
       "        0.07029042, 0.07169623, 0.07310203, 0.07450784, 0.07591365,\n",
       "        0.07731946, 0.07872527, 0.08013108, 0.08153688, 0.08294269,\n",
       "        0.0843485 , 0.08575431, 0.08716012, 0.08856593, 0.08997173,\n",
       "        0.09137754, 0.09278335, 0.09418916, 0.09559497, 0.09700078,\n",
       "        0.09840658, 0.09981239, 0.1012182 , 0.10262401, 0.10402982,\n",
       "        0.10543563, 0.10684143, 0.10824724, 0.10965305, 0.11105886,\n",
       "        0.11246467, 0.11387048, 0.11527628, 0.11668209, 0.1180879 ,\n",
       "        0.11949371, 0.12089952, 0.12230533, 0.12371113, 0.12511694,\n",
       "        0.12652275, 0.12792856, 0.12933437, 0.13074018, 0.13214598,\n",
       "        0.13355179, 0.1349576 , 0.13636341, 0.13776922, 0.13917503,\n",
       "        0.14058083]),\n",
       " <BarContainer object of 100 artists>)"
      ]
     },
     "metadata": {},
     "execution_count": 28
    },
    {
     "output_type": "display_data",
     "data": {
      "text/plain": "<Figure size 432x288 with 1 Axes>",
      "image/svg+xml": "<?xml version=\"1.0\" encoding=\"utf-8\" standalone=\"no\"?>\n<!DOCTYPE svg PUBLIC \"-//W3C//DTD SVG 1.1//EN\"\n  \"http://www.w3.org/Graphics/SVG/1.1/DTD/svg11.dtd\">\n<!-- Created with matplotlib (https://matplotlib.org/) -->\n<svg height=\"248.518125pt\" version=\"1.1\" viewBox=\"0 0 375.2875 248.518125\" width=\"375.2875pt\" xmlns=\"http://www.w3.org/2000/svg\" xmlns:xlink=\"http://www.w3.org/1999/xlink\">\n <metadata>\n  <rdf:RDF xmlns:cc=\"http://creativecommons.org/ns#\" xmlns:dc=\"http://purl.org/dc/elements/1.1/\" xmlns:rdf=\"http://www.w3.org/1999/02/22-rdf-syntax-ns#\">\n   <cc:Work>\n    <dc:type rdf:resource=\"http://purl.org/dc/dcmitype/StillImage\"/>\n    <dc:date>2021-03-22T16:25:35.952110</dc:date>\n    <dc:format>image/svg+xml</dc:format>\n    <dc:creator>\n     <cc:Agent>\n      <dc:title>Matplotlib v3.3.4, https://matplotlib.org/</dc:title>\n     </cc:Agent>\n    </dc:creator>\n   </cc:Work>\n  </rdf:RDF>\n </metadata>\n <defs>\n  <style type=\"text/css\">*{stroke-linecap:butt;stroke-linejoin:round;}</style>\n </defs>\n <g id=\"figure_1\">\n  <g id=\"patch_1\">\n   <path d=\"M 0 248.518125 \nL 375.2875 248.518125 \nL 375.2875 0 \nL 0 0 \nz\n\" style=\"fill:none;\"/>\n  </g>\n  <g id=\"axes_1\">\n   <g id=\"patch_2\">\n    <path d=\"M 33.2875 224.64 \nL 368.0875 224.64 \nL 368.0875 7.2 \nL 33.2875 7.2 \nz\n\" style=\"fill:#ffffff;\"/>\n   </g>\n   <g id=\"patch_3\">\n    <path clip-path=\"url(#p948665e935)\" d=\"M 48.505682 224.64 \nL 51.549318 224.64 \nL 51.549318 17.554286 \nL 48.505682 17.554286 \nz\n\" style=\"fill:#1f77b4;\"/>\n   </g>\n   <g id=\"patch_4\">\n    <path clip-path=\"url(#p948665e935)\" d=\"M 51.549318 224.64 \nL 54.592955 224.64 \nL 54.592955 177.928937 \nL 51.549318 177.928937 \nz\n\" style=\"fill:#1f77b4;\"/>\n   </g>\n   <g id=\"patch_5\">\n    <path clip-path=\"url(#p948665e935)\" d=\"M 54.592955 224.64 \nL 57.636591 224.64 \nL 57.636591 213.740752 \nL 54.592955 213.740752 \nz\n\" style=\"fill:#1f77b4;\"/>\n   </g>\n   <g id=\"patch_6\">\n    <path clip-path=\"url(#p948665e935)\" d=\"M 57.636591 224.64 \nL 60.680227 224.64 \nL 60.680227 218.411858 \nL 57.636591 218.411858 \nz\n\" style=\"fill:#1f77b4;\"/>\n   </g>\n   <g id=\"patch_7\">\n    <path clip-path=\"url(#p948665e935)\" d=\"M 60.680227 224.64 \nL 63.723864 224.64 \nL 63.723864 216.854823 \nL 60.680227 216.854823 \nz\n\" style=\"fill:#1f77b4;\"/>\n   </g>\n   <g id=\"patch_8\">\n    <path clip-path=\"url(#p948665e935)\" d=\"M 63.723864 224.64 \nL 66.7675 224.64 \nL 66.7675 223.082965 \nL 63.723864 223.082965 \nz\n\" style=\"fill:#1f77b4;\"/>\n   </g>\n   <g id=\"patch_9\">\n    <path clip-path=\"url(#p948665e935)\" d=\"M 66.7675 224.64 \nL 69.811136 224.64 \nL 69.811136 223.082965 \nL 66.7675 223.082965 \nz\n\" style=\"fill:#1f77b4;\"/>\n   </g>\n   <g id=\"patch_10\">\n    <path clip-path=\"url(#p948665e935)\" d=\"M 69.811136 224.64 \nL 72.854773 224.64 \nL 72.854773 224.64 \nL 69.811136 224.64 \nz\n\" style=\"fill:#1f77b4;\"/>\n   </g>\n   <g id=\"patch_11\">\n    <path clip-path=\"url(#p948665e935)\" d=\"M 72.854773 224.64 \nL 75.898409 224.64 \nL 75.898409 223.082965 \nL 72.854773 223.082965 \nz\n\" style=\"fill:#1f77b4;\"/>\n   </g>\n   <g id=\"patch_12\">\n    <path clip-path=\"url(#p948665e935)\" d=\"M 75.898409 224.64 \nL 78.942045 224.64 \nL 78.942045 223.082965 \nL 75.898409 223.082965 \nz\n\" style=\"fill:#1f77b4;\"/>\n   </g>\n   <g id=\"patch_13\">\n    <path clip-path=\"url(#p948665e935)\" d=\"M 78.942045 224.64 \nL 81.985682 224.64 \nL 81.985682 223.082965 \nL 78.942045 223.082965 \nz\n\" style=\"fill:#1f77b4;\"/>\n   </g>\n   <g id=\"patch_14\">\n    <path clip-path=\"url(#p948665e935)\" d=\"M 81.985682 224.64 \nL 85.029318 224.64 \nL 85.029318 219.968894 \nL 81.985682 219.968894 \nz\n\" style=\"fill:#1f77b4;\"/>\n   </g>\n   <g id=\"patch_15\">\n    <path clip-path=\"url(#p948665e935)\" d=\"M 85.029318 224.64 \nL 88.072955 224.64 \nL 88.072955 224.64 \nL 85.029318 224.64 \nz\n\" style=\"fill:#1f77b4;\"/>\n   </g>\n   <g id=\"patch_16\">\n    <path clip-path=\"url(#p948665e935)\" d=\"M 88.072955 224.64 \nL 91.116591 224.64 \nL 91.116591 224.64 \nL 88.072955 224.64 \nz\n\" style=\"fill:#1f77b4;\"/>\n   </g>\n   <g id=\"patch_17\">\n    <path clip-path=\"url(#p948665e935)\" d=\"M 91.116591 224.64 \nL 94.160227 224.64 \nL 94.160227 224.64 \nL 91.116591 224.64 \nz\n\" style=\"fill:#1f77b4;\"/>\n   </g>\n   <g id=\"patch_18\">\n    <path clip-path=\"url(#p948665e935)\" d=\"M 94.160227 224.64 \nL 97.203864 224.64 \nL 97.203864 224.64 \nL 94.160227 224.64 \nz\n\" style=\"fill:#1f77b4;\"/>\n   </g>\n   <g id=\"patch_19\">\n    <path clip-path=\"url(#p948665e935)\" d=\"M 97.203864 224.64 \nL 100.2475 224.64 \nL 100.2475 223.082965 \nL 97.203864 223.082965 \nz\n\" style=\"fill:#1f77b4;\"/>\n   </g>\n   <g id=\"patch_20\">\n    <path clip-path=\"url(#p948665e935)\" d=\"M 100.2475 224.64 \nL 103.291136 224.64 \nL 103.291136 223.082965 \nL 100.2475 223.082965 \nz\n\" style=\"fill:#1f77b4;\"/>\n   </g>\n   <g id=\"patch_21\">\n    <path clip-path=\"url(#p948665e935)\" d=\"M 103.291136 224.64 \nL 106.334773 224.64 \nL 106.334773 221.525929 \nL 103.291136 221.525929 \nz\n\" style=\"fill:#1f77b4;\"/>\n   </g>\n   <g id=\"patch_22\">\n    <path clip-path=\"url(#p948665e935)\" d=\"M 106.334773 224.64 \nL 109.378409 224.64 \nL 109.378409 224.64 \nL 106.334773 224.64 \nz\n\" style=\"fill:#1f77b4;\"/>\n   </g>\n   <g id=\"patch_23\">\n    <path clip-path=\"url(#p948665e935)\" d=\"M 109.378409 224.64 \nL 112.422045 224.64 \nL 112.422045 224.64 \nL 109.378409 224.64 \nz\n\" style=\"fill:#1f77b4;\"/>\n   </g>\n   <g id=\"patch_24\">\n    <path clip-path=\"url(#p948665e935)\" d=\"M 112.422045 224.64 \nL 115.465682 224.64 \nL 115.465682 223.082965 \nL 112.422045 223.082965 \nz\n\" style=\"fill:#1f77b4;\"/>\n   </g>\n   <g id=\"patch_25\">\n    <path clip-path=\"url(#p948665e935)\" d=\"M 115.465682 224.64 \nL 118.509318 224.64 \nL 118.509318 221.525929 \nL 115.465682 221.525929 \nz\n\" style=\"fill:#1f77b4;\"/>\n   </g>\n   <g id=\"patch_26\">\n    <path clip-path=\"url(#p948665e935)\" d=\"M 118.509318 224.64 \nL 121.552955 224.64 \nL 121.552955 224.64 \nL 118.509318 224.64 \nz\n\" style=\"fill:#1f77b4;\"/>\n   </g>\n   <g id=\"patch_27\">\n    <path clip-path=\"url(#p948665e935)\" d=\"M 121.552955 224.64 \nL 124.596591 224.64 \nL 124.596591 224.64 \nL 121.552955 224.64 \nz\n\" style=\"fill:#1f77b4;\"/>\n   </g>\n   <g id=\"patch_28\">\n    <path clip-path=\"url(#p948665e935)\" d=\"M 124.596591 224.64 \nL 127.640227 224.64 \nL 127.640227 223.082965 \nL 124.596591 223.082965 \nz\n\" style=\"fill:#1f77b4;\"/>\n   </g>\n   <g id=\"patch_29\">\n    <path clip-path=\"url(#p948665e935)\" d=\"M 127.640227 224.64 \nL 130.683864 224.64 \nL 130.683864 224.64 \nL 127.640227 224.64 \nz\n\" style=\"fill:#1f77b4;\"/>\n   </g>\n   <g id=\"patch_30\">\n    <path clip-path=\"url(#p948665e935)\" d=\"M 130.683864 224.64 \nL 133.7275 224.64 \nL 133.7275 224.64 \nL 130.683864 224.64 \nz\n\" style=\"fill:#1f77b4;\"/>\n   </g>\n   <g id=\"patch_31\">\n    <path clip-path=\"url(#p948665e935)\" d=\"M 133.7275 224.64 \nL 136.771136 224.64 \nL 136.771136 224.64 \nL 133.7275 224.64 \nz\n\" style=\"fill:#1f77b4;\"/>\n   </g>\n   <g id=\"patch_32\">\n    <path clip-path=\"url(#p948665e935)\" d=\"M 136.771136 224.64 \nL 139.814773 224.64 \nL 139.814773 224.64 \nL 136.771136 224.64 \nz\n\" style=\"fill:#1f77b4;\"/>\n   </g>\n   <g id=\"patch_33\">\n    <path clip-path=\"url(#p948665e935)\" d=\"M 139.814773 224.64 \nL 142.858409 224.64 \nL 142.858409 224.64 \nL 139.814773 224.64 \nz\n\" style=\"fill:#1f77b4;\"/>\n   </g>\n   <g id=\"patch_34\">\n    <path clip-path=\"url(#p948665e935)\" d=\"M 142.858409 224.64 \nL 145.902045 224.64 \nL 145.902045 224.64 \nL 142.858409 224.64 \nz\n\" style=\"fill:#1f77b4;\"/>\n   </g>\n   <g id=\"patch_35\">\n    <path clip-path=\"url(#p948665e935)\" d=\"M 145.902045 224.64 \nL 148.945682 224.64 \nL 148.945682 224.64 \nL 145.902045 224.64 \nz\n\" style=\"fill:#1f77b4;\"/>\n   </g>\n   <g id=\"patch_36\">\n    <path clip-path=\"url(#p948665e935)\" d=\"M 148.945682 224.64 \nL 151.989318 224.64 \nL 151.989318 224.64 \nL 148.945682 224.64 \nz\n\" style=\"fill:#1f77b4;\"/>\n   </g>\n   <g id=\"patch_37\">\n    <path clip-path=\"url(#p948665e935)\" d=\"M 151.989318 224.64 \nL 155.032955 224.64 \nL 155.032955 224.64 \nL 151.989318 224.64 \nz\n\" style=\"fill:#1f77b4;\"/>\n   </g>\n   <g id=\"patch_38\">\n    <path clip-path=\"url(#p948665e935)\" d=\"M 155.032955 224.64 \nL 158.076591 224.64 \nL 158.076591 223.082965 \nL 155.032955 223.082965 \nz\n\" style=\"fill:#1f77b4;\"/>\n   </g>\n   <g id=\"patch_39\">\n    <path clip-path=\"url(#p948665e935)\" d=\"M 158.076591 224.64 \nL 161.120227 224.64 \nL 161.120227 223.082965 \nL 158.076591 223.082965 \nz\n\" style=\"fill:#1f77b4;\"/>\n   </g>\n   <g id=\"patch_40\">\n    <path clip-path=\"url(#p948665e935)\" d=\"M 161.120227 224.64 \nL 164.163864 224.64 \nL 164.163864 224.64 \nL 161.120227 224.64 \nz\n\" style=\"fill:#1f77b4;\"/>\n   </g>\n   <g id=\"patch_41\">\n    <path clip-path=\"url(#p948665e935)\" d=\"M 164.163864 224.64 \nL 167.2075 224.64 \nL 167.2075 224.64 \nL 164.163864 224.64 \nz\n\" style=\"fill:#1f77b4;\"/>\n   </g>\n   <g id=\"patch_42\">\n    <path clip-path=\"url(#p948665e935)\" d=\"M 167.2075 224.64 \nL 170.251136 224.64 \nL 170.251136 224.64 \nL 167.2075 224.64 \nz\n\" style=\"fill:#1f77b4;\"/>\n   </g>\n   <g id=\"patch_43\">\n    <path clip-path=\"url(#p948665e935)\" d=\"M 170.251136 224.64 \nL 173.294773 224.64 \nL 173.294773 224.64 \nL 170.251136 224.64 \nz\n\" style=\"fill:#1f77b4;\"/>\n   </g>\n   <g id=\"patch_44\">\n    <path clip-path=\"url(#p948665e935)\" d=\"M 173.294773 224.64 \nL 176.338409 224.64 \nL 176.338409 224.64 \nL 173.294773 224.64 \nz\n\" style=\"fill:#1f77b4;\"/>\n   </g>\n   <g id=\"patch_45\">\n    <path clip-path=\"url(#p948665e935)\" d=\"M 176.338409 224.64 \nL 179.382045 224.64 \nL 179.382045 224.64 \nL 176.338409 224.64 \nz\n\" style=\"fill:#1f77b4;\"/>\n   </g>\n   <g id=\"patch_46\">\n    <path clip-path=\"url(#p948665e935)\" d=\"M 179.382045 224.64 \nL 182.425682 224.64 \nL 182.425682 224.64 \nL 179.382045 224.64 \nz\n\" style=\"fill:#1f77b4;\"/>\n   </g>\n   <g id=\"patch_47\">\n    <path clip-path=\"url(#p948665e935)\" d=\"M 182.425682 224.64 \nL 185.469318 224.64 \nL 185.469318 224.64 \nL 182.425682 224.64 \nz\n\" style=\"fill:#1f77b4;\"/>\n   </g>\n   <g id=\"patch_48\">\n    <path clip-path=\"url(#p948665e935)\" d=\"M 185.469318 224.64 \nL 188.512955 224.64 \nL 188.512955 224.64 \nL 185.469318 224.64 \nz\n\" style=\"fill:#1f77b4;\"/>\n   </g>\n   <g id=\"patch_49\">\n    <path clip-path=\"url(#p948665e935)\" d=\"M 188.512955 224.64 \nL 191.556591 224.64 \nL 191.556591 224.64 \nL 188.512955 224.64 \nz\n\" style=\"fill:#1f77b4;\"/>\n   </g>\n   <g id=\"patch_50\">\n    <path clip-path=\"url(#p948665e935)\" d=\"M 191.556591 224.64 \nL 194.600227 224.64 \nL 194.600227 224.64 \nL 191.556591 224.64 \nz\n\" style=\"fill:#1f77b4;\"/>\n   </g>\n   <g id=\"patch_51\">\n    <path clip-path=\"url(#p948665e935)\" d=\"M 194.600227 224.64 \nL 197.643864 224.64 \nL 197.643864 224.64 \nL 194.600227 224.64 \nz\n\" style=\"fill:#1f77b4;\"/>\n   </g>\n   <g id=\"patch_52\">\n    <path clip-path=\"url(#p948665e935)\" d=\"M 197.643864 224.64 \nL 200.6875 224.64 \nL 200.6875 224.64 \nL 197.643864 224.64 \nz\n\" style=\"fill:#1f77b4;\"/>\n   </g>\n   <g id=\"patch_53\">\n    <path clip-path=\"url(#p948665e935)\" d=\"M 200.6875 224.64 \nL 203.731136 224.64 \nL 203.731136 224.64 \nL 200.6875 224.64 \nz\n\" style=\"fill:#1f77b4;\"/>\n   </g>\n   <g id=\"patch_54\">\n    <path clip-path=\"url(#p948665e935)\" d=\"M 203.731136 224.64 \nL 206.774773 224.64 \nL 206.774773 224.64 \nL 203.731136 224.64 \nz\n\" style=\"fill:#1f77b4;\"/>\n   </g>\n   <g id=\"patch_55\">\n    <path clip-path=\"url(#p948665e935)\" d=\"M 206.774773 224.64 \nL 209.818409 224.64 \nL 209.818409 224.64 \nL 206.774773 224.64 \nz\n\" style=\"fill:#1f77b4;\"/>\n   </g>\n   <g id=\"patch_56\">\n    <path clip-path=\"url(#p948665e935)\" d=\"M 209.818409 224.64 \nL 212.862045 224.64 \nL 212.862045 224.64 \nL 209.818409 224.64 \nz\n\" style=\"fill:#1f77b4;\"/>\n   </g>\n   <g id=\"patch_57\">\n    <path clip-path=\"url(#p948665e935)\" d=\"M 212.862045 224.64 \nL 215.905682 224.64 \nL 215.905682 224.64 \nL 212.862045 224.64 \nz\n\" style=\"fill:#1f77b4;\"/>\n   </g>\n   <g id=\"patch_58\">\n    <path clip-path=\"url(#p948665e935)\" d=\"M 215.905682 224.64 \nL 218.949318 224.64 \nL 218.949318 224.64 \nL 215.905682 224.64 \nz\n\" style=\"fill:#1f77b4;\"/>\n   </g>\n   <g id=\"patch_59\">\n    <path clip-path=\"url(#p948665e935)\" d=\"M 218.949318 224.64 \nL 221.992955 224.64 \nL 221.992955 224.64 \nL 218.949318 224.64 \nz\n\" style=\"fill:#1f77b4;\"/>\n   </g>\n   <g id=\"patch_60\">\n    <path clip-path=\"url(#p948665e935)\" d=\"M 221.992955 224.64 \nL 225.036591 224.64 \nL 225.036591 224.64 \nL 221.992955 224.64 \nz\n\" style=\"fill:#1f77b4;\"/>\n   </g>\n   <g id=\"patch_61\">\n    <path clip-path=\"url(#p948665e935)\" d=\"M 225.036591 224.64 \nL 228.080227 224.64 \nL 228.080227 224.64 \nL 225.036591 224.64 \nz\n\" style=\"fill:#1f77b4;\"/>\n   </g>\n   <g id=\"patch_62\">\n    <path clip-path=\"url(#p948665e935)\" d=\"M 228.080227 224.64 \nL 231.123864 224.64 \nL 231.123864 223.082965 \nL 228.080227 223.082965 \nz\n\" style=\"fill:#1f77b4;\"/>\n   </g>\n   <g id=\"patch_63\">\n    <path clip-path=\"url(#p948665e935)\" d=\"M 231.123864 224.64 \nL 234.1675 224.64 \nL 234.1675 224.64 \nL 231.123864 224.64 \nz\n\" style=\"fill:#1f77b4;\"/>\n   </g>\n   <g id=\"patch_64\">\n    <path clip-path=\"url(#p948665e935)\" d=\"M 234.1675 224.64 \nL 237.211136 224.64 \nL 237.211136 224.64 \nL 234.1675 224.64 \nz\n\" style=\"fill:#1f77b4;\"/>\n   </g>\n   <g id=\"patch_65\">\n    <path clip-path=\"url(#p948665e935)\" d=\"M 237.211136 224.64 \nL 240.254773 224.64 \nL 240.254773 224.64 \nL 237.211136 224.64 \nz\n\" style=\"fill:#1f77b4;\"/>\n   </g>\n   <g id=\"patch_66\">\n    <path clip-path=\"url(#p948665e935)\" d=\"M 240.254773 224.64 \nL 243.298409 224.64 \nL 243.298409 224.64 \nL 240.254773 224.64 \nz\n\" style=\"fill:#1f77b4;\"/>\n   </g>\n   <g id=\"patch_67\">\n    <path clip-path=\"url(#p948665e935)\" d=\"M 243.298409 224.64 \nL 246.342045 224.64 \nL 246.342045 224.64 \nL 243.298409 224.64 \nz\n\" style=\"fill:#1f77b4;\"/>\n   </g>\n   <g id=\"patch_68\">\n    <path clip-path=\"url(#p948665e935)\" d=\"M 246.342045 224.64 \nL 249.385682 224.64 \nL 249.385682 224.64 \nL 246.342045 224.64 \nz\n\" style=\"fill:#1f77b4;\"/>\n   </g>\n   <g id=\"patch_69\">\n    <path clip-path=\"url(#p948665e935)\" d=\"M 249.385682 224.64 \nL 252.429318 224.64 \nL 252.429318 224.64 \nL 249.385682 224.64 \nz\n\" style=\"fill:#1f77b4;\"/>\n   </g>\n   <g id=\"patch_70\">\n    <path clip-path=\"url(#p948665e935)\" d=\"M 252.429318 224.64 \nL 255.472955 224.64 \nL 255.472955 224.64 \nL 252.429318 224.64 \nz\n\" style=\"fill:#1f77b4;\"/>\n   </g>\n   <g id=\"patch_71\">\n    <path clip-path=\"url(#p948665e935)\" d=\"M 255.472955 224.64 \nL 258.516591 224.64 \nL 258.516591 224.64 \nL 255.472955 224.64 \nz\n\" style=\"fill:#1f77b4;\"/>\n   </g>\n   <g id=\"patch_72\">\n    <path clip-path=\"url(#p948665e935)\" d=\"M 258.516591 224.64 \nL 261.560227 224.64 \nL 261.560227 224.64 \nL 258.516591 224.64 \nz\n\" style=\"fill:#1f77b4;\"/>\n   </g>\n   <g id=\"patch_73\">\n    <path clip-path=\"url(#p948665e935)\" d=\"M 261.560227 224.64 \nL 264.603864 224.64 \nL 264.603864 224.64 \nL 261.560227 224.64 \nz\n\" style=\"fill:#1f77b4;\"/>\n   </g>\n   <g id=\"patch_74\">\n    <path clip-path=\"url(#p948665e935)\" d=\"M 264.603864 224.64 \nL 267.6475 224.64 \nL 267.6475 224.64 \nL 264.603864 224.64 \nz\n\" style=\"fill:#1f77b4;\"/>\n   </g>\n   <g id=\"patch_75\">\n    <path clip-path=\"url(#p948665e935)\" d=\"M 267.6475 224.64 \nL 270.691136 224.64 \nL 270.691136 224.64 \nL 267.6475 224.64 \nz\n\" style=\"fill:#1f77b4;\"/>\n   </g>\n   <g id=\"patch_76\">\n    <path clip-path=\"url(#p948665e935)\" d=\"M 270.691136 224.64 \nL 273.734773 224.64 \nL 273.734773 224.64 \nL 270.691136 224.64 \nz\n\" style=\"fill:#1f77b4;\"/>\n   </g>\n   <g id=\"patch_77\">\n    <path clip-path=\"url(#p948665e935)\" d=\"M 273.734773 224.64 \nL 276.778409 224.64 \nL 276.778409 224.64 \nL 273.734773 224.64 \nz\n\" style=\"fill:#1f77b4;\"/>\n   </g>\n   <g id=\"patch_78\">\n    <path clip-path=\"url(#p948665e935)\" d=\"M 276.778409 224.64 \nL 279.822045 224.64 \nL 279.822045 224.64 \nL 276.778409 224.64 \nz\n\" style=\"fill:#1f77b4;\"/>\n   </g>\n   <g id=\"patch_79\">\n    <path clip-path=\"url(#p948665e935)\" d=\"M 279.822045 224.64 \nL 282.865682 224.64 \nL 282.865682 224.64 \nL 279.822045 224.64 \nz\n\" style=\"fill:#1f77b4;\"/>\n   </g>\n   <g id=\"patch_80\">\n    <path clip-path=\"url(#p948665e935)\" d=\"M 282.865682 224.64 \nL 285.909318 224.64 \nL 285.909318 224.64 \nL 282.865682 224.64 \nz\n\" style=\"fill:#1f77b4;\"/>\n   </g>\n   <g id=\"patch_81\">\n    <path clip-path=\"url(#p948665e935)\" d=\"M 285.909318 224.64 \nL 288.952955 224.64 \nL 288.952955 224.64 \nL 285.909318 224.64 \nz\n\" style=\"fill:#1f77b4;\"/>\n   </g>\n   <g id=\"patch_82\">\n    <path clip-path=\"url(#p948665e935)\" d=\"M 288.952955 224.64 \nL 291.996591 224.64 \nL 291.996591 224.64 \nL 288.952955 224.64 \nz\n\" style=\"fill:#1f77b4;\"/>\n   </g>\n   <g id=\"patch_83\">\n    <path clip-path=\"url(#p948665e935)\" d=\"M 291.996591 224.64 \nL 295.040227 224.64 \nL 295.040227 224.64 \nL 291.996591 224.64 \nz\n\" style=\"fill:#1f77b4;\"/>\n   </g>\n   <g id=\"patch_84\">\n    <path clip-path=\"url(#p948665e935)\" d=\"M 295.040227 224.64 \nL 298.083864 224.64 \nL 298.083864 224.64 \nL 295.040227 224.64 \nz\n\" style=\"fill:#1f77b4;\"/>\n   </g>\n   <g id=\"patch_85\">\n    <path clip-path=\"url(#p948665e935)\" d=\"M 298.083864 224.64 \nL 301.1275 224.64 \nL 301.1275 224.64 \nL 298.083864 224.64 \nz\n\" style=\"fill:#1f77b4;\"/>\n   </g>\n   <g id=\"patch_86\">\n    <path clip-path=\"url(#p948665e935)\" d=\"M 301.1275 224.64 \nL 304.171136 224.64 \nL 304.171136 224.64 \nL 301.1275 224.64 \nz\n\" style=\"fill:#1f77b4;\"/>\n   </g>\n   <g id=\"patch_87\">\n    <path clip-path=\"url(#p948665e935)\" d=\"M 304.171136 224.64 \nL 307.214773 224.64 \nL 307.214773 224.64 \nL 304.171136 224.64 \nz\n\" style=\"fill:#1f77b4;\"/>\n   </g>\n   <g id=\"patch_88\">\n    <path clip-path=\"url(#p948665e935)\" d=\"M 307.214773 224.64 \nL 310.258409 224.64 \nL 310.258409 224.64 \nL 307.214773 224.64 \nz\n\" style=\"fill:#1f77b4;\"/>\n   </g>\n   <g id=\"patch_89\">\n    <path clip-path=\"url(#p948665e935)\" d=\"M 310.258409 224.64 \nL 313.302045 224.64 \nL 313.302045 224.64 \nL 310.258409 224.64 \nz\n\" style=\"fill:#1f77b4;\"/>\n   </g>\n   <g id=\"patch_90\">\n    <path clip-path=\"url(#p948665e935)\" d=\"M 313.302045 224.64 \nL 316.345682 224.64 \nL 316.345682 224.64 \nL 313.302045 224.64 \nz\n\" style=\"fill:#1f77b4;\"/>\n   </g>\n   <g id=\"patch_91\">\n    <path clip-path=\"url(#p948665e935)\" d=\"M 316.345682 224.64 \nL 319.389318 224.64 \nL 319.389318 224.64 \nL 316.345682 224.64 \nz\n\" style=\"fill:#1f77b4;\"/>\n   </g>\n   <g id=\"patch_92\">\n    <path clip-path=\"url(#p948665e935)\" d=\"M 319.389318 224.64 \nL 322.432955 224.64 \nL 322.432955 223.082965 \nL 319.389318 223.082965 \nz\n\" style=\"fill:#1f77b4;\"/>\n   </g>\n   <g id=\"patch_93\">\n    <path clip-path=\"url(#p948665e935)\" d=\"M 322.432955 224.64 \nL 325.476591 224.64 \nL 325.476591 224.64 \nL 322.432955 224.64 \nz\n\" style=\"fill:#1f77b4;\"/>\n   </g>\n   <g id=\"patch_94\">\n    <path clip-path=\"url(#p948665e935)\" d=\"M 325.476591 224.64 \nL 328.520227 224.64 \nL 328.520227 224.64 \nL 325.476591 224.64 \nz\n\" style=\"fill:#1f77b4;\"/>\n   </g>\n   <g id=\"patch_95\">\n    <path clip-path=\"url(#p948665e935)\" d=\"M 328.520227 224.64 \nL 331.563864 224.64 \nL 331.563864 224.64 \nL 328.520227 224.64 \nz\n\" style=\"fill:#1f77b4;\"/>\n   </g>\n   <g id=\"patch_96\">\n    <path clip-path=\"url(#p948665e935)\" d=\"M 331.563864 224.64 \nL 334.6075 224.64 \nL 334.6075 224.64 \nL 331.563864 224.64 \nz\n\" style=\"fill:#1f77b4;\"/>\n   </g>\n   <g id=\"patch_97\">\n    <path clip-path=\"url(#p948665e935)\" d=\"M 334.6075 224.64 \nL 337.651136 224.64 \nL 337.651136 224.64 \nL 334.6075 224.64 \nz\n\" style=\"fill:#1f77b4;\"/>\n   </g>\n   <g id=\"patch_98\">\n    <path clip-path=\"url(#p948665e935)\" d=\"M 337.651136 224.64 \nL 340.694773 224.64 \nL 340.694773 224.64 \nL 337.651136 224.64 \nz\n\" style=\"fill:#1f77b4;\"/>\n   </g>\n   <g id=\"patch_99\">\n    <path clip-path=\"url(#p948665e935)\" d=\"M 340.694773 224.64 \nL 343.738409 224.64 \nL 343.738409 224.64 \nL 340.694773 224.64 \nz\n\" style=\"fill:#1f77b4;\"/>\n   </g>\n   <g id=\"patch_100\">\n    <path clip-path=\"url(#p948665e935)\" d=\"M 343.738409 224.64 \nL 346.782045 224.64 \nL 346.782045 224.64 \nL 343.738409 224.64 \nz\n\" style=\"fill:#1f77b4;\"/>\n   </g>\n   <g id=\"patch_101\">\n    <path clip-path=\"url(#p948665e935)\" d=\"M 346.782045 224.64 \nL 349.825682 224.64 \nL 349.825682 224.64 \nL 346.782045 224.64 \nz\n\" style=\"fill:#1f77b4;\"/>\n   </g>\n   <g id=\"patch_102\">\n    <path clip-path=\"url(#p948665e935)\" d=\"M 349.825682 224.64 \nL 352.869318 224.64 \nL 352.869318 223.082965 \nL 349.825682 223.082965 \nz\n\" style=\"fill:#1f77b4;\"/>\n   </g>\n   <g id=\"matplotlib.axis_1\">\n    <g id=\"xtick_1\">\n     <g id=\"line2d_1\">\n      <defs>\n       <path d=\"M 0 0 \nL 0 3.5 \n\" id=\"mc56dceac8d\" style=\"stroke:#000000;stroke-width:0.8;\"/>\n      </defs>\n      <g>\n       <use style=\"stroke:#000000;stroke-width:0.8;\" x=\"48.505682\" xlink:href=\"#mc56dceac8d\" y=\"224.64\"/>\n      </g>\n     </g>\n     <g id=\"text_1\">\n      <!-- 0.00 -->\n      <g transform=\"translate(37.372869 239.238437)scale(0.1 -0.1)\">\n       <defs>\n        <path d=\"M 31.78125 66.40625 \nQ 24.171875 66.40625 20.328125 58.90625 \nQ 16.5 51.421875 16.5 36.375 \nQ 16.5 21.390625 20.328125 13.890625 \nQ 24.171875 6.390625 31.78125 6.390625 \nQ 39.453125 6.390625 43.28125 13.890625 \nQ 47.125 21.390625 47.125 36.375 \nQ 47.125 51.421875 43.28125 58.90625 \nQ 39.453125 66.40625 31.78125 66.40625 \nz\nM 31.78125 74.21875 \nQ 44.046875 74.21875 50.515625 64.515625 \nQ 56.984375 54.828125 56.984375 36.375 \nQ 56.984375 17.96875 50.515625 8.265625 \nQ 44.046875 -1.421875 31.78125 -1.421875 \nQ 19.53125 -1.421875 13.0625 8.265625 \nQ 6.59375 17.96875 6.59375 36.375 \nQ 6.59375 54.828125 13.0625 64.515625 \nQ 19.53125 74.21875 31.78125 74.21875 \nz\n\" id=\"DejaVuSans-48\"/>\n        <path d=\"M 10.6875 12.40625 \nL 21 12.40625 \nL 21 0 \nL 10.6875 0 \nz\n\" id=\"DejaVuSans-46\"/>\n       </defs>\n       <use xlink:href=\"#DejaVuSans-48\"/>\n       <use x=\"63.623047\" xlink:href=\"#DejaVuSans-46\"/>\n       <use x=\"95.410156\" xlink:href=\"#DejaVuSans-48\"/>\n       <use x=\"159.033203\" xlink:href=\"#DejaVuSans-48\"/>\n      </g>\n     </g>\n    </g>\n    <g id=\"xtick_2\">\n     <g id=\"line2d_2\">\n      <g>\n       <use style=\"stroke:#000000;stroke-width:0.8;\" x=\"91.806554\" xlink:href=\"#mc56dceac8d\" y=\"224.64\"/>\n      </g>\n     </g>\n     <g id=\"text_2\">\n      <!-- 0.02 -->\n      <g transform=\"translate(80.673741 239.238437)scale(0.1 -0.1)\">\n       <defs>\n        <path d=\"M 19.1875 8.296875 \nL 53.609375 8.296875 \nL 53.609375 0 \nL 7.328125 0 \nL 7.328125 8.296875 \nQ 12.9375 14.109375 22.625 23.890625 \nQ 32.328125 33.6875 34.8125 36.53125 \nQ 39.546875 41.84375 41.421875 45.53125 \nQ 43.3125 49.21875 43.3125 52.78125 \nQ 43.3125 58.59375 39.234375 62.25 \nQ 35.15625 65.921875 28.609375 65.921875 \nQ 23.96875 65.921875 18.8125 64.3125 \nQ 13.671875 62.703125 7.8125 59.421875 \nL 7.8125 69.390625 \nQ 13.765625 71.78125 18.9375 73 \nQ 24.125 74.21875 28.421875 74.21875 \nQ 39.75 74.21875 46.484375 68.546875 \nQ 53.21875 62.890625 53.21875 53.421875 \nQ 53.21875 48.921875 51.53125 44.890625 \nQ 49.859375 40.875 45.40625 35.40625 \nQ 44.1875 33.984375 37.640625 27.21875 \nQ 31.109375 20.453125 19.1875 8.296875 \nz\n\" id=\"DejaVuSans-50\"/>\n       </defs>\n       <use xlink:href=\"#DejaVuSans-48\"/>\n       <use x=\"63.623047\" xlink:href=\"#DejaVuSans-46\"/>\n       <use x=\"95.410156\" xlink:href=\"#DejaVuSans-48\"/>\n       <use x=\"159.033203\" xlink:href=\"#DejaVuSans-50\"/>\n      </g>\n     </g>\n    </g>\n    <g id=\"xtick_3\">\n     <g id=\"line2d_3\">\n      <g>\n       <use style=\"stroke:#000000;stroke-width:0.8;\" x=\"135.107426\" xlink:href=\"#mc56dceac8d\" y=\"224.64\"/>\n      </g>\n     </g>\n     <g id=\"text_3\">\n      <!-- 0.04 -->\n      <g transform=\"translate(123.974613 239.238437)scale(0.1 -0.1)\">\n       <defs>\n        <path d=\"M 37.796875 64.3125 \nL 12.890625 25.390625 \nL 37.796875 25.390625 \nz\nM 35.203125 72.90625 \nL 47.609375 72.90625 \nL 47.609375 25.390625 \nL 58.015625 25.390625 \nL 58.015625 17.1875 \nL 47.609375 17.1875 \nL 47.609375 0 \nL 37.796875 0 \nL 37.796875 17.1875 \nL 4.890625 17.1875 \nL 4.890625 26.703125 \nz\n\" id=\"DejaVuSans-52\"/>\n       </defs>\n       <use xlink:href=\"#DejaVuSans-48\"/>\n       <use x=\"63.623047\" xlink:href=\"#DejaVuSans-46\"/>\n       <use x=\"95.410156\" xlink:href=\"#DejaVuSans-48\"/>\n       <use x=\"159.033203\" xlink:href=\"#DejaVuSans-52\"/>\n      </g>\n     </g>\n    </g>\n    <g id=\"xtick_4\">\n     <g id=\"line2d_4\">\n      <g>\n       <use style=\"stroke:#000000;stroke-width:0.8;\" x=\"178.408298\" xlink:href=\"#mc56dceac8d\" y=\"224.64\"/>\n      </g>\n     </g>\n     <g id=\"text_4\">\n      <!-- 0.06 -->\n      <g transform=\"translate(167.275485 239.238437)scale(0.1 -0.1)\">\n       <defs>\n        <path d=\"M 33.015625 40.375 \nQ 26.375 40.375 22.484375 35.828125 \nQ 18.609375 31.296875 18.609375 23.390625 \nQ 18.609375 15.53125 22.484375 10.953125 \nQ 26.375 6.390625 33.015625 6.390625 \nQ 39.65625 6.390625 43.53125 10.953125 \nQ 47.40625 15.53125 47.40625 23.390625 \nQ 47.40625 31.296875 43.53125 35.828125 \nQ 39.65625 40.375 33.015625 40.375 \nz\nM 52.59375 71.296875 \nL 52.59375 62.3125 \nQ 48.875 64.0625 45.09375 64.984375 \nQ 41.3125 65.921875 37.59375 65.921875 \nQ 27.828125 65.921875 22.671875 59.328125 \nQ 17.53125 52.734375 16.796875 39.40625 \nQ 19.671875 43.65625 24.015625 45.921875 \nQ 28.375 48.1875 33.59375 48.1875 \nQ 44.578125 48.1875 50.953125 41.515625 \nQ 57.328125 34.859375 57.328125 23.390625 \nQ 57.328125 12.15625 50.6875 5.359375 \nQ 44.046875 -1.421875 33.015625 -1.421875 \nQ 20.359375 -1.421875 13.671875 8.265625 \nQ 6.984375 17.96875 6.984375 36.375 \nQ 6.984375 53.65625 15.1875 63.9375 \nQ 23.390625 74.21875 37.203125 74.21875 \nQ 40.921875 74.21875 44.703125 73.484375 \nQ 48.484375 72.75 52.59375 71.296875 \nz\n\" id=\"DejaVuSans-54\"/>\n       </defs>\n       <use xlink:href=\"#DejaVuSans-48\"/>\n       <use x=\"63.623047\" xlink:href=\"#DejaVuSans-46\"/>\n       <use x=\"95.410156\" xlink:href=\"#DejaVuSans-48\"/>\n       <use x=\"159.033203\" xlink:href=\"#DejaVuSans-54\"/>\n      </g>\n     </g>\n    </g>\n    <g id=\"xtick_5\">\n     <g id=\"line2d_5\">\n      <g>\n       <use style=\"stroke:#000000;stroke-width:0.8;\" x=\"221.70917\" xlink:href=\"#mc56dceac8d\" y=\"224.64\"/>\n      </g>\n     </g>\n     <g id=\"text_5\">\n      <!-- 0.08 -->\n      <g transform=\"translate(210.576357 239.238437)scale(0.1 -0.1)\">\n       <defs>\n        <path d=\"M 31.78125 34.625 \nQ 24.75 34.625 20.71875 30.859375 \nQ 16.703125 27.09375 16.703125 20.515625 \nQ 16.703125 13.921875 20.71875 10.15625 \nQ 24.75 6.390625 31.78125 6.390625 \nQ 38.8125 6.390625 42.859375 10.171875 \nQ 46.921875 13.96875 46.921875 20.515625 \nQ 46.921875 27.09375 42.890625 30.859375 \nQ 38.875 34.625 31.78125 34.625 \nz\nM 21.921875 38.8125 \nQ 15.578125 40.375 12.03125 44.71875 \nQ 8.5 49.078125 8.5 55.328125 \nQ 8.5 64.0625 14.71875 69.140625 \nQ 20.953125 74.21875 31.78125 74.21875 \nQ 42.671875 74.21875 48.875 69.140625 \nQ 55.078125 64.0625 55.078125 55.328125 \nQ 55.078125 49.078125 51.53125 44.71875 \nQ 48 40.375 41.703125 38.8125 \nQ 48.828125 37.15625 52.796875 32.3125 \nQ 56.78125 27.484375 56.78125 20.515625 \nQ 56.78125 9.90625 50.3125 4.234375 \nQ 43.84375 -1.421875 31.78125 -1.421875 \nQ 19.734375 -1.421875 13.25 4.234375 \nQ 6.78125 9.90625 6.78125 20.515625 \nQ 6.78125 27.484375 10.78125 32.3125 \nQ 14.796875 37.15625 21.921875 38.8125 \nz\nM 18.3125 54.390625 \nQ 18.3125 48.734375 21.84375 45.5625 \nQ 25.390625 42.390625 31.78125 42.390625 \nQ 38.140625 42.390625 41.71875 45.5625 \nQ 45.3125 48.734375 45.3125 54.390625 \nQ 45.3125 60.0625 41.71875 63.234375 \nQ 38.140625 66.40625 31.78125 66.40625 \nQ 25.390625 66.40625 21.84375 63.234375 \nQ 18.3125 60.0625 18.3125 54.390625 \nz\n\" id=\"DejaVuSans-56\"/>\n       </defs>\n       <use xlink:href=\"#DejaVuSans-48\"/>\n       <use x=\"63.623047\" xlink:href=\"#DejaVuSans-46\"/>\n       <use x=\"95.410156\" xlink:href=\"#DejaVuSans-48\"/>\n       <use x=\"159.033203\" xlink:href=\"#DejaVuSans-56\"/>\n      </g>\n     </g>\n    </g>\n    <g id=\"xtick_6\">\n     <g id=\"line2d_6\">\n      <g>\n       <use style=\"stroke:#000000;stroke-width:0.8;\" x=\"265.010042\" xlink:href=\"#mc56dceac8d\" y=\"224.64\"/>\n      </g>\n     </g>\n     <g id=\"text_6\">\n      <!-- 0.10 -->\n      <g transform=\"translate(253.877229 239.238437)scale(0.1 -0.1)\">\n       <defs>\n        <path d=\"M 12.40625 8.296875 \nL 28.515625 8.296875 \nL 28.515625 63.921875 \nL 10.984375 60.40625 \nL 10.984375 69.390625 \nL 28.421875 72.90625 \nL 38.28125 72.90625 \nL 38.28125 8.296875 \nL 54.390625 8.296875 \nL 54.390625 0 \nL 12.40625 0 \nz\n\" id=\"DejaVuSans-49\"/>\n       </defs>\n       <use xlink:href=\"#DejaVuSans-48\"/>\n       <use x=\"63.623047\" xlink:href=\"#DejaVuSans-46\"/>\n       <use x=\"95.410156\" xlink:href=\"#DejaVuSans-49\"/>\n       <use x=\"159.033203\" xlink:href=\"#DejaVuSans-48\"/>\n      </g>\n     </g>\n    </g>\n    <g id=\"xtick_7\">\n     <g id=\"line2d_7\">\n      <g>\n       <use style=\"stroke:#000000;stroke-width:0.8;\" x=\"308.310914\" xlink:href=\"#mc56dceac8d\" y=\"224.64\"/>\n      </g>\n     </g>\n     <g id=\"text_7\">\n      <!-- 0.12 -->\n      <g transform=\"translate(297.178101 239.238437)scale(0.1 -0.1)\">\n       <use xlink:href=\"#DejaVuSans-48\"/>\n       <use x=\"63.623047\" xlink:href=\"#DejaVuSans-46\"/>\n       <use x=\"95.410156\" xlink:href=\"#DejaVuSans-49\"/>\n       <use x=\"159.033203\" xlink:href=\"#DejaVuSans-50\"/>\n      </g>\n     </g>\n    </g>\n    <g id=\"xtick_8\">\n     <g id=\"line2d_8\">\n      <g>\n       <use style=\"stroke:#000000;stroke-width:0.8;\" x=\"351.611786\" xlink:href=\"#mc56dceac8d\" y=\"224.64\"/>\n      </g>\n     </g>\n     <g id=\"text_8\">\n      <!-- 0.14 -->\n      <g transform=\"translate(340.478973 239.238437)scale(0.1 -0.1)\">\n       <use xlink:href=\"#DejaVuSans-48\"/>\n       <use x=\"63.623047\" xlink:href=\"#DejaVuSans-46\"/>\n       <use x=\"95.410156\" xlink:href=\"#DejaVuSans-49\"/>\n       <use x=\"159.033203\" xlink:href=\"#DejaVuSans-52\"/>\n      </g>\n     </g>\n    </g>\n   </g>\n   <g id=\"matplotlib.axis_2\">\n    <g id=\"ytick_1\">\n     <g id=\"line2d_9\">\n      <defs>\n       <path d=\"M 0 0 \nL -3.5 0 \n\" id=\"m3b1ef43dda\" style=\"stroke:#000000;stroke-width:0.8;\"/>\n      </defs>\n      <g>\n       <use style=\"stroke:#000000;stroke-width:0.8;\" x=\"33.2875\" xlink:href=\"#m3b1ef43dda\" y=\"224.64\"/>\n      </g>\n     </g>\n     <g id=\"text_9\">\n      <!-- 0 -->\n      <g transform=\"translate(19.925 228.439219)scale(0.1 -0.1)\">\n       <use xlink:href=\"#DejaVuSans-48\"/>\n      </g>\n     </g>\n    </g>\n    <g id=\"ytick_2\">\n     <g id=\"line2d_10\">\n      <g>\n       <use style=\"stroke:#000000;stroke-width:0.8;\" x=\"33.2875\" xlink:href=\"#m3b1ef43dda\" y=\"193.499291\"/>\n      </g>\n     </g>\n     <g id=\"text_10\">\n      <!-- 20 -->\n      <g transform=\"translate(13.5625 197.29851)scale(0.1 -0.1)\">\n       <use xlink:href=\"#DejaVuSans-50\"/>\n       <use x=\"63.623047\" xlink:href=\"#DejaVuSans-48\"/>\n      </g>\n     </g>\n    </g>\n    <g id=\"ytick_3\">\n     <g id=\"line2d_11\">\n      <g>\n       <use style=\"stroke:#000000;stroke-width:0.8;\" x=\"33.2875\" xlink:href=\"#m3b1ef43dda\" y=\"162.358582\"/>\n      </g>\n     </g>\n     <g id=\"text_11\">\n      <!-- 40 -->\n      <g transform=\"translate(13.5625 166.157801)scale(0.1 -0.1)\">\n       <use xlink:href=\"#DejaVuSans-52\"/>\n       <use x=\"63.623047\" xlink:href=\"#DejaVuSans-48\"/>\n      </g>\n     </g>\n    </g>\n    <g id=\"ytick_4\">\n     <g id=\"line2d_12\">\n      <g>\n       <use style=\"stroke:#000000;stroke-width:0.8;\" x=\"33.2875\" xlink:href=\"#m3b1ef43dda\" y=\"131.217873\"/>\n      </g>\n     </g>\n     <g id=\"text_12\">\n      <!-- 60 -->\n      <g transform=\"translate(13.5625 135.017092)scale(0.1 -0.1)\">\n       <use xlink:href=\"#DejaVuSans-54\"/>\n       <use x=\"63.623047\" xlink:href=\"#DejaVuSans-48\"/>\n      </g>\n     </g>\n    </g>\n    <g id=\"ytick_5\">\n     <g id=\"line2d_13\">\n      <g>\n       <use style=\"stroke:#000000;stroke-width:0.8;\" x=\"33.2875\" xlink:href=\"#m3b1ef43dda\" y=\"100.077164\"/>\n      </g>\n     </g>\n     <g id=\"text_13\">\n      <!-- 80 -->\n      <g transform=\"translate(13.5625 103.876383)scale(0.1 -0.1)\">\n       <use xlink:href=\"#DejaVuSans-56\"/>\n       <use x=\"63.623047\" xlink:href=\"#DejaVuSans-48\"/>\n      </g>\n     </g>\n    </g>\n    <g id=\"ytick_6\">\n     <g id=\"line2d_14\">\n      <g>\n       <use style=\"stroke:#000000;stroke-width:0.8;\" x=\"33.2875\" xlink:href=\"#m3b1ef43dda\" y=\"68.936455\"/>\n      </g>\n     </g>\n     <g id=\"text_14\">\n      <!-- 100 -->\n      <g transform=\"translate(7.2 72.735674)scale(0.1 -0.1)\">\n       <use xlink:href=\"#DejaVuSans-49\"/>\n       <use x=\"63.623047\" xlink:href=\"#DejaVuSans-48\"/>\n       <use x=\"127.246094\" xlink:href=\"#DejaVuSans-48\"/>\n      </g>\n     </g>\n    </g>\n    <g id=\"ytick_7\">\n     <g id=\"line2d_15\">\n      <g>\n       <use style=\"stroke:#000000;stroke-width:0.8;\" x=\"33.2875\" xlink:href=\"#m3b1ef43dda\" y=\"37.795747\"/>\n      </g>\n     </g>\n     <g id=\"text_15\">\n      <!-- 120 -->\n      <g transform=\"translate(7.2 41.594965)scale(0.1 -0.1)\">\n       <use xlink:href=\"#DejaVuSans-49\"/>\n       <use x=\"63.623047\" xlink:href=\"#DejaVuSans-50\"/>\n       <use x=\"127.246094\" xlink:href=\"#DejaVuSans-48\"/>\n      </g>\n     </g>\n    </g>\n   </g>\n   <g id=\"patch_103\">\n    <path d=\"M 33.2875 224.64 \nL 33.2875 7.2 \n\" style=\"fill:none;stroke:#000000;stroke-linecap:square;stroke-linejoin:miter;stroke-width:0.8;\"/>\n   </g>\n   <g id=\"patch_104\">\n    <path d=\"M 368.0875 224.64 \nL 368.0875 7.2 \n\" style=\"fill:none;stroke:#000000;stroke-linecap:square;stroke-linejoin:miter;stroke-width:0.8;\"/>\n   </g>\n   <g id=\"patch_105\">\n    <path d=\"M 33.2875 224.64 \nL 368.0875 224.64 \n\" style=\"fill:none;stroke:#000000;stroke-linecap:square;stroke-linejoin:miter;stroke-width:0.8;\"/>\n   </g>\n   <g id=\"patch_106\">\n    <path d=\"M 33.2875 7.2 \nL 368.0875 7.2 \n\" style=\"fill:none;stroke:#000000;stroke-linecap:square;stroke-linejoin:miter;stroke-width:0.8;\"/>\n   </g>\n  </g>\n </g>\n <defs>\n  <clipPath id=\"p948665e935\">\n   <rect height=\"217.44\" width=\"334.8\" x=\"33.2875\" y=\"7.2\"/>\n  </clipPath>\n </defs>\n</svg>\n",
      "image/png": "[encoded data removed]"
     },
     "metadata": {
      "needs_background": "light"
     }
    }
   ],
   "source": [
    "plt.hist(regr.feature_importances_, bins=100)"
   ]
  },
  {
   "cell_type": "code",
   "execution_count": 37,
   "metadata": {},
   "outputs": [
    {
     "output_type": "execute_result",
     "data": {
      "text/plain": [
       "(array([ 92., 395., 113.,  69.,  57.,  30.,  30.,  19.,  16.,  28.]),\n",
       " array([0. , 0.1, 0.2, 0.3, 0.4, 0.5, 0.6, 0.7, 0.8, 0.9, 1. ]),\n",
       " <BarContainer object of 10 artists>)"
      ]
     },
     "metadata": {},
     "execution_count": 37
    },
    {
     "output_type": "display_data",
     "data": {
      "text/plain": "<Figure size 432x288 with 1 Axes>",
      "image/svg+xml": "<?xml version=\"1.0\" encoding=\"utf-8\" standalone=\"no\"?>\n<!DOCTYPE svg PUBLIC \"-//W3C//DTD SVG 1.1//EN\"\n  \"http://www.w3.org/Graphics/SVG/1.1/DTD/svg11.dtd\">\n<!-- Created with matplotlib (https://matplotlib.org/) -->\n<svg height=\"248.518125pt\" version=\"1.1\" viewBox=\"0 0 375.2875 248.518125\" width=\"375.2875pt\" xmlns=\"http://www.w3.org/2000/svg\" xmlns:xlink=\"http://www.w3.org/1999/xlink\">\n <metadata>\n  <rdf:RDF xmlns:cc=\"http://creativecommons.org/ns#\" xmlns:dc=\"http://purl.org/dc/elements/1.1/\" xmlns:rdf=\"http://www.w3.org/1999/02/22-rdf-syntax-ns#\">\n   <cc:Work>\n    <dc:type rdf:resource=\"http://purl.org/dc/dcmitype/StillImage\"/>\n    <dc:date>2021-03-22T15:01:39.098446</dc:date>\n    <dc:format>image/svg+xml</dc:format>\n    <dc:creator>\n     <cc:Agent>\n      <dc:title>Matplotlib v3.3.4, https://matplotlib.org/</dc:title>\n     </cc:Agent>\n    </dc:creator>\n   </cc:Work>\n  </rdf:RDF>\n </metadata>\n <defs>\n  <style type=\"text/css\">*{stroke-linecap:butt;stroke-linejoin:round;}</style>\n </defs>\n <g id=\"figure_1\">\n  <g id=\"patch_1\">\n   <path d=\"M 0 248.518125 \nL 375.2875 248.518125 \nL 375.2875 0 \nL 0 0 \nz\n\" style=\"fill:none;\"/>\n  </g>\n  <g id=\"axes_1\">\n   <g id=\"patch_2\">\n    <path d=\"M 33.2875 224.64 \nL 368.0875 224.64 \nL 368.0875 7.2 \nL 33.2875 7.2 \nz\n\" style=\"fill:#ffffff;\"/>\n   </g>\n   <g id=\"patch_3\">\n    <path clip-path=\"url(#p54af3fb985)\" d=\"M 48.505682 224.64 \nL 78.942045 224.64 \nL 78.942045 176.407378 \nL 48.505682 176.407378 \nz\n\" style=\"fill:#1f77b4;\"/>\n   </g>\n   <g id=\"patch_4\">\n    <path clip-path=\"url(#p54af3fb985)\" d=\"M 78.942045 224.64 \nL 109.378409 224.64 \nL 109.378409 17.554286 \nL 78.942045 17.554286 \nz\n\" style=\"fill:#1f77b4;\"/>\n   </g>\n   <g id=\"patch_5\">\n    <path clip-path=\"url(#p54af3fb985)\" d=\"M 109.378409 224.64 \nL 139.814773 224.64 \nL 139.814773 165.397758 \nL 109.378409 165.397758 \nz\n\" style=\"fill:#1f77b4;\"/>\n   </g>\n   <g id=\"patch_6\">\n    <path clip-path=\"url(#p54af3fb985)\" d=\"M 139.814773 224.64 \nL 170.251136 224.64 \nL 170.251136 188.465533 \nL 139.814773 188.465533 \nz\n\" style=\"fill:#1f77b4;\"/>\n   </g>\n   <g id=\"patch_7\">\n    <path clip-path=\"url(#p54af3fb985)\" d=\"M 170.251136 224.64 \nL 200.6875 224.64 \nL 200.6875 194.756745 \nL 170.251136 194.756745 \nz\n\" style=\"fill:#1f77b4;\"/>\n   </g>\n   <g id=\"patch_8\">\n    <path clip-path=\"url(#p54af3fb985)\" d=\"M 200.6875 224.64 \nL 231.123864 224.64 \nL 231.123864 208.911971 \nL 200.6875 208.911971 \nz\n\" style=\"fill:#1f77b4;\"/>\n   </g>\n   <g id=\"patch_9\">\n    <path clip-path=\"url(#p54af3fb985)\" d=\"M 231.123864 224.64 \nL 261.560227 224.64 \nL 261.560227 208.911971 \nL 231.123864 208.911971 \nz\n\" style=\"fill:#1f77b4;\"/>\n   </g>\n   <g id=\"patch_10\">\n    <path clip-path=\"url(#p54af3fb985)\" d=\"M 261.560227 224.64 \nL 291.996591 224.64 \nL 291.996591 214.678915 \nL 261.560227 214.678915 \nz\n\" style=\"fill:#1f77b4;\"/>\n   </g>\n   <g id=\"patch_11\">\n    <path clip-path=\"url(#p54af3fb985)\" d=\"M 291.996591 224.64 \nL 322.432955 224.64 \nL 322.432955 216.251718 \nL 291.996591 216.251718 \nz\n\" style=\"fill:#1f77b4;\"/>\n   </g>\n   <g id=\"patch_12\">\n    <path clip-path=\"url(#p54af3fb985)\" d=\"M 322.432955 224.64 \nL 352.869318 224.64 \nL 352.869318 209.960506 \nL 322.432955 209.960506 \nz\n\" style=\"fill:#1f77b4;\"/>\n   </g>\n   <g id=\"matplotlib.axis_1\">\n    <g id=\"xtick_1\">\n     <g id=\"line2d_1\">\n      <defs>\n       <path d=\"M 0 0 \nL 0 3.5 \n\" id=\"m3170c7d802\" style=\"stroke:#000000;stroke-width:0.8;\"/>\n      </defs>\n      <g>\n       <use style=\"stroke:#000000;stroke-width:0.8;\" x=\"48.505682\" xlink:href=\"#m3170c7d802\" y=\"224.64\"/>\n      </g>\n     </g>\n     <g id=\"text_1\">\n      <!-- 0.0 -->\n      <g transform=\"translate(40.554119 239.238438)scale(0.1 -0.1)\">\n       <defs>\n        <path d=\"M 31.78125 66.40625 \nQ 24.171875 66.40625 20.328125 58.90625 \nQ 16.5 51.421875 16.5 36.375 \nQ 16.5 21.390625 20.328125 13.890625 \nQ 24.171875 6.390625 31.78125 6.390625 \nQ 39.453125 6.390625 43.28125 13.890625 \nQ 47.125 21.390625 47.125 36.375 \nQ 47.125 51.421875 43.28125 58.90625 \nQ 39.453125 66.40625 31.78125 66.40625 \nz\nM 31.78125 74.21875 \nQ 44.046875 74.21875 50.515625 64.515625 \nQ 56.984375 54.828125 56.984375 36.375 \nQ 56.984375 17.96875 50.515625 8.265625 \nQ 44.046875 -1.421875 31.78125 -1.421875 \nQ 19.53125 -1.421875 13.0625 8.265625 \nQ 6.59375 17.96875 6.59375 36.375 \nQ 6.59375 54.828125 13.0625 64.515625 \nQ 19.53125 74.21875 31.78125 74.21875 \nz\n\" id=\"DejaVuSans-48\"/>\n        <path d=\"M 10.6875 12.40625 \nL 21 12.40625 \nL 21 0 \nL 10.6875 0 \nz\n\" id=\"DejaVuSans-46\"/>\n       </defs>\n       <use xlink:href=\"#DejaVuSans-48\"/>\n       <use x=\"63.623047\" xlink:href=\"#DejaVuSans-46\"/>\n       <use x=\"95.410156\" xlink:href=\"#DejaVuSans-48\"/>\n      </g>\n     </g>\n    </g>\n    <g id=\"xtick_2\">\n     <g id=\"line2d_2\">\n      <g>\n       <use style=\"stroke:#000000;stroke-width:0.8;\" x=\"109.378409\" xlink:href=\"#m3170c7d802\" y=\"224.64\"/>\n      </g>\n     </g>\n     <g id=\"text_2\">\n      <!-- 0.2 -->\n      <g transform=\"translate(101.426847 239.238438)scale(0.1 -0.1)\">\n       <defs>\n        <path d=\"M 19.1875 8.296875 \nL 53.609375 8.296875 \nL 53.609375 0 \nL 7.328125 0 \nL 7.328125 8.296875 \nQ 12.9375 14.109375 22.625 23.890625 \nQ 32.328125 33.6875 34.8125 36.53125 \nQ 39.546875 41.84375 41.421875 45.53125 \nQ 43.3125 49.21875 43.3125 52.78125 \nQ 43.3125 58.59375 39.234375 62.25 \nQ 35.15625 65.921875 28.609375 65.921875 \nQ 23.96875 65.921875 18.8125 64.3125 \nQ 13.671875 62.703125 7.8125 59.421875 \nL 7.8125 69.390625 \nQ 13.765625 71.78125 18.9375 73 \nQ 24.125 74.21875 28.421875 74.21875 \nQ 39.75 74.21875 46.484375 68.546875 \nQ 53.21875 62.890625 53.21875 53.421875 \nQ 53.21875 48.921875 51.53125 44.890625 \nQ 49.859375 40.875 45.40625 35.40625 \nQ 44.1875 33.984375 37.640625 27.21875 \nQ 31.109375 20.453125 19.1875 8.296875 \nz\n\" id=\"DejaVuSans-50\"/>\n       </defs>\n       <use xlink:href=\"#DejaVuSans-48\"/>\n       <use x=\"63.623047\" xlink:href=\"#DejaVuSans-46\"/>\n       <use x=\"95.410156\" xlink:href=\"#DejaVuSans-50\"/>\n      </g>\n     </g>\n    </g>\n    <g id=\"xtick_3\">\n     <g id=\"line2d_3\">\n      <g>\n       <use style=\"stroke:#000000;stroke-width:0.8;\" x=\"170.251136\" xlink:href=\"#m3170c7d802\" y=\"224.64\"/>\n      </g>\n     </g>\n     <g id=\"text_3\">\n      <!-- 0.4 -->\n      <g transform=\"translate(162.299574 239.238438)scale(0.1 -0.1)\">\n       <defs>\n        <path d=\"M 37.796875 64.3125 \nL 12.890625 25.390625 \nL 37.796875 25.390625 \nz\nM 35.203125 72.90625 \nL 47.609375 72.90625 \nL 47.609375 25.390625 \nL 58.015625 25.390625 \nL 58.015625 17.1875 \nL 47.609375 17.1875 \nL 47.609375 0 \nL 37.796875 0 \nL 37.796875 17.1875 \nL 4.890625 17.1875 \nL 4.890625 26.703125 \nz\n\" id=\"DejaVuSans-52\"/>\n       </defs>\n       <use xlink:href=\"#DejaVuSans-48\"/>\n       <use x=\"63.623047\" xlink:href=\"#DejaVuSans-46\"/>\n       <use x=\"95.410156\" xlink:href=\"#DejaVuSans-52\"/>\n      </g>\n     </g>\n    </g>\n    <g id=\"xtick_4\">\n     <g id=\"line2d_4\">\n      <g>\n       <use style=\"stroke:#000000;stroke-width:0.8;\" x=\"231.123864\" xlink:href=\"#m3170c7d802\" y=\"224.64\"/>\n      </g>\n     </g>\n     <g id=\"text_4\">\n      <!-- 0.6 -->\n      <g transform=\"translate(223.172301 239.238438)scale(0.1 -0.1)\">\n       <defs>\n        <path d=\"M 33.015625 40.375 \nQ 26.375 40.375 22.484375 35.828125 \nQ 18.609375 31.296875 18.609375 23.390625 \nQ 18.609375 15.53125 22.484375 10.953125 \nQ 26.375 6.390625 33.015625 6.390625 \nQ 39.65625 6.390625 43.53125 10.953125 \nQ 47.40625 15.53125 47.40625 23.390625 \nQ 47.40625 31.296875 43.53125 35.828125 \nQ 39.65625 40.375 33.015625 40.375 \nz\nM 52.59375 71.296875 \nL 52.59375 62.3125 \nQ 48.875 64.0625 45.09375 64.984375 \nQ 41.3125 65.921875 37.59375 65.921875 \nQ 27.828125 65.921875 22.671875 59.328125 \nQ 17.53125 52.734375 16.796875 39.40625 \nQ 19.671875 43.65625 24.015625 45.921875 \nQ 28.375 48.1875 33.59375 48.1875 \nQ 44.578125 48.1875 50.953125 41.515625 \nQ 57.328125 34.859375 57.328125 23.390625 \nQ 57.328125 12.15625 50.6875 5.359375 \nQ 44.046875 -1.421875 33.015625 -1.421875 \nQ 20.359375 -1.421875 13.671875 8.265625 \nQ 6.984375 17.96875 6.984375 36.375 \nQ 6.984375 53.65625 15.1875 63.9375 \nQ 23.390625 74.21875 37.203125 74.21875 \nQ 40.921875 74.21875 44.703125 73.484375 \nQ 48.484375 72.75 52.59375 71.296875 \nz\n\" id=\"DejaVuSans-54\"/>\n       </defs>\n       <use xlink:href=\"#DejaVuSans-48\"/>\n       <use x=\"63.623047\" xlink:href=\"#DejaVuSans-46\"/>\n       <use x=\"95.410156\" xlink:href=\"#DejaVuSans-54\"/>\n      </g>\n     </g>\n    </g>\n    <g id=\"xtick_5\">\n     <g id=\"line2d_5\">\n      <g>\n       <use style=\"stroke:#000000;stroke-width:0.8;\" x=\"291.996591\" xlink:href=\"#m3170c7d802\" y=\"224.64\"/>\n      </g>\n     </g>\n     <g id=\"text_5\">\n      <!-- 0.8 -->\n      <g transform=\"translate(284.045028 239.238438)scale(0.1 -0.1)\">\n       <defs>\n        <path d=\"M 31.78125 34.625 \nQ 24.75 34.625 20.71875 30.859375 \nQ 16.703125 27.09375 16.703125 20.515625 \nQ 16.703125 13.921875 20.71875 10.15625 \nQ 24.75 6.390625 31.78125 6.390625 \nQ 38.8125 6.390625 42.859375 10.171875 \nQ 46.921875 13.96875 46.921875 20.515625 \nQ 46.921875 27.09375 42.890625 30.859375 \nQ 38.875 34.625 31.78125 34.625 \nz\nM 21.921875 38.8125 \nQ 15.578125 40.375 12.03125 44.71875 \nQ 8.5 49.078125 8.5 55.328125 \nQ 8.5 64.0625 14.71875 69.140625 \nQ 20.953125 74.21875 31.78125 74.21875 \nQ 42.671875 74.21875 48.875 69.140625 \nQ 55.078125 64.0625 55.078125 55.328125 \nQ 55.078125 49.078125 51.53125 44.71875 \nQ 48 40.375 41.703125 38.8125 \nQ 48.828125 37.15625 52.796875 32.3125 \nQ 56.78125 27.484375 56.78125 20.515625 \nQ 56.78125 9.90625 50.3125 4.234375 \nQ 43.84375 -1.421875 31.78125 -1.421875 \nQ 19.734375 -1.421875 13.25 4.234375 \nQ 6.78125 9.90625 6.78125 20.515625 \nQ 6.78125 27.484375 10.78125 32.3125 \nQ 14.796875 37.15625 21.921875 38.8125 \nz\nM 18.3125 54.390625 \nQ 18.3125 48.734375 21.84375 45.5625 \nQ 25.390625 42.390625 31.78125 42.390625 \nQ 38.140625 42.390625 41.71875 45.5625 \nQ 45.3125 48.734375 45.3125 54.390625 \nQ 45.3125 60.0625 41.71875 63.234375 \nQ 38.140625 66.40625 31.78125 66.40625 \nQ 25.390625 66.40625 21.84375 63.234375 \nQ 18.3125 60.0625 18.3125 54.390625 \nz\n\" id=\"DejaVuSans-56\"/>\n       </defs>\n       <use xlink:href=\"#DejaVuSans-48\"/>\n       <use x=\"63.623047\" xlink:href=\"#DejaVuSans-46\"/>\n       <use x=\"95.410156\" xlink:href=\"#DejaVuSans-56\"/>\n      </g>\n     </g>\n    </g>\n    <g id=\"xtick_6\">\n     <g id=\"line2d_6\">\n      <g>\n       <use style=\"stroke:#000000;stroke-width:0.8;\" x=\"352.869318\" xlink:href=\"#m3170c7d802\" y=\"224.64\"/>\n      </g>\n     </g>\n     <g id=\"text_6\">\n      <!-- 1.0 -->\n      <g transform=\"translate(344.917756 239.238438)scale(0.1 -0.1)\">\n       <defs>\n        <path d=\"M 12.40625 8.296875 \nL 28.515625 8.296875 \nL 28.515625 63.921875 \nL 10.984375 60.40625 \nL 10.984375 69.390625 \nL 28.421875 72.90625 \nL 38.28125 72.90625 \nL 38.28125 8.296875 \nL 54.390625 8.296875 \nL 54.390625 0 \nL 12.40625 0 \nz\n\" id=\"DejaVuSans-49\"/>\n       </defs>\n       <use xlink:href=\"#DejaVuSans-49\"/>\n       <use x=\"63.623047\" xlink:href=\"#DejaVuSans-46\"/>\n       <use x=\"95.410156\" xlink:href=\"#DejaVuSans-48\"/>\n      </g>\n     </g>\n    </g>\n   </g>\n   <g id=\"matplotlib.axis_2\">\n    <g id=\"ytick_1\">\n     <g id=\"line2d_7\">\n      <defs>\n       <path d=\"M 0 0 \nL -3.5 0 \n\" id=\"m70535eec83\" style=\"stroke:#000000;stroke-width:0.8;\"/>\n      </defs>\n      <g>\n       <use style=\"stroke:#000000;stroke-width:0.8;\" x=\"33.2875\" xlink:href=\"#m70535eec83\" y=\"224.64\"/>\n      </g>\n     </g>\n     <g id=\"text_7\">\n      <!-- 0 -->\n      <g transform=\"translate(19.925 228.439219)scale(0.1 -0.1)\">\n       <use xlink:href=\"#DejaVuSans-48\"/>\n      </g>\n     </g>\n    </g>\n    <g id=\"ytick_2\">\n     <g id=\"line2d_8\">\n      <g>\n       <use style=\"stroke:#000000;stroke-width:0.8;\" x=\"33.2875\" xlink:href=\"#m70535eec83\" y=\"198.426618\"/>\n      </g>\n     </g>\n     <g id=\"text_8\">\n      <!-- 50 -->\n      <g transform=\"translate(13.5625 202.225837)scale(0.1 -0.1)\">\n       <defs>\n        <path d=\"M 10.796875 72.90625 \nL 49.515625 72.90625 \nL 49.515625 64.59375 \nL 19.828125 64.59375 \nL 19.828125 46.734375 \nQ 21.96875 47.46875 24.109375 47.828125 \nQ 26.265625 48.1875 28.421875 48.1875 \nQ 40.625 48.1875 47.75 41.5 \nQ 54.890625 34.8125 54.890625 23.390625 \nQ 54.890625 11.625 47.5625 5.09375 \nQ 40.234375 -1.421875 26.90625 -1.421875 \nQ 22.3125 -1.421875 17.546875 -0.640625 \nQ 12.796875 0.140625 7.71875 1.703125 \nL 7.71875 11.625 \nQ 12.109375 9.234375 16.796875 8.0625 \nQ 21.484375 6.890625 26.703125 6.890625 \nQ 35.15625 6.890625 40.078125 11.328125 \nQ 45.015625 15.765625 45.015625 23.390625 \nQ 45.015625 31 40.078125 35.4375 \nQ 35.15625 39.890625 26.703125 39.890625 \nQ 22.75 39.890625 18.8125 39.015625 \nQ 14.890625 38.140625 10.796875 36.28125 \nz\n\" id=\"DejaVuSans-53\"/>\n       </defs>\n       <use xlink:href=\"#DejaVuSans-53\"/>\n       <use x=\"63.623047\" xlink:href=\"#DejaVuSans-48\"/>\n      </g>\n     </g>\n    </g>\n    <g id=\"ytick_3\">\n     <g id=\"line2d_9\">\n      <g>\n       <use style=\"stroke:#000000;stroke-width:0.8;\" x=\"33.2875\" xlink:href=\"#m70535eec83\" y=\"172.213237\"/>\n      </g>\n     </g>\n     <g id=\"text_9\">\n      <!-- 100 -->\n      <g transform=\"translate(7.2 176.012456)scale(0.1 -0.1)\">\n       <use xlink:href=\"#DejaVuSans-49\"/>\n       <use x=\"63.623047\" xlink:href=\"#DejaVuSans-48\"/>\n       <use x=\"127.246094\" xlink:href=\"#DejaVuSans-48\"/>\n      </g>\n     </g>\n    </g>\n    <g id=\"ytick_4\">\n     <g id=\"line2d_10\">\n      <g>\n       <use style=\"stroke:#000000;stroke-width:0.8;\" x=\"33.2875\" xlink:href=\"#m70535eec83\" y=\"145.999855\"/>\n      </g>\n     </g>\n     <g id=\"text_10\">\n      <!-- 150 -->\n      <g transform=\"translate(7.2 149.799074)scale(0.1 -0.1)\">\n       <use xlink:href=\"#DejaVuSans-49\"/>\n       <use x=\"63.623047\" xlink:href=\"#DejaVuSans-53\"/>\n       <use x=\"127.246094\" xlink:href=\"#DejaVuSans-48\"/>\n      </g>\n     </g>\n    </g>\n    <g id=\"ytick_5\">\n     <g id=\"line2d_11\">\n      <g>\n       <use style=\"stroke:#000000;stroke-width:0.8;\" x=\"33.2875\" xlink:href=\"#m70535eec83\" y=\"119.786474\"/>\n      </g>\n     </g>\n     <g id=\"text_11\">\n      <!-- 200 -->\n      <g transform=\"translate(7.2 123.585693)scale(0.1 -0.1)\">\n       <use xlink:href=\"#DejaVuSans-50\"/>\n       <use x=\"63.623047\" xlink:href=\"#DejaVuSans-48\"/>\n       <use x=\"127.246094\" xlink:href=\"#DejaVuSans-48\"/>\n      </g>\n     </g>\n    </g>\n    <g id=\"ytick_6\">\n     <g id=\"line2d_12\">\n      <g>\n       <use style=\"stroke:#000000;stroke-width:0.8;\" x=\"33.2875\" xlink:href=\"#m70535eec83\" y=\"93.573092\"/>\n      </g>\n     </g>\n     <g id=\"text_12\">\n      <!-- 250 -->\n      <g transform=\"translate(7.2 97.372311)scale(0.1 -0.1)\">\n       <use xlink:href=\"#DejaVuSans-50\"/>\n       <use x=\"63.623047\" xlink:href=\"#DejaVuSans-53\"/>\n       <use x=\"127.246094\" xlink:href=\"#DejaVuSans-48\"/>\n      </g>\n     </g>\n    </g>\n    <g id=\"ytick_7\">\n     <g id=\"line2d_13\">\n      <g>\n       <use style=\"stroke:#000000;stroke-width:0.8;\" x=\"33.2875\" xlink:href=\"#m70535eec83\" y=\"67.359711\"/>\n      </g>\n     </g>\n     <g id=\"text_13\">\n      <!-- 300 -->\n      <g transform=\"translate(7.2 71.158929)scale(0.1 -0.1)\">\n       <defs>\n        <path d=\"M 40.578125 39.3125 \nQ 47.65625 37.796875 51.625 33 \nQ 55.609375 28.21875 55.609375 21.1875 \nQ 55.609375 10.40625 48.1875 4.484375 \nQ 40.765625 -1.421875 27.09375 -1.421875 \nQ 22.515625 -1.421875 17.65625 -0.515625 \nQ 12.796875 0.390625 7.625 2.203125 \nL 7.625 11.71875 \nQ 11.71875 9.328125 16.59375 8.109375 \nQ 21.484375 6.890625 26.8125 6.890625 \nQ 36.078125 6.890625 40.9375 10.546875 \nQ 45.796875 14.203125 45.796875 21.1875 \nQ 45.796875 27.640625 41.28125 31.265625 \nQ 36.765625 34.90625 28.71875 34.90625 \nL 20.21875 34.90625 \nL 20.21875 43.015625 \nL 29.109375 43.015625 \nQ 36.375 43.015625 40.234375 45.921875 \nQ 44.09375 48.828125 44.09375 54.296875 \nQ 44.09375 59.90625 40.109375 62.90625 \nQ 36.140625 65.921875 28.71875 65.921875 \nQ 24.65625 65.921875 20.015625 65.03125 \nQ 15.375 64.15625 9.8125 62.3125 \nL 9.8125 71.09375 \nQ 15.4375 72.65625 20.34375 73.4375 \nQ 25.25 74.21875 29.59375 74.21875 \nQ 40.828125 74.21875 47.359375 69.109375 \nQ 53.90625 64.015625 53.90625 55.328125 \nQ 53.90625 49.265625 50.4375 45.09375 \nQ 46.96875 40.921875 40.578125 39.3125 \nz\n\" id=\"DejaVuSans-51\"/>\n       </defs>\n       <use xlink:href=\"#DejaVuSans-51\"/>\n       <use x=\"63.623047\" xlink:href=\"#DejaVuSans-48\"/>\n       <use x=\"127.246094\" xlink:href=\"#DejaVuSans-48\"/>\n      </g>\n     </g>\n    </g>\n    <g id=\"ytick_8\">\n     <g id=\"line2d_14\">\n      <g>\n       <use style=\"stroke:#000000;stroke-width:0.8;\" x=\"33.2875\" xlink:href=\"#m70535eec83\" y=\"41.146329\"/>\n      </g>\n     </g>\n     <g id=\"text_14\">\n      <!-- 350 -->\n      <g transform=\"translate(7.2 44.945548)scale(0.1 -0.1)\">\n       <use xlink:href=\"#DejaVuSans-51\"/>\n       <use x=\"63.623047\" xlink:href=\"#DejaVuSans-53\"/>\n       <use x=\"127.246094\" xlink:href=\"#DejaVuSans-48\"/>\n      </g>\n     </g>\n    </g>\n    <g id=\"ytick_9\">\n     <g id=\"line2d_15\">\n      <g>\n       <use style=\"stroke:#000000;stroke-width:0.8;\" x=\"33.2875\" xlink:href=\"#m70535eec83\" y=\"14.932948\"/>\n      </g>\n     </g>\n     <g id=\"text_15\">\n      <!-- 400 -->\n      <g transform=\"translate(7.2 18.732166)scale(0.1 -0.1)\">\n       <use xlink:href=\"#DejaVuSans-52\"/>\n       <use x=\"63.623047\" xlink:href=\"#DejaVuSans-48\"/>\n       <use x=\"127.246094\" xlink:href=\"#DejaVuSans-48\"/>\n      </g>\n     </g>\n    </g>\n   </g>\n   <g id=\"patch_13\">\n    <path d=\"M 33.2875 224.64 \nL 33.2875 7.2 \n\" style=\"fill:none;stroke:#000000;stroke-linecap:square;stroke-linejoin:miter;stroke-width:0.8;\"/>\n   </g>\n   <g id=\"patch_14\">\n    <path d=\"M 368.0875 224.64 \nL 368.0875 7.2 \n\" style=\"fill:none;stroke:#000000;stroke-linecap:square;stroke-linejoin:miter;stroke-width:0.8;\"/>\n   </g>\n   <g id=\"patch_15\">\n    <path d=\"M 33.2875 224.64 \nL 368.0875 224.64 \n\" style=\"fill:none;stroke:#000000;stroke-linecap:square;stroke-linejoin:miter;stroke-width:0.8;\"/>\n   </g>\n   <g id=\"patch_16\">\n    <path d=\"M 33.2875 7.2 \nL 368.0875 7.2 \n\" style=\"fill:none;stroke:#000000;stroke-linecap:square;stroke-linejoin:miter;stroke-width:0.8;\"/>\n   </g>\n  </g>\n </g>\n <defs>\n  <clipPath id=\"p54af3fb985\">\n   <rect height=\"217.44\" width=\"334.8\" x=\"33.2875\" y=\"7.2\"/>\n  </clipPath>\n </defs>\n</svg>\n",
      "image/png": "[encoded data removed]"
     },
     "metadata": {
      "needs_background": "light"
     }
    }
   ],
   "source": [
    "import random\n",
    "frequencies = set()\n",
    "sample_raws = set(author_tags.raw)\n",
    "for motif in motifs:\n",
    "    frequencies.add(\n",
    "        sum(1 if motif in text else 0 for text in sample_raws)\n",
    "        / len(sample_raws))\n",
    "plt.hist(frequencies)"
   ]
  },
  {
   "cell_type": "code",
   "execution_count": 38,
   "metadata": {},
   "outputs": [
    {
     "output_type": "execute_result",
     "data": {
      "text/plain": [
       "33292"
      ]
     },
     "metadata": {},
     "execution_count": 38
    }
   ],
   "source": [
    "len(sample_raws)"
   ]
  },
  {
   "cell_type": "code",
   "execution_count": null,
   "metadata": {},
   "outputs": [],
   "source": []
  }
 ]
}