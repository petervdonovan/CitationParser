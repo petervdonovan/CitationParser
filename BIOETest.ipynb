{
 "metadata": {
  "language_info": {
   "codemirror_mode": {
    "name": "ipython",
    "version": 3
   },
   "file_extension": ".py",
   "mimetype": "text/x-python",
   "name": "python",
   "nbconvert_exporter": "python",
   "pygments_lexer": "ipython3",
   "version": "3.8.5-final"
  },
  "orig_nbformat": 2,
  "kernelspec": {
   "name": "python3",
   "display_name": "Python 3",
   "language": "python"
  }
 },
 "nbformat": 4,
 "nbformat_minor": 2,
 "cells": [
  {
   "source": [
    "# BIOETest"
   ],
   "cell_type": "markdown",
   "metadata": {}
  },
  {
   "cell_type": "code",
   "execution_count": 4,
   "metadata": {},
   "outputs": [],
   "source": [
    "import os\n",
    "import pickle\n",
    "\n",
    "from MotifFeatures.Labels.BIOELabel import minimal_matching_substring\n",
    "from MotifFeatures.Labels.BIOELabel import BIOELabel"
   ]
  },
  {
   "cell_type": "code",
   "execution_count": 2,
   "metadata": {},
   "outputs": [
    {
     "output_type": "stream",
     "name": "stdout",
     "text": [
      "cat in the hat -> cat, in the hAt\nJanice Collins? -> Janice Collins\ndog in a the Nighttime -> Dog in the Nighttime\ncarlos -> Carlos\nThe Animal Queen -> the animal queen\nCould not find a match.\nNantucket, MA. -> Nantucket, MA\n"
     ]
    }
   ],
   "source": [
    "for text, substr in [\n",
    "    ('the cat, in the hAt...', 'cat in the hat'),\n",
    "    ('erica Janice Collins hamming', 'Janice Collins?'),\n",
    "    ('I propose that we title our work \"The Curious Incident of the Dog in the Nighttime\". (1956).', 'dog in a the Nighttime'),\n",
    "    ('My name is Carlos.', 'carlos'),\n",
    "    ('hallie Ross, the animal queen', 'The Animal Queen'),\n",
    "    ('All my friends are horses. Lets fly a kite.', 'Let\\'s fly a kite.'),\n",
    "    ('We all live in Nantucket, MA. How about you?', 'Nantucket, MA.')\n",
    "]:\n",
    "    start, stop = minimal_matching_substring(text, substr)\n",
    "    if start is not None and stop is not None:\n",
    "        print(substr + ' -> ' + text[start:stop])\n",
    "    else:\n",
    "        print('Could not find a match.')"
   ]
  },
  {
   "cell_type": "code",
   "execution_count": 10,
   "metadata": {},
   "outputs": [
    {
     "output_type": "execute_result",
     "data": {
      "text/plain": [
       "                                                 raw  \\\n",
       "1  Knechtle, B, Knechtle, P, Schulze, I, Kohler, ...   \n",
       "4  Schooler, J. (2011). Unpublished results hide ...   \n",
       "\n",
       "                      author  year  \\\n",
       "1  Knechtle, B.; Schulze, I.  2008   \n",
       "4         Schooler, Jonathan  2011   \n",
       "\n",
       "                                               title  \n",
       "1  Ernährungsverhalten Bei Ultraläufern - Deutsch...  \n",
       "4        Unpublished Results Hide The Decline Effect  "
      ],
      "text/html": "<div>\n<style scoped>\n    .dataframe tbody tr th:only-of-type {\n        vertical-align: middle;\n    }\n\n    .dataframe tbody tr th {\n        vertical-align: top;\n    }\n\n    .dataframe thead th {\n        text-align: right;\n    }\n</style>\n<table border=\"1\" class=\"dataframe\">\n  <thead>\n    <tr style=\"text-align: right;\">\n      <th></th>\n      <th>raw</th>\n      <th>author</th>\n      <th>year</th>\n      <th>title</th>\n    </tr>\n  </thead>\n  <tbody>\n    <tr>\n      <th>1</th>\n      <td>Knechtle, B, Knechtle, P, Schulze, I, Kohler, ...</td>\n      <td>Knechtle, B.; Schulze, I.</td>\n      <td>2008</td>\n      <td>Ernährungsverhalten Bei Ultraläufern - Deutsch...</td>\n    </tr>\n    <tr>\n      <th>4</th>\n      <td>Schooler, J. (2011). Unpublished results hide ...</td>\n      <td>Schooler, Jonathan</td>\n      <td>2011</td>\n      <td>Unpublished Results Hide The Decline Effect</td>\n    </tr>\n  </tbody>\n</table>\n</div>"
     },
     "metadata": {},
     "execution_count": 10
    }
   ],
   "source": [
    "db_path = os.path.join('datasets', 'occ_45K_train.pickle')\n",
    "with open(db_path, 'rb') as dbfile:\n",
    "    db = pickle.load(dbfile)\n",
    "db.head(2)"
   ]
  },
  {
   "cell_type": "code",
   "execution_count": 17,
   "metadata": {
    "tags": []
   },
   "outputs": [
    {
     "output_type": "stream",
     "name": "stdout",
     "text": [
      "\n~ Authors ~\nRaw: Müller, V, et al;. Swiss HIV Cohort Study. 2006 Stable virulence levels in the HIV epidemic of Switzerland over two decades. AIDS 20, 889–894. (doi:10.1097/01.aids.0000218553.51908.6b) PMID: 16549973\nB:   1000000000000000000000000000000000000000000000000000000000000000000000000000000000000000000000000000000000000000000000000000000000000000000000000000000000000000000000000000000000000000000000000000000\nI:   0111110000000000000000000000000000000000000000000000000000000000000000000000000000000000000000000000000000000000000000000000000000000000000000000000000000000000000000000000000000000000000000000000000\nO:   0000001111111111111111111111111111111111111111111111111111111111111111111111111111111111111111111111111111111111111111111111111111111111111111111111111111111111111111111111111111111111111111111111111\nE:   0000001000000000000000000000000000000000000000000000000000000000000000000000000000000000000000000000000000000000000000000000000000000000000000000000000000000000000000000000000000000000000000000000000\n\n~ Authors ~\nRaw: Cossart, P, Jonquières, R. Proc Natl Acad Sci, 2000, 97, 5013, PMID: 10805759\nB:   10000000000000000000000000000000000000000000000000000000000000000000000000000\nI:   01111110000000000000000000000000000000000000000000000000000000000000000000000\nO:   00000001111111111111111111111111111111111111111111111111111111111111111111111\nE:   00000001000000000000000000000000000000000000000000000000000000000000000000000\n\n~ Authors ~\nRaw: Baldassar, L, Merla, L. Transnational families, migration and the circulation of care: understanding mobility and absence in family life, 2014, New York, Routledge\nB:   0000000000000000000000000000000000000000000000000000000000000000000000000000000000000000000000000000000000000000000000000000000000000000000000000000000000000000000\nI:   0000000000000000000000000000000000000000000000000000000000000000000000000000000000000000000000000000000000000000000000000000000000000000000000000000000000000000000\nO:   1111111111111111111111111111111111111111111111111111111111111111111111111111111111111111111111111111111111111111111111111111111111111111111111111111111111111111111\nE:   0000000000000000000000000000000000000000000000000000000000000000000000000000000000000000000000000000000000000000000000000000000000000000000000000000000000000000000\n\n~ Authors ~\nRaw: Chan, PS, Schlueter, AE, Coussens, PM, Rosa, GJ, Haut, RC, Orth, MW. Gene expression profile of mechanically impacted bovine articular cartilage explants. J Orthop Res. 2005; 23: 1146-51. PMID: 16140194\nB:   1000000000100000000000000100000000000001000000000100000000010000000000000000000000000000000000000000000000000000000000000000000000000000000000000000000000000000000000000000000000000000000000000000000000\nI:   0111000000011111111000000011111110000000111000000011100000001110000000000000000000000000000000000000000000000000000000000000000000000000000000000000000000000000000000000000000000000000000000000000000000\nO:   0000111111000000000111111000000001111110000111111000011111100001111111111111111111111111111111111111111111111111111111111111111111111111111111111111111111111111111111111111111111111111111111111111111111\nE:   0000100000000000000100000000000001000000000100000000010000000001000000000000000000000000000000000000000000000000000000000000000000000000000000000000000000000000000000000000000000000000000000000000000000\n\n~ Authors ~\nRaw: Greenberg ER, Anderson GL, Morgan DR, et al. 14 day triple, 5-day concomitant, and 10-day sequential therapies for Helicobacter pylori infection in seven Latin American sites: a randomised trial. Lancet 2011; 378: 507-14. PMID: 21777974\nB:   10000000000000100000000000010000000000000000000000000000000000000000000000000000000000000000000000000000000000000000000000000000000000000000000000000000000000000000000000000000000000000000000000000000000000000000000000000000000000000000\nI:   01111111100000011111110000001111100000000000000000000000000000000000000000000000000000000000000000000000000000000000000000000000000000000000000000000000000000000000000000000000000000000000000000000000000000000000000000000000000000000000\nO:   00000000011111000000001111100000011111111111111111111111111111111111111111111111111111111111111111111111111111111111111111111111111111111111111111111111111111111111111111111111111111111111111111111111111111111111111111111111111111111111\nE:   00000000010000000000001000000000010000000000000000000000000000000000000000000000000000000000000000000000000000000000000000000000000000000000000000000000000000000000000000000000000000000000000000000000000000000000000000000000000000000000\n"
     ]
    },
    {
     "output_type": "execute_result",
     "data": {
      "text/plain": [
       "14959    None\n",
       "30513    None\n",
       "10768    None\n",
       "15410    None\n",
       "26388    None\n",
       "dtype: object"
      ]
     },
     "metadata": {},
     "execution_count": 17
    }
   ],
   "source": [
    "def print_tags(row):\n",
    "    \"\"\"Print the BIOE tags that would be assigned to a row from a\n",
    "    dataset.\n",
    "    \"\"\"\n",
    "    authors_label = BIOELabel(row.raw, row.author.surnames())\n",
    "    print()\n",
    "    print('~ Authors ~')\n",
    "    print('Raw: ' + row.raw)\n",
    "    for tag, method in [\n",
    "            ('B', authors_label.B_tags),\n",
    "            ('I', authors_label.I_tags),\n",
    "            ('O', authors_label.O_tags),\n",
    "            ('E', authors_label.E_tags)]:\n",
    "        print(tag + ':   ' + ''.join([str(round(num)) for num in method()]))\n",
    "db.sample(5).apply(print_tags, axis=1)"
   ]
  },
  {
   "cell_type": "code",
   "execution_count": null,
   "metadata": {},
   "outputs": [],
   "source": []
  }
 ]
}