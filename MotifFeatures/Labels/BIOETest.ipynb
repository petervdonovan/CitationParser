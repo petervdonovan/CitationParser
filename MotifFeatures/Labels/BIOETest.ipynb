{
 "metadata": {
  "language_info": {
   "codemirror_mode": {
    "name": "ipython",
    "version": 3
   },
   "file_extension": ".py",
   "mimetype": "text/x-python",
   "name": "python",
   "nbconvert_exporter": "python",
   "pygments_lexer": "ipython3",
   "version": "3.8.5-final"
  },
  "orig_nbformat": 2,
  "kernelspec": {
   "name": "python38564bitenvvenvd094dc057696406da6d738b5300066c2",
   "display_name": "Python 3.8.5 64-bit ('env': venv)",
   "language": "python"
  }
 },
 "nbformat": 4,
 "nbformat_minor": 2,
 "cells": [
  {
   "source": [
    "# BIOESTest"
   ],
   "cell_type": "markdown",
   "metadata": {}
  },
  {
   "cell_type": "code",
   "execution_count": 1,
   "metadata": {},
   "outputs": [],
   "source": [
    "from BIOESLabel import minimal_matching_substring"
   ]
  },
  {
   "cell_type": "code",
   "execution_count": 3,
   "metadata": {},
   "outputs": [
    {
     "output_type": "stream",
     "name": "stdout",
     "text": [
      "cat in the hat -> cat, in the hAt\nJanice Collins? -> Janice Collins\ndog in a the Nighttime -> Dog in the Nighttime\ncarlos -> Carlos\nThe Animal Queen -> the animal queen\nCould not find a match.\nNantucket, MA. -> Nantucket, MA\n"
     ]
    }
   ],
   "source": [
    "for text, substr in [\n",
    "    ('the cat, in the hAt...', 'cat in the hat'),\n",
    "    ('erica Janice Collins hamming', 'Janice Collins?'),\n",
    "    ('I propose that we title our work \"The Curious Incident of the Dog in the Nighttime\". (1956).', 'dog in a the Nighttime'),\n",
    "    ('My name is Carlos.', 'carlos'),\n",
    "    ('hallie Ross, the animal queen', 'The Animal Queen'),\n",
    "    ('All my friends are horses. Lets fly a kite.', 'Let\\'s fly a kite.'),\n",
    "    ('We all live in Nantucket, MA. How about you?', 'Nantucket, MA.')\n",
    "]:\n",
    "    start, stop = minimal_matching_substring(text, substr)\n",
    "    if start is not None and stop is not None:\n",
    "        print(substr + ' -> ' + text[start:stop])\n",
    "    else:\n",
    "        print('Could not find a match.')"
   ]
  },
  {
   "cell_type": "code",
   "execution_count": null,
   "metadata": {},
   "outputs": [],
   "source": []
  }
 ]
}